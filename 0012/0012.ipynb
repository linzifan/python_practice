{
 "metadata": {
  "name": "",
  "signature": "sha256:d4c88b8b58a751adb2e77415d61e5aa7cf4c27d4ea1404209e9845244129101e"
 },
 "nbformat": 3,
 "nbformat_minor": 0,
 "worksheets": [
  {
   "cells": [
    {
     "cell_type": "markdown",
     "metadata": {},
     "source": [
      "\u654f\u611f\u8bcd\u6587\u672c\u6587\u4ef6 filtered_words.txt\uff0c\u5f53\u7528\u6237\u8f93\u5165\u654f\u611f\u8bcd\u8bed\uff0c\u5219\u7528 \u661f\u53f7 \\* \u66ff\u6362\uff0c\u4f8b\u5982\u5f53\u7528\u6237\u8f93\u5165\u300c\u5317\u4eac\u662f\u4e2a\u597d\u57ce\u5e02\u300d\uff0c\u5219\u53d8\u6210\u300c\\*\\*\u662f\u4e2a\u597d\u57ce\u5e02\u300d\u3002"
     ]
    },
    {
     "cell_type": "code",
     "collapsed": false,
     "input": [
      "import string\n",
      "content = raw_input(\"> \")\n",
      "filtered = open('filtered_words.txt','r')\n",
      "filtered_list = []\n",
      "for line in filtered:\n",
      "    filtered_list.append(line.strip('\\n'))\n",
      "for word in filtered_list:\n",
      "    content = string.replace(content, word, \"*\"*len(word.decode('utf-8')))\n",
      "print content"
     ],
     "language": "python",
     "metadata": {},
     "outputs": [
      {
       "name": "stdout",
       "output_type": "stream",
       "stream": "stdout",
       "text": [
        "> beijings \u5317\u4eac\u5e02\u7a0b\u5e8f\u5458 \u516c\u52a1\u5458 sex \u6309\u70b9 e\n"
       ]
      },
      {
       "output_type": "stream",
       "stream": "stdout",
       "text": [
        "beijings **\u5e02*** *** *** \u6309\u70b9 e\n"
       ]
      }
     ],
     "prompt_number": 13
    },
    {
     "cell_type": "code",
     "collapsed": false,
     "input": [
      "%save 0012.py 13"
     ],
     "language": "python",
     "metadata": {},
     "outputs": [
      {
       "output_type": "stream",
       "stream": "stdout",
       "text": [
        "The following commands were written to file `0012.py`:\n",
        "import string\n",
        "content = raw_input(\"> \")\n",
        "filtered = open('filtered_words.txt','r')\n",
        "filtered_list = []\n",
        "for line in filtered:\n",
        "    filtered_list.append(line.strip('\\n'))\n",
        "for word in filtered_list:\n",
        "    content = string.replace(content, word, \"*\"*len(word.decode('utf-8')))\n",
        "print content\n"
       ]
      }
     ],
     "prompt_number": 14
    },
    {
     "cell_type": "code",
     "collapsed": false,
     "input": [
      "#-*- coding: utf-8-*-\n",
      "import string\n",
      "content = raw_input(\"> \")\n",
      "filtered = open('filtered_words.txt','r')\n",
      "filtered_list = []\n",
      "for line in filtered:\n",
      "    filtered_list.append(line.strip('\\n'))\n",
      "# print filtered_list   \n",
      "# print content in filtered_list\n",
      "# content_list = content.split()\n",
      "for word in filtered_list:\n",
      "    content = string.replace(content, word, \"*\"*len(word.decode('utf-8')))\n",
      "print content\n",
      "# print len(content.decode('utf-8'))\n",
      "# print content_list\n",
      "# print content_list[0].encode('utf-8')"
     ],
     "language": "python",
     "metadata": {},
     "outputs": [
      {
       "name": "stdout",
       "output_type": "stream",
       "stream": "stdout",
       "text": [
        "\u5317\u4eac\u5e02\u533a\u4ea7\u7a0b\u5e8f\u5458\n"
       ]
      },
      {
       "output_type": "stream",
       "stream": "stdout",
       "text": [
        "False\n",
        "**\u5e02\u533a\u4ea7***\n"
       ]
      }
     ],
     "prompt_number": 11
    },
    {
     "cell_type": "code",
     "collapsed": false,
     "input": [
      "def filter_word(input_word):\n",
      "\tinput_word = input_word.split()\n",
      "\tfilter_word_list = []\n",
      "\twith open('filtered_words.txt','r') as f:\n",
      "\t\tfor content in f:\n",
      "\t\t\tfilter_word_list.append(content.strip('\\n'))\n",
      "\treturn filter_word_list\n",
      "\n",
      "if __name__ == '__main__':\n",
      "\tinput_words = raw_input('Input some words')\n",
      "\tinput_words_list = input_words.split()\n",
      "\tfilter_word_list = filter_word(input_words)\n",
      "\t\n",
      "\twords_string=''\n",
      "\tfor word in input_words_list:\n",
      "\t\tif word in filter_word_list:\n",
      "\t\t\tword = '*'*len(word.decode('utf-8'))\n",
      "\t\twords_string += word + ' '\n",
      "\tprint(words_string)"
     ],
     "language": "python",
     "metadata": {},
     "outputs": [
      {
       "name": "stdout",
       "output_type": "stream",
       "stream": "stdout",
       "text": [
        "Input some words\u5317\u4eac\u662f\u4e2a\n"
       ]
      },
      {
       "output_type": "stream",
       "stream": "stdout",
       "text": [
        "\u5317\u4eac\u662f\u4e2a \n"
       ]
      }
     ],
     "prompt_number": 41
    },
    {
     "cell_type": "code",
     "collapsed": false,
     "input": [
      "import sys\n",
      "print sys.getdefaultencoding()\n",
      "import locale\n",
      "print locale.getpreferredencoding()"
     ],
     "language": "python",
     "metadata": {},
     "outputs": [
      {
       "output_type": "stream",
       "stream": "stdout",
       "text": [
        "ascii\n",
        "UTF-8\n"
       ]
      }
     ],
     "prompt_number": 23
    },
    {
     "cell_type": "code",
     "collapsed": false,
     "input": [
      "# coding:utf-8\n",
      "u=u'This string includes an \u20ac sign'\n",
      "print u"
     ],
     "language": "python",
     "metadata": {},
     "outputs": [
      {
       "output_type": "stream",
       "stream": "stdout",
       "text": [
        "This string includes an \u20ac sign\n"
       ]
      }
     ],
     "prompt_number": 21
    },
    {
     "cell_type": "code",
     "collapsed": false,
     "input": [
      "tokyo='\u6771\u4eac'\n",
      "print len(tokyo.decode(\"utf-8\"))"
     ],
     "language": "python",
     "metadata": {},
     "outputs": [
      {
       "output_type": "stream",
       "stream": "stdout",
       "text": [
        "2\n"
       ]
      }
     ],
     "prompt_number": 30
    },
    {
     "cell_type": "code",
     "collapsed": false,
     "input": [
      "print len(tokyo)"
     ],
     "language": "python",
     "metadata": {},
     "outputs": [
      {
       "output_type": "stream",
       "stream": "stdout",
       "text": [
        "6\n"
       ]
      }
     ],
     "prompt_number": 26
    },
    {
     "cell_type": "code",
     "collapsed": false,
     "input": [
      "import string\n",
      "\n",
      "class Filter:\n",
      "    def __init__(self):\n",
      "        self.data = []\n",
      "        try:\n",
      "            with open(\"filtered_words.txt\", 'r') as fin:\n",
      "                self.data = (fin.read().splitlines())\n",
      "                fin.close()\n",
      "        except:\n",
      "            raise IOError\n",
      "\n",
      "    def check(self, checkword):\n",
      "        result = \"\"\n",
      "        for word in self.data:\n",
      "            temp = string.replace(checkword, word, \"**\")\n",
      "            if temp != checkword:\n",
      "                result = temp\n",
      "        if not result:\n",
      "            result = checkword\n",
      "        return result\n",
      "\n",
      "def main():\n",
      "    try:\n",
      "        fil = Filter()\n",
      "    except:\n",
      "        print \"ERROR OPENING FILE\"\n",
      "        return\n",
      "\n",
      "    while True:\n",
      "        word = raw_input(\"> \")\n",
      "        word = fil.check(word)\n",
      "        print word\n",
      "\n",
      "if __name__ == \"__main__\":\n",
      "    main()"
     ],
     "language": "python",
     "metadata": {},
     "outputs": [
      {
       "ename": "KeyboardInterrupt",
       "evalue": "",
       "output_type": "pyerr",
       "traceback": [
        "\u001b[0;31m---------------------------------------------------------------------------\u001b[0m\n\u001b[0;31mKeyboardInterrupt\u001b[0m                         Traceback (most recent call last)",
        "\u001b[0;32m<ipython-input-1-f44e15a7d206>\u001b[0m in \u001b[0;36m<module>\u001b[0;34m()\u001b[0m\n\u001b[1;32m     34\u001b[0m \u001b[0;34m\u001b[0m\u001b[0m\n\u001b[1;32m     35\u001b[0m \u001b[0;32mif\u001b[0m \u001b[0m__name__\u001b[0m \u001b[0;34m==\u001b[0m \u001b[0;34m\"__main__\"\u001b[0m\u001b[0;34m:\u001b[0m\u001b[0;34m\u001b[0m\u001b[0m\n\u001b[0;32m---> 36\u001b[0;31m     \u001b[0mmain\u001b[0m\u001b[0;34m(\u001b[0m\u001b[0;34m)\u001b[0m\u001b[0;34m\u001b[0m\u001b[0m\n\u001b[0m",
        "\u001b[0;32m<ipython-input-1-f44e15a7d206>\u001b[0m in \u001b[0;36mmain\u001b[0;34m()\u001b[0m\n\u001b[1;32m     29\u001b[0m \u001b[0;34m\u001b[0m\u001b[0m\n\u001b[1;32m     30\u001b[0m     \u001b[0;32mwhile\u001b[0m \u001b[0mTrue\u001b[0m\u001b[0;34m:\u001b[0m\u001b[0;34m\u001b[0m\u001b[0m\n\u001b[0;32m---> 31\u001b[0;31m         \u001b[0mword\u001b[0m \u001b[0;34m=\u001b[0m \u001b[0mraw_input\u001b[0m\u001b[0;34m(\u001b[0m\u001b[0;34m\"> \"\u001b[0m\u001b[0;34m)\u001b[0m\u001b[0;34m\u001b[0m\u001b[0m\n\u001b[0m\u001b[1;32m     32\u001b[0m         \u001b[0mword\u001b[0m \u001b[0;34m=\u001b[0m \u001b[0mfil\u001b[0m\u001b[0;34m.\u001b[0m\u001b[0mcheck\u001b[0m\u001b[0;34m(\u001b[0m\u001b[0mword\u001b[0m\u001b[0;34m)\u001b[0m\u001b[0;34m\u001b[0m\u001b[0m\n\u001b[1;32m     33\u001b[0m         \u001b[0;32mprint\u001b[0m \u001b[0mword\u001b[0m\u001b[0;34m\u001b[0m\u001b[0m\n",
        "\u001b[0;32m/Users/linzifan/anaconda/lib/python2.7/site-packages/IPython/kernel/zmq/ipkernel.pyc\u001b[0m in \u001b[0;36m<lambda>\u001b[0;34m(prompt)\u001b[0m\n\u001b[1;32m    361\u001b[0m         \u001b[0;31m# raw_input in the user namespace.\u001b[0m\u001b[0;34m\u001b[0m\u001b[0;34m\u001b[0m\u001b[0m\n\u001b[1;32m    362\u001b[0m         \u001b[0;32mif\u001b[0m \u001b[0mcontent\u001b[0m\u001b[0;34m.\u001b[0m\u001b[0mget\u001b[0m\u001b[0;34m(\u001b[0m\u001b[0;34m'allow_stdin'\u001b[0m\u001b[0;34m,\u001b[0m \u001b[0mFalse\u001b[0m\u001b[0;34m)\u001b[0m\u001b[0;34m:\u001b[0m\u001b[0;34m\u001b[0m\u001b[0m\n\u001b[0;32m--> 363\u001b[0;31m             \u001b[0mraw_input\u001b[0m \u001b[0;34m=\u001b[0m \u001b[0;32mlambda\u001b[0m \u001b[0mprompt\u001b[0m\u001b[0;34m=\u001b[0m\u001b[0;34m''\u001b[0m\u001b[0;34m:\u001b[0m \u001b[0mself\u001b[0m\u001b[0;34m.\u001b[0m\u001b[0m_raw_input\u001b[0m\u001b[0;34m(\u001b[0m\u001b[0mprompt\u001b[0m\u001b[0;34m,\u001b[0m \u001b[0mident\u001b[0m\u001b[0;34m,\u001b[0m \u001b[0mparent\u001b[0m\u001b[0;34m)\u001b[0m\u001b[0;34m\u001b[0m\u001b[0m\n\u001b[0m\u001b[1;32m    364\u001b[0m             \u001b[0minput\u001b[0m \u001b[0;34m=\u001b[0m \u001b[0;32mlambda\u001b[0m \u001b[0mprompt\u001b[0m\u001b[0;34m=\u001b[0m\u001b[0;34m''\u001b[0m\u001b[0;34m:\u001b[0m \u001b[0meval\u001b[0m\u001b[0;34m(\u001b[0m\u001b[0mraw_input\u001b[0m\u001b[0;34m(\u001b[0m\u001b[0mprompt\u001b[0m\u001b[0;34m)\u001b[0m\u001b[0;34m)\u001b[0m\u001b[0;34m\u001b[0m\u001b[0m\n\u001b[1;32m    365\u001b[0m         \u001b[0;32melse\u001b[0m\u001b[0;34m:\u001b[0m\u001b[0;34m\u001b[0m\u001b[0m\n",
        "\u001b[0;32m/Users/linzifan/anaconda/lib/python2.7/site-packages/IPython/kernel/zmq/ipkernel.pyc\u001b[0m in \u001b[0;36m_raw_input\u001b[0;34m(self, prompt, ident, parent)\u001b[0m\n\u001b[1;32m    763\u001b[0m             \u001b[0;32mexcept\u001b[0m \u001b[0mKeyboardInterrupt\u001b[0m\u001b[0;34m:\u001b[0m\u001b[0;34m\u001b[0m\u001b[0m\n\u001b[1;32m    764\u001b[0m                 \u001b[0;31m# re-raise KeyboardInterrupt, to truncate traceback\u001b[0m\u001b[0;34m\u001b[0m\u001b[0;34m\u001b[0m\u001b[0m\n\u001b[0;32m--> 765\u001b[0;31m                 \u001b[0;32mraise\u001b[0m \u001b[0mKeyboardInterrupt\u001b[0m\u001b[0;34m\u001b[0m\u001b[0m\n\u001b[0m\u001b[1;32m    766\u001b[0m             \u001b[0;32melse\u001b[0m\u001b[0;34m:\u001b[0m\u001b[0;34m\u001b[0m\u001b[0m\n\u001b[1;32m    767\u001b[0m                 \u001b[0;32mbreak\u001b[0m\u001b[0;34m\u001b[0m\u001b[0m\n",
        "\u001b[0;31mKeyboardInterrupt\u001b[0m: "
       ]
      }
     ],
     "prompt_number": 1
    },
    {
     "cell_type": "code",
     "collapsed": false,
     "input": [],
     "language": "python",
     "metadata": {},
     "outputs": []
    }
   ],
   "metadata": {}
  }
 ]
}