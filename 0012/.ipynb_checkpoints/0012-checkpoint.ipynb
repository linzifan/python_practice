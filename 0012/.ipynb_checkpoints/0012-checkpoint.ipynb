{
 "metadata": {
  "name": "",
  "signature": "sha256:3f7513a97acfd3721856043f02c9ed3788ea17faa6da6548fbdf9a0af8c738a3"
 },
 "nbformat": 3,
 "nbformat_minor": 0,
 "worksheets": [
  {
   "cells": [
    {
     "cell_type": "markdown",
     "metadata": {},
     "source": [
      "\u654f\u611f\u8bcd\u6587\u672c\u6587\u4ef6 filtered_words.txt\uff0c\u5f53\u7528\u6237\u8f93\u5165\u654f\u611f\u8bcd\u8bed\uff0c\u5219\u7528 \u661f\u53f7 \\* \u66ff\u6362\uff0c\u4f8b\u5982\u5f53\u7528\u6237\u8f93\u5165\u300c\u5317\u4eac\u662f\u4e2a\u597d\u57ce\u5e02\u300d\uff0c\u5219\u53d8\u6210\u300c\\*\\*\u662f\u4e2a\u597d\u57ce\u5e02\u300d\u3002"
     ]
    },
    {
     "cell_type": "code",
     "collapsed": false,
     "input": [
      "#-*- coding: utf-8-*-\n",
      "content = raw_input()\n",
      "filtered = open('filtered_words.txt','r')\n",
      "filtered_list = []\n",
      "for line in filtered:\n",
      "    filtered_list.append(line.strip('\\n'))\n",
      "print filtered_list   \n",
      "print content in filtered_list\n",
      "content_list = content.split()\n",
      "print content_list\n",
      "# print len(content.decode('utf-8'))\n",
      "# print content_list\n",
      "# print content_list[0].encode('utf-8')"
     ],
     "language": "python",
     "metadata": {},
     "outputs": [
      {
       "name": "stdout",
       "output_type": "stream",
       "stream": "stdout",
       "text": [
        "\u5317\u4eac\n"
       ]
      },
      {
       "output_type": "stream",
       "stream": "stdout",
       "text": [
        "['\\xe5\\x8c\\x97\\xe4\\xba\\xac', '\\xe7\\xa8\\x8b\\xe5\\xba\\x8f\\xe5\\x91\\x98', '\\xe5\\x85\\xac\\xe5\\x8a\\xa1\\xe5\\x91\\x98', '\\xe9\\xa2\\x86\\xe5\\xaf\\xbc', '\\xe7\\x89\\x9b\\xe6\\xaf\\x94', '\\xe7\\x89\\x9b\\xe9\\x80\\xbc', '\\xe4\\xbd\\xa0\\xe5\\xa8\\x98', '\\xe4\\xbd\\xa0\\xe5\\xa6\\x88', 'love', 'sex', 'jiangge']\n",
        "True\n",
        "['\\xe5\\x8c\\x97\\xe4\\xba\\xac']\n"
       ]
      }
     ],
     "prompt_number": 62
    },
    {
     "cell_type": "code",
     "collapsed": false,
     "input": [
      "def filter_word(input_word):\n",
      "\tinput_word = input_word.split()\n",
      "\tfilter_word_list = []\n",
      "\twith open('filtered_words.txt','r') as f:\n",
      "\t\tfor content in f:\n",
      "\t\t\tfilter_word_list.append(content.strip('\\n'))\n",
      "\treturn filter_word_list\n",
      "\n",
      "if __name__ == '__main__':\n",
      "\tinput_words = raw_input('Input some words')\n",
      "\tinput_words_list = input_words.split()\n",
      "\tfilter_word_list = filter_word(input_words)\n",
      "\t\n",
      "\twords_string=''\n",
      "\tfor word in input_words_list:\n",
      "\t\tif word in filter_word_list:\n",
      "\t\t\tword = '*'*len(word.decode('utf-8'))\n",
      "\t\twords_string += word + ' '\n",
      "\tprint(words_string)"
     ],
     "language": "python",
     "metadata": {},
     "outputs": [
      {
       "name": "stdout",
       "output_type": "stream",
       "stream": "stdout",
       "text": [
        "Input some words\u5317\u4eac\u662f\u4e2a\n"
       ]
      },
      {
       "output_type": "stream",
       "stream": "stdout",
       "text": [
        "\u5317\u4eac\u662f\u4e2a \n"
       ]
      }
     ],
     "prompt_number": 41
    },
    {
     "cell_type": "code",
     "collapsed": false,
     "input": [
      "import sys\n",
      "print sys.getdefaultencoding()\n",
      "import locale\n",
      "print locale.getpreferredencoding()"
     ],
     "language": "python",
     "metadata": {},
     "outputs": [
      {
       "output_type": "stream",
       "stream": "stdout",
       "text": [
        "ascii\n",
        "UTF-8\n"
       ]
      }
     ],
     "prompt_number": 23
    },
    {
     "cell_type": "code",
     "collapsed": false,
     "input": [
      "# coding:utf-8\n",
      "u=u'This string includes an \u20ac sign'\n",
      "print u"
     ],
     "language": "python",
     "metadata": {},
     "outputs": [
      {
       "output_type": "stream",
       "stream": "stdout",
       "text": [
        "This string includes an \u20ac sign\n"
       ]
      }
     ],
     "prompt_number": 21
    },
    {
     "cell_type": "code",
     "collapsed": false,
     "input": [
      "tokyo='\u6771\u4eac'\n",
      "print len(tokyo.decode(\"utf-8\"))"
     ],
     "language": "python",
     "metadata": {},
     "outputs": [
      {
       "output_type": "stream",
       "stream": "stdout",
       "text": [
        "2\n"
       ]
      }
     ],
     "prompt_number": 30
    },
    {
     "cell_type": "code",
     "collapsed": false,
     "input": [
      "print len(tokyo)"
     ],
     "language": "python",
     "metadata": {},
     "outputs": [
      {
       "output_type": "stream",
       "stream": "stdout",
       "text": [
        "6\n"
       ]
      }
     ],
     "prompt_number": 26
    },
    {
     "cell_type": "code",
     "collapsed": false,
     "input": [
      "import string\n",
      "\n",
      "class Filter:\n",
      "    def __init__(self):\n",
      "        self.data = []\n",
      "        try:\n",
      "            with open(\"filtered_words.txt\", 'r') as fin:\n",
      "                self.data = (fin.read().splitlines())\n",
      "                fin.close()\n",
      "        except:\n",
      "            raise IOError\n",
      "\n",
      "    def check(self, checkword):\n",
      "        result = \"\"\n",
      "        for word in self.data:\n",
      "            temp = string.replace(checkword, word, \"**\")\n",
      "            if temp != checkword:\n",
      "                result = temp\n",
      "        if not result:\n",
      "            result = checkword\n",
      "        return result\n",
      "\n",
      "def main():\n",
      "    try:\n",
      "        fil = Filter()\n",
      "    except:\n",
      "        print \"ERROR OPENING FILE\"\n",
      "        return\n",
      "\n",
      "    while True:\n",
      "        word = raw_input(\"> \")\n",
      "        word = fil.check(word)\n",
      "        print word\n",
      "\n",
      "if __name__ == \"__main__\":\n",
      "    main()"
     ],
     "language": "python",
     "metadata": {},
     "outputs": [
      {
       "name": "stdout",
       "output_type": "stream",
       "stream": "stdout",
       "text": [
        "> \u7ed9\u51e0\u4e2ai\u5317\u4eac\n"
       ]
      },
      {
       "output_type": "stream",
       "stream": "stdout",
       "text": [
        "\u7ed9\u51e0\u4e2ai**\n"
       ]
      },
      {
       "name": "stdout",
       "output_type": "stream",
       "stream": "stdout",
       "text": [
        "> \u98de\u56fd\u5185\u5404 \u88ab\u51e0\u4e2ahi\u5317\u4eac\n"
       ]
      },
      {
       "output_type": "stream",
       "stream": "stdout",
       "text": [
        "\u98de\u56fd\u5185\u5404 \u88ab\u51e0\u4e2ahi**\n"
       ]
      },
      {
       "name": "stdout",
       "output_type": "stream",
       "stream": "stdout",
       "text": [
        "> beinegi \u5317\u4eac \u9886\u5bfc \u5c3c\u739b\n"
       ]
      },
      {
       "output_type": "stream",
       "stream": "stdout",
       "text": [
        "beinegi \u5317\u4eac ** \u5c3c\u739b\n"
       ]
      },
      {
       "name": "stdout",
       "output_type": "stream",
       "stream": "stdout",
       "text": [
        "> \u5317\u4eac \u7a0b\u5e8f\u5458 \u516c\u52a1\u5458\n"
       ]
      },
      {
       "output_type": "stream",
       "stream": "stdout",
       "text": [
        "\u5317\u4eac \u7a0b\u5e8f\u5458 **\n"
       ]
      }
     ]
    },
    {
     "cell_type": "code",
     "collapsed": false,
     "input": [],
     "language": "python",
     "metadata": {},
     "outputs": []
    }
   ],
   "metadata": {}
  }
 ]
}