{
 "metadata": {
  "name": "",
  "signature": "sha256:419be8ff1fb080c610c3bcef898d25fbed4d653ab292d44c7d2fd2e16a30459e"
 },
 "nbformat": 3,
 "nbformat_minor": 0,
 "worksheets": [
  {
   "cells": [
    {
     "cell_type": "code",
     "collapsed": false,
     "input": [
      "import random"
     ],
     "language": "python",
     "metadata": {},
     "outputs": [],
     "prompt_number": 1
    },
    {
     "cell_type": "code",
     "collapsed": false,
     "input": [
      "def codeGen(number, length = 8):\n",
      "    codefile = open('codes.txt', 'w')\n",
      "    if number <= 0:\n",
      "        return 'invalid number of codes'\n",
      "    char = 'abcdefghijklmnopqrstuvwxyzABCDEFGHIJKLMNOPQRSTUVWXYZ0123456789'\n",
      "    count = 1\n",
      "    while True:\n",
      "        string = ''\n",
      "        for i in range(length):\n",
      "            index = random.randint(0, len(char) - 1)\n",
      "            string = string + char[index]\n",
      "        codefile.write(string+'\\n')\n",
      "        count += 1\n",
      "        if count > number:\n",
      "            break"
     ],
     "language": "python",
     "metadata": {},
     "outputs": [],
     "prompt_number": 32
    },
    {
     "cell_type": "code",
     "collapsed": false,
     "input": [
      "codeGen(1)"
     ],
     "language": "python",
     "metadata": {},
     "outputs": [],
     "prompt_number": 35
    },
    {
     "cell_type": "code",
     "collapsed": false,
     "input": [],
     "language": "python",
     "metadata": {},
     "outputs": []
    }
   ],
   "metadata": {}
  }
 ]
}