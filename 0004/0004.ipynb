{
 "metadata": {
  "name": "",
  "signature": "sha256:239663e776e23b017081c75e647482a31eaab4d1b3ba2033f5d6e4fb4993190e"
 },
 "nbformat": 3,
 "nbformat_minor": 0,
 "worksheets": [
  {
   "cells": [
    {
     "cell_type": "code",
     "collapsed": false,
     "input": [
      "# \u4efb\u4e00\u4e2a\u82f1\u6587\u7684\u7eaf\u6587\u672c\u6587\u4ef6\uff0c\u7edf\u8ba1\u5176\u4e2d\u7684\u5355\u8bcd\u51fa\u73b0\u7684\u4e2a\u6570\u3002"
     ],
     "language": "python",
     "metadata": {},
     "outputs": [],
     "prompt_number": 2
    },
    {
     "cell_type": "code",
     "collapsed": false,
     "input": [
      "import csv\n",
      "\n",
      "text_file = open(\"anothertext.txt\")\n",
      "words = []\n",
      "for line in text_file:\n",
      "    word = line.split(\" \")\n",
      "    for w in word:\n",
      "        w = w.rstrip(\"\\n\")\n",
      "        w = w.rstrip(\",\")\n",
      "        w = w.rstrip(\".\")\n",
      "        w = w.rstrip(\";\")\n",
      "        w = w.rstrip(\":\")\n",
      "        w = w.lstrip(\"(\")\n",
      "        w = w.rstrip(\")\")\n",
      "        \n",
      "        words.append(w)\n",
      "\n",
      "words.sort()\n",
      "print words\n",
      "words_dic = {}\n",
      "for word in words:\n",
      "    if word not in words_dic:\n",
      "        words_dic[word] = 0\n",
      "        for item in words:\n",
      "            if item == word:\n",
      "                words_dic[word] += 1\n",
      "print words_dic\n",
      "\n",
      "    \n",
      "writer = csv.writer(open('dict.csv', 'wb'))\n",
      "for key, value in words_dic.items():\n",
      "   writer.writerow([key, value])"
     ],
     "language": "python",
     "metadata": {},
     "outputs": [
      {
       "output_type": "stream",
       "stream": "stdout",
       "text": [
        "['1', '108', '2', '2002', '2004', '2007', '2008', '2009', '3', '3', '3', '94', '99.6%', 'AD', 'AD', 'AD', 'AD', 'AD', 'AD', 'AD', 'AD', 'AD', 'An', 'ClinicalTrials.gov', 'ClinicalTrials.gov', 'Currently', 'FDA', 'More', 'Most', 'Most', 'NIH', 'Phase', 'Phase', 'Phase', 'Phase', 'Phase', 'Repurposed', 'States', 'States', 'States', 'The', 'The', 'The', 'The', 'The', 'The', 'This', 'Trends', 'United', 'United', 'United', 'a', 'a', 'a', 'a', 'accounts', 'address', 'address', 'agent', 'agents', 'agents', 'agents', 'agents', 'agents', 'agents', 'agents', 'also', 'amyloid-beta', 'analyses', 'and', 'and', 'and', 'and', 'and', 'and', 'and', 'any', 'any', 'approved', 'are', 'are', 'are', 'are', 'as', 'assessed', 'at', 'be', 'be', 'be', 'been', 'been', 'but', 'but', 'but', 'by', 'can', 'can', 'clinical', 'clinical', 'clinical', 'clinical', 'clinical', 'cognition', 'compounds', 'comprehensive', 'concerning', 'conducted', 'country', 'currently', 'declining', 'demonstrate', 'development', 'development', 'development', 'development', 'disease-modifying', 'disease-modifying', 'disorders', 'drug', 'drug', 'drug', 'drug', 'drug-development', 'drug-development', 'drug-development', 'drug-development', 'drugs', 'drugs', 'drugs', 'enter', 'enter', 'entering', 'entering', 'entering', 'excluding', 'exists', 'experience', 'failed', 'failure', 'few', 'for', 'for', 'for', 'for', 'has', 'has', 'has', 'has', 'have', 'have', 'immunotherapies', 'improve', 'in', 'in', 'in', 'in', 'increase', 'industry', 'information', 'information', 'inside', 'intended', 'is', 'is', 'is', 'is', 'is', 'is', 'it', 'it', 'large', 'largest', 'later', 'limited', 'limited', 'may', 'memantine', 'molecules', 'molecules', 'monitored', 'more', 'most', 'most', 'movement', 'need', 'new', 'number', 'number', 'number', 'number', 'number', 'number', 'of', 'of', 'of', 'of', 'of', 'of', 'of', 'of', 'of', 'of', 'of', 'of', 'of', 'of', 'of', 'of', 'one', 'only', 'other', 'other', 'outside', 'over', 'particularly', 'patients', 'percentage', 'period', 'pharmaceutical', 'phases', 'pipeline', 'pipeline', 'pipeline', 'pipeline', 'pipeline', 'pipeline', 'process', 'progressing', 'provided', 'provides', 'rate', 'rate', 'regarding', 'registration', 'relatively', 'relatively', 'relatively', 'relatively', 'relatively', 'remarkable', 'represent', 'represented', 'repurposed', 'required', 'resource', 'seen', 'shorter', 'since', 'since', 'since', 'since', 'single', 'single', 'small', 'small', 'small', 'small', 'small', 'smaller', 'sponsors', 'sponsors', 'success', 'successfully', 'suggests', 'symptomatic', 'target', 'targets', 'test', 'than', 'than', 'than', 'that', 'that', 'that', 'the', 'the', 'the', 'the', 'the', 'the', 'the', 'the', 'the', 'the', 'the', 'the', 'the', 'the', 'the', 'the', 'therapies', 'therapies', 'therapy', 'they', 'through', 'through', 'time', 'to', 'to', 'toward', 'trials', 'trials', 'trials', 'trials', 'trials', 'trials', 'trials', 'trials', 'trials', 'unique', 'unlikely', 'urgent', 'was', 'when', 'when', 'whereas', 'will', 'with', 'with']\n",
        "{'limited': 2, 'United': 3, 'particularly': 1, 'remarkable': 1, 'represent': 1, 'when': 2, 'over': 1, 'through': 2, 'disease-modifying': 2, 'shorter': 1, 'monitored': 1, 'disorders': 1, 'repurposed': 1, 'outside': 1, 'than': 3, 'AD': 9, 'failed': 1, 'only': 1, 'molecules': 2, 'has': 4, 'drug-development': 4, 'to': 2, 'regarding': 1, 'period': 1, 'test': 1, 'therapy': 1, 'they': 1, 'unlikely': 1, 'unique': 1, 'NIH': 1, 'resource': 1, 'success': 1, 'excluding': 1, 'cognition': 1, 'large': 1, 'small': 5, 'agents': 7, 'FDA': 1, 'the': 16, 'smaller': 1, 'exists': 1, 'Repurposed': 1, 'urgent': 1, 'rate': 2, 'are': 4, 'entering': 3, 'targets': 1, 'More': 1, 'provided': 1, 'phases': 1, 'for': 4, 'compounds': 1, 'currently': 1, 'increase': 1, '3': 3, 'provides': 1, 'new': 1, 'therapies': 2, 'movement': 1, 'be': 3, 'This': 1, '108': 1, 'address': 2, 'represented': 1, 'analyses': 1, 'by': 1, 'declining': 1, 'improve': 1, 'pipeline': 6, '2002': 1, 'country': 1, 'industry': 1, 'drug': 4, 'suggests': 1, 'conducted': 1, 'and': 7, 'number': 6, 'one': 1, 'accounts': 1, 'registration': 1, '99.6%': 1, 'pharmaceutical': 1, 'few': 1, 'been': 2, 'Most': 2, '2': 1, 'clinical': 5, 'percentage': 1, 'was': 1, 'more': 1, 'Currently': 1, 'that': 3, 'drugs': 3, 'concerning': 1, 'symptomatic': 1, 'but': 3, 'failure': 1, 'with': 2, '94': 1, 'immunotherapies': 1, 'target': 1, 'inside': 1, 'single': 2, 'will': 1, 'patients': 1, 'can': 2, 'of': 16, 'demonstrate': 1, 'amyloid-beta': 1, 'toward': 1, 'at': 1, 'ClinicalTrials.gov': 2, 'required': 1, 'successfully': 1, 'process': 1, 'is': 6, 'it': 2, 'agent': 1, 'as': 1, 'experience': 1, 'have': 2, 'in': 4, 'need': 1, 'seen': 1, 'any': 2, 'relatively': 5, 'information': 2, 'since': 4, 'trials': 9, 'whereas': 1, 'progressing': 1, '1': 1, 'also': 1, 'other': 2, 'largest': 1, 'Phase': 5, 'development': 4, 'intended': 1, 'may': 1, 'comprehensive': 1, 'time': 1, 'sponsors': 2, 'most': 2, 'assessed': 1, 'The': 6, 'approved': 1, 'a': 4, 'memantine': 1, 'later': 1, 'An': 1, 'States': 3, 'Trends': 1, '2007': 1, '2004': 1, 'enter': 2, '2008': 1, '2009': 1}\n"
       ]
      }
     ],
     "prompt_number": 38
    },
    {
     "cell_type": "code",
     "collapsed": false,
     "input": [
      "%save 0004.py 2 9"
     ],
     "language": "python",
     "metadata": {},
     "outputs": [
      {
       "output_type": "stream",
       "stream": "stdout",
       "text": [
        "The following commands were written to file `0004.py`:\n",
        "text_file = open(\"romeo.txt\")\n",
        "WORDS = []\n",
        "for line in text_file:\n",
        "    words = line.split()\n",
        "    for word in words:\n",
        "        if word not in WORDS:\n",
        "            WORDS.append(word)\n",
        "WORDS.sort()\n",
        "print WORDS\n",
        "text_file = open(\"romeo.txt\")\n",
        "words = []\n",
        "for line in text_file:\n",
        "    word = line.split()\n",
        "    for w in word:\n",
        "        words.append(w)\n",
        "words.sort()\n",
        "print words\n",
        "words_dic = {}\n",
        "for word in words:\n",
        "    if word not in words_dic:\n",
        "        words_dic[word] = 0\n",
        "        for item in words:\n",
        "            if item == word:\n",
        "                words_dic[word] += 1\n",
        "print sorted(words_dic.items())\n"
       ]
      }
     ],
     "prompt_number": 11
    },
    {
     "cell_type": "code",
     "collapsed": false,
     "input": [],
     "language": "python",
     "metadata": {},
     "outputs": []
    },
    {
     "cell_type": "code",
     "collapsed": false,
     "input": [],
     "language": "python",
     "metadata": {},
     "outputs": []
    }
   ],
   "metadata": {}
  }
 ]
}