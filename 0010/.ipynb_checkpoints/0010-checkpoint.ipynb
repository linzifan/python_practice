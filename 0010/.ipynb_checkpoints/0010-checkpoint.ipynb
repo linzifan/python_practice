{
 "metadata": {
  "name": "",
  "signature": "sha256:2590bcffac204968dd4e22a4c8a1bfa87c37c91e8e19212425a801bfb184cfd2"
 },
 "nbformat": 3,
 "nbformat_minor": 0,
 "worksheets": [
  {
   "cells": [
    {
     "cell_type": "code",
     "collapsed": false,
     "input": [
      "\n",
      "\n",
      "def rndColor(type):\n",
      "    if type == 1:\n",
      "        return (random.randint(0, 125), random.randint(0, 125), random.randint(0, 125))\n",
      "    elif type == 2:\n",
      "        return (random.randint(126, 255), random.randint(126, 255), random.randint(126, 255))\n",
      "\n",
      "fontSize = 25\n",
      "width = int(fontSize * 1.2 * 4)\n",
      "height = int(fontSize * 1.2)\n",
      "\n",
      "# create image instance\n",
      "image = Image.new('RGB', (width, height), (255, 255, 255))\n",
      "# create font instance\n",
      "font = ImageFont.truetype(\"/Library/Fonts/Skia.ttf\", 20)\n",
      "# start ot draw\n",
      "draw = ImageDraw.Draw(image)\n",
      "\n",
      "# fill the whole picture\n",
      "for x in range(width):\n",
      "    for y in range(height):\n",
      "        draw.point((x, y), fill = rndColor(1))\n",
      "\n",
      "# fill the text\n",
      "for t in range(4):\n",
      "    draw.text((t * height + fontSize * 0.2, fontSize * 0.2), rndChar(), font = font, fill = rndColor(2))\n",
      "\n",
      "\n",
      "\n",
      "if __name__ == '__main__':\n",
      "    image.show()"
     ],
     "language": "python",
     "metadata": {},
     "outputs": [],
     "prompt_number": 1
    },
    {
     "cell_type": "code",
     "collapsed": false,
     "input": [
      "from PIL import Image, ImageDraw, ImageFont\n",
      "import random\n",
      "\n",
      "__author__ = 'Zifan'\n",
      "\n",
      "# generate the random code\n",
      "txt = random.sample(\"ABCDEFGHIJKLMNOPQRSTUVWXYZabcdefghijklmnopqrstuvwxyz\", 4)\n",
      "# create image\n",
      "fontSize = 50\n",
      "width = int(fontSize * 1.5 * 4)\n",
      "height = int(fontSize * 1.5)\n",
      "image = Image.new('RGBA', (width, height), (255, 255, 255))\n",
      "# start to draw\n",
      "draw = ImageDraw.Draw(image)\n",
      "# draw points\n",
      "for x in range(width):\n",
      "    for y in range(height):\n",
      "        draw.point((x,y), fill = (random.randint(0, 126), random.randint(0, 126), random.randint(0, 126)))\n",
      "# draw text\n",
      "for t in range(4):\n",
      "    draw.text(((2.0*t+1)/8*width, height/10.0), txt[t], \\\n",
      "              font = ImageFont.truetype(\"Sinhala Sangam MN.ttc\", random.randrange(45, 55)),  \\\n",
      "              fill = (random.randint(0, 255), random.randint(0, 255), random.randint(0, 255)))\n",
      "# image.show()\n",
      "image.save(\"validate.png\")"
     ],
     "language": "python",
     "metadata": {},
     "outputs": [],
     "prompt_number": 75
    },
    {
     "cell_type": "code",
     "collapsed": false,
     "input": [
      "print random.random()"
     ],
     "language": "python",
     "metadata": {},
     "outputs": [
      {
       "output_type": "stream",
       "stream": "stdout",
       "text": [
        "0.688404624953\n"
       ]
      }
     ],
     "prompt_number": 71
    },
    {
     "cell_type": "code",
     "collapsed": false,
     "input": [
      "%save 0010.py 75"
     ],
     "language": "python",
     "metadata": {},
     "outputs": [
      {
       "output_type": "stream",
       "stream": "stdout",
       "text": [
        "The following commands were written to file `0010.py`:\n",
        "from PIL import Image, ImageDraw, ImageFont\n",
        "import random\n",
        "\n",
        "__author__ = 'Zifan'\n",
        "\n",
        "# generate the random code\n",
        "txt = random.sample(\"ABCDEFGHIJKLMNOPQRSTUVWXYZabcdefghijklmnopqrstuvwxyz\", 4)\n",
        "# create image\n",
        "fontSize = 50\n",
        "width = int(fontSize * 1.5 * 4)\n",
        "height = int(fontSize * 1.5)\n",
        "image = Image.new('RGBA', (width, height), (255, 255, 255))\n",
        "# start to draw\n",
        "draw = ImageDraw.Draw(image)\n",
        "# draw points\n",
        "for x in range(width):\n",
        "    for y in range(height):\n",
        "        draw.point((x,y), fill = (random.randint(0, 126), random.randint(0, 126), random.randint(0, 126)))\n",
        "# draw text\n",
        "for t in range(4):\n",
        "    draw.text(((2.0*t+1)/8*width, height/10.0), txt[t],               font = ImageFont.truetype(\"Sinhala Sangam MN.ttc\", random.randrange(45, 55)),                fill = (random.randint(0, 255), random.randint(0, 255), random.randint(0, 255)))\n",
        "# image.show()\n",
        "image.save(\"validate.png\")\n"
       ]
      }
     ],
     "prompt_number": 76
    },
    {
     "cell_type": "code",
     "collapsed": false,
     "input": [],
     "language": "python",
     "metadata": {},
     "outputs": []
    }
   ],
   "metadata": {}
  }
 ]
}