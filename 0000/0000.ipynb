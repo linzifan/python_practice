{
 "metadata": {
  "name": "",
  "signature": "sha256:6f909079b459a8fe39317fe786221bdd177db7cb32b67c330957d995fdd01c75"
 },
 "nbformat": 3,
 "nbformat_minor": 0,
 "worksheets": [
  {
   "cells": [
    {
     "cell_type": "code",
     "collapsed": false,
     "input": [
      "from PIL import Image, ImageFont, ImageDraw\n",
      "import random\n",
      "\n",
      "num = random.randint(0, 200)\n",
      "img = Image.open(\"0000.jpg\")\n",
      "img = img.resize((256, 256))\n",
      "draw = ImageDraw.Draw(img)\n",
      "# Draw red circle\n",
      "draw.point([224, 32], \"Red\")\n",
      "for ind in range(0, 32):\n",
      "    draw.arc([223 - ind, 31 - ind, 225 + ind, 33 + ind], 0, 360, 'Red')\n",
      "# add number of text    \n",
      "number_font = ImageFont.truetype('Georgia.TTF', 42)\n",
      "if num > 99:\n",
      "    draw.text((208, 2), \"...\", font=number_font)\n",
      "elif num < 10:\n",
      "    draw.text((214, 3), str(num), font=number_font)\n",
      "else:\n",
      "    draw.text((204, 3), str(num), font=number_font)\n",
      "img.save('0000-out3.png')"
     ],
     "language": "python",
     "metadata": {},
     "outputs": [],
     "prompt_number": 65
    },
    {
     "cell_type": "code",
     "collapsed": false,
     "input": [
      "%save 0000.py 65"
     ],
     "language": "python",
     "metadata": {},
     "outputs": [
      {
       "output_type": "stream",
       "stream": "stdout",
       "text": [
        "The following commands were written to file `0000.py`:\n",
        "from PIL import Image, ImageFont, ImageDraw\n",
        "import random\n",
        "\n",
        "num = random.randint(0, 200)\n",
        "img = Image.open(\"0000.jpg\")\n",
        "img = img.resize((256, 256))\n",
        "draw = ImageDraw.Draw(img)\n",
        "# Draw red circle\n",
        "draw.point([224, 32], \"Red\")\n",
        "for ind in range(0, 32):\n",
        "    draw.arc([223 - ind, 31 - ind, 225 + ind, 33 + ind], 0, 360, 'Red')\n",
        "# add number of text    \n",
        "number_font = ImageFont.truetype('Georgia.TTF', 42)\n",
        "if num > 99:\n",
        "    draw.text((208, 2), \"...\", font=number_font)\n",
        "elif num < 10:\n",
        "    draw.text((214, 3), str(num), font=number_font)\n",
        "else:\n",
        "    draw.text((204, 3), str(num), font=number_font)\n",
        "img.save('0000-out3.png')\n"
       ]
      }
     ],
     "prompt_number": 66
    },
    {
     "cell_type": "code",
     "collapsed": false,
     "input": [],
     "language": "python",
     "metadata": {},
     "outputs": []
    }
   ],
   "metadata": {}
  }
 ]
}