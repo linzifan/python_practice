{
 "metadata": {
  "name": "",
  "signature": "sha256:1d87fe819ad9c30677098843f05b588ca057e1ec496584175fd28dd7f78d2a16"
 },
 "nbformat": 3,
 "nbformat_minor": 0,
 "worksheets": [
  {
   "cells": [
    {
     "cell_type": "code",
     "collapsed": false,
     "input": [
      "# \u7b2c 0014 \u9898\uff1a \u7eaf\u6587\u672c\u6587\u4ef6 student.txt\u4e3a\u5b66\u751f\u4fe1\u606f, \u5199\u5230 student.xls \u6587\u4ef6\u4e2d\n",
      "%save 0014.py 37"
     ],
     "language": "python",
     "metadata": {},
     "outputs": [
      {
       "output_type": "stream",
       "stream": "stdout",
       "text": [
        "The following commands were written to file `0014.py`:\n",
        "import xlwt\n",
        "import json\n",
        "\n",
        "file_name = \"student.txt\"\n",
        "def txt2xls(file_name):\n",
        "    txt = open(file_name, \"r\")\n",
        "    data = json.load(txt)\n",
        "    book =xlwt.Workbook(encoding = 'utf-8')\n",
        "    sheet =book.add_sheet(file_name.rstrip(\"txt\").rstrip(\".\"))\n",
        "    for i in range(len(data)):\n",
        "        obs = data[str(i+1)]\n",
        "        sheet.write(i, 0, i+1) # start from row 0, column 0\n",
        "        for j in range(len(obs)):\n",
        "            sheet.write(i, j+1, obs[j])\n",
        "    book.save(file_name.rstrip(\"txt\").rstrip(\".\")+\".xls\")\n",
        "if __name__ == \"__main__\":\n",
        "    txt2xls(\"student.txt\")\n"
       ]
      }
     ],
     "prompt_number": 42
    },
    {
     "cell_type": "code",
     "collapsed": false,
     "input": [
      "import xlwt\n",
      "import json\n",
      "\n",
      "file_name = \"student.txt\"\n",
      "def txt2xls(file_name):\n",
      "    txt = open(file_name, \"r\")\n",
      "    data = json.load(txt)\n",
      "    book =xlwt.Workbook(encoding = 'utf-8')\n",
      "    sheet =book.add_sheet(file_name.rstrip(\"txt\").rstrip(\".\"))\n",
      "    for i in range(len(data)):\n",
      "        obs = data[str(i+1)]\n",
      "        sheet.write(i, 0, i+1) # start from row 0, column 0\n",
      "        for j in range(len(obs)):\n",
      "            sheet.write(i, j+1, obs[j])\n",
      "    book.save(file_name.rstrip(\"txt\").rstrip(\".\")+\".xls\")\n",
      "if __name__ == \"__main__\":\n",
      "    txt2xls(\"student.txt\")"
     ],
     "language": "python",
     "metadata": {},
     "outputs": [],
     "prompt_number": 37
    },
    {
     "cell_type": "code",
     "collapsed": false,
     "input": [
      "# \u7b2c 0015 \u9898\uff1a\n",
      "%save 0015.py 38"
     ],
     "language": "python",
     "metadata": {},
     "outputs": [
      {
       "output_type": "stream",
       "stream": "stdout",
       "text": [
        "The following commands were written to file `0015.py`:\n",
        "import xlwt\n",
        "import json\n",
        "\n",
        "file_name = \"city.txt\"\n",
        "def txt2xls(file_name):\n",
        "    txt = open(file_name, \"r\")\n",
        "    data = json.load(txt)\n",
        "    book =xlwt.Workbook(encoding = 'utf-8')\n",
        "    sheet =book.add_sheet(file_name.rstrip(\"txt\").rstrip(\".\"))\n",
        "    for i in range(len(data)):\n",
        "        obs = data[str(i+1)]\n",
        "        sheet.write(i, 0, i+1) # start from row 0, column 0\n",
        "        sheet.write(i, 1, obs)\n",
        "    book.save(file_name.rstrip(\"txt\").rstrip(\".\")+\".xls\")\n",
        "\n",
        "if __name__ == \"__main__\":\n",
        "    txt2xls(\"city.txt\")\n"
       ]
      }
     ],
     "prompt_number": 43
    },
    {
     "cell_type": "code",
     "collapsed": false,
     "input": [
      "import xlwt\n",
      "import json\n",
      "\n",
      "\n",
      "def txt2xls(file_name):\n",
      "    txt = open(file_name, \"r\")\n",
      "    data = json.load(txt)\n",
      "    book =xlwt.Workbook(encoding = 'utf-8')\n",
      "    sheet =book.add_sheet(file_name.rstrip(\"txt\").rstrip(\".\"))\n",
      "    for i in range(len(data)):\n",
      "        obs = data[str(i+1)]\n",
      "        sheet.write(i, 0, i+1) # start from row 0, column 0\n",
      "        sheet.write(i, 1, obs)\n",
      "    book.save(file_name.rstrip(\"txt\").rstrip(\".\")+\".xls\")\n",
      "\n",
      "if __name__ == \"__main__\":\n",
      "    txt2xls(\"city.txt\")\n",
      "\n"
     ],
     "language": "python",
     "metadata": {},
     "outputs": [],
     "prompt_number": 38
    },
    {
     "cell_type": "code",
     "collapsed": false,
     "input": [
      "# \u7b2c 0016 \u9898\uff1a\n",
      "%save 0016.py 41"
     ],
     "language": "python",
     "metadata": {},
     "outputs": [
      {
       "output_type": "stream",
       "stream": "stdout",
       "text": [
        "The following commands were written to file `0016.py`:\n",
        "import xlwt\n",
        "import json\n",
        "\n",
        "\n",
        "def txt2xls(file_name):\n",
        "    txt = open(file_name, \"r\")\n",
        "    data = json.load(txt)\n",
        "    book =xlwt.Workbook(encoding = 'utf-8')\n",
        "    sheet =book.add_sheet(file_name.rstrip(\"txt\").rstrip(\".\"))\n",
        "    for i in range(len(data)):\n",
        "        for j in range(len(data[i])):\n",
        "            sheet.write(i, j, data[i][j])\n",
        "    book.save(file_name.rstrip(\"txt\").rstrip(\".\")+\".xls\")\n",
        "\n",
        "if __name__ == \"__main__\":\n",
        "    txt2xls(\"numbers.txt\")\n"
       ]
      }
     ],
     "prompt_number": 44
    },
    {
     "cell_type": "code",
     "collapsed": false,
     "input": [
      "import xlwt\n",
      "import json\n",
      "\n",
      "\n",
      "def txt2xls(file_name):\n",
      "    txt = open(file_name, \"r\")\n",
      "    data = json.load(txt)\n",
      "    book =xlwt.Workbook(encoding = 'utf-8')\n",
      "    sheet =book.add_sheet(file_name.rstrip(\"txt\").rstrip(\".\"))\n",
      "    for i in range(len(data)):\n",
      "        for j in range(len(data[i])):\n",
      "            sheet.write(i, j, data[i][j])\n",
      "    book.save(file_name.rstrip(\"txt\").rstrip(\".\")+\".xls\")\n",
      "\n",
      "if __name__ == \"__main__\":\n",
      "    txt2xls(\"numbers.txt\")"
     ],
     "language": "python",
     "metadata": {},
     "outputs": [],
     "prompt_number": 41
    },
    {
     "cell_type": "code",
     "collapsed": false,
     "input": [],
     "language": "python",
     "metadata": {},
     "outputs": []
    }
   ],
   "metadata": {}
  }
 ]
}