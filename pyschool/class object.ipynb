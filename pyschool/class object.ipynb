{
 "metadata": {
  "name": "",
  "signature": "sha256:19c13119189e45779d586d69aadcf0607a211c3dd0ab25bff55465e373da4bf9"
 },
 "nbformat": 3,
 "nbformat_minor": 0,
 "worksheets": [
  {
   "cells": [
    {
     "cell_type": "code",
     "collapsed": false,
     "input": [
      "class Point:\n",
      "    'A class implementation of a 2-dimensional point.'\n",
      "    def __init__(self, x, y):\n",
      "        self.l = tuple((x,y))\n",
      "    def __str__(self):\n",
      "        return str(self.l)"
     ],
     "language": "python",
     "metadata": {},
     "outputs": [],
     "prompt_number": 54
    },
    {
     "cell_type": "code",
     "collapsed": false,
     "input": [
      "Point.__doc__"
     ],
     "language": "python",
     "metadata": {},
     "outputs": [
      {
       "metadata": {},
       "output_type": "pyout",
       "prompt_number": 55,
       "text": [
        "'A class implementation of a 2-dimensional point.'"
       ]
      }
     ],
     "prompt_number": 55
    },
    {
     "cell_type": "code",
     "collapsed": false,
     "input": [
      "p = Point(2,4)"
     ],
     "language": "python",
     "metadata": {},
     "outputs": [],
     "prompt_number": 56
    },
    {
     "cell_type": "code",
     "collapsed": false,
     "input": [
      "print p"
     ],
     "language": "python",
     "metadata": {},
     "outputs": [
      {
       "output_type": "stream",
       "stream": "stdout",
       "text": [
        "(2, 4)\n"
       ]
      }
     ],
     "prompt_number": 57
    },
    {
     "cell_type": "code",
     "collapsed": false,
     "input": [
      "str(p)"
     ],
     "language": "python",
     "metadata": {},
     "outputs": [
      {
       "metadata": {},
       "output_type": "pyout",
       "prompt_number": 58,
       "text": [
        "'(2, 4)'"
       ]
      }
     ],
     "prompt_number": 58
    },
    {
     "cell_type": "code",
     "collapsed": false,
     "input": [
      "class Point:\n",
      "      \"A class implementation of 2-Dimensional point.\"\n",
      "      def __init__(self, x, y):\n",
      "          self.x = x\n",
      "          self.y = y\n",
      "\n",
      "      def __str__(self):\n",
      "          return '(%d, %d)' % (self.x, self.y)\n",
      "\n",
      "      def __add__(self, other):\n",
      "          return '(%d, %d)' % (self.x + other.x, self.y + other.y)\n",
      "\n",
      "      def __sub__(self, other):\n",
      "          return '(%d, %d)' % (self.x - other.x, self.y - other.y)"
     ],
     "language": "python",
     "metadata": {},
     "outputs": [],
     "prompt_number": 59
    },
    {
     "cell_type": "code",
     "collapsed": false,
     "input": [
      "a = Point(1,3)\n",
      "b = Point(2,7)\n",
      "print a + b\n",
      "print a - b"
     ],
     "language": "python",
     "metadata": {},
     "outputs": [
      {
       "output_type": "stream",
       "stream": "stdout",
       "text": [
        "(3, 10)\n",
        "(-1, -4)\n"
       ]
      }
     ],
     "prompt_number": 61
    },
    {
     "cell_type": "code",
     "collapsed": false,
     "input": [
      "class Person:\n",
      "      \"\"\"A base class\"\"\"\n",
      "      def __init__(self, name, age):\n",
      "          self.name = name\n",
      "          self.age = age\n",
      "\n",
      "class Student(Person):\n",
      "      \"\"\"A derived class for Student\"\"\"\n",
      "      def __init__(self, name, age, school):\n",
      "          Person.__init__(self, name, age)\n",
      "          self.school = school\n",
      "      def introduce(self):\n",
      "          return \"My name is %s. I am %d years old. I am studying at %s.\" %(self.name, self.age, self.school)\n",
      "\n",
      "class WorkingAdult(Person):\n",
      "      \"\"\"A derived class for WorkingAdult\"\"\"\n",
      "      def __init__(self, name, age, job):\n",
      "          Person.__init__(self, name, age)\n",
      "          self.job = job.lower()\n",
      "      def introduce(self):\n",
      "          return \"My name is %s. I am %d years old. I am a %s.\" %(self.name, self.age, self.job)"
     ],
     "language": "python",
     "metadata": {},
     "outputs": [],
     "prompt_number": 78
    },
    {
     "cell_type": "code",
     "collapsed": false,
     "input": [
      "s = Student('Peter', 9, 'ABC Primary School')\n",
      "s.introduce()"
     ],
     "language": "python",
     "metadata": {},
     "outputs": [
      {
       "metadata": {},
       "output_type": "pyout",
       "prompt_number": 79,
       "text": [
        "'My name is Peter. I am 9 years old. I am studying at ABC Primary School.'"
       ]
      }
     ],
     "prompt_number": 79
    },
    {
     "cell_type": "code",
     "collapsed": false,
     "input": [
      "a = WorkingAdult('John', 23, 'Waiter')\n",
      "a.introduce()\n",
      "#    'My name is John. I am 23 years old. I am a waiter.'"
     ],
     "language": "python",
     "metadata": {},
     "outputs": [
      {
       "metadata": {},
       "output_type": "pyout",
       "prompt_number": 80,
       "text": [
        "'My name is John. I am 23 years old. I am a waiter.'"
       ]
      }
     ],
     "prompt_number": 80
    },
    {
     "cell_type": "code",
     "collapsed": false,
     "input": [
      "def isPalindrome(word):\n",
      "    if len(word) == 1:\n",
      "        return True\n",
      "    elif len(word) == 2 and word[0].lower() == word[1].lower():\n",
      "        return True\n",
      "    elif word[0].lower() == word[-1].lower():\n",
      "        return isPalindrome(word[1:len(word)-1])  \n",
      "    else:\n",
      "        return False"
     ],
     "language": "python",
     "metadata": {},
     "outputs": [],
     "prompt_number": 114
    },
    {
     "cell_type": "code",
     "collapsed": false,
     "input": [
      "isPalindrome('Aaa')"
     ],
     "language": "python",
     "metadata": {},
     "outputs": [
      {
       "metadata": {},
       "output_type": "pyout",
       "prompt_number": 115,
       "text": [
        "True"
       ]
      }
     ],
     "prompt_number": 115
    },
    {
     "cell_type": "code",
     "collapsed": false,
     "input": [
      "isPalindrome('test')"
     ],
     "language": "python",
     "metadata": {},
     "outputs": [
      {
       "metadata": {},
       "output_type": "pyout",
       "prompt_number": 98,
       "text": [
        "True"
       ]
      }
     ],
     "prompt_number": 98
    },
    {
     "cell_type": "code",
     "collapsed": false,
     "input": [
      "word = word[1:len(word)-1]"
     ],
     "language": "python",
     "metadata": {},
     "outputs": [],
     "prompt_number": 101
    },
    {
     "cell_type": "code",
     "collapsed": false,
     "input": [
      "word[0].lower() == word[-1].lower()"
     ],
     "language": "python",
     "metadata": {},
     "outputs": [
      {
       "metadata": {},
       "output_type": "pyout",
       "prompt_number": 86,
       "text": [
        "True"
       ]
      }
     ],
     "prompt_number": 86
    },
    {
     "cell_type": "code",
     "collapsed": false,
     "input": [
      "word"
     ],
     "language": "python",
     "metadata": {},
     "outputs": [
      {
       "metadata": {},
       "output_type": "pyout",
       "prompt_number": 102,
       "text": [
        "''"
       ]
      }
     ],
     "prompt_number": 102
    },
    {
     "cell_type": "code",
     "collapsed": false,
     "input": [],
     "language": "python",
     "metadata": {},
     "outputs": []
    }
   ],
   "metadata": {}
  }
 ]
}