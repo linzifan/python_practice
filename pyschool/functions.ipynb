{
 "metadata": {
  "name": "",
  "signature": "sha256:86d5f6767b7ea354de6823d2ab61b68b348ab7aa4d3be2e0096c5e31ca029554"
 },
 "nbformat": 3,
 "nbformat_minor": 0,
 "worksheets": [
  {
   "cells": [
    {
     "cell_type": "code",
     "collapsed": false,
     "input": [
      "def tictactoe(moves): \n",
      "    if moves[0][0] == moves[0][1] == moves[0][2] == 'X' or moves[1][0] == moves[1][1] == moves[1][2] == 'X' or moves[2][0] == moves[2][1] == moves[2][2] == 'X':\n",
      "        return \"'X' wins (horizontal).\"\n",
      "    elif moves[0][0] == moves[1][1] == moves[2][2] == 'X' or moves[0][2] == moves[1][1] == moves[2][0] == 'X':\n",
      "        return \"'X' wins (diagonal).\"\n",
      "    elif moves[0][0] == moves[1][0] == moves[2][0] == 'X' or moves[0][1] == moves[1][1] == moves[2][1] == 'X' or moves[0][2] == moves[1][2] == moves[2][2] == 'X':\n",
      "        return \"'X' wins (vertical).\"\n",
      "        \n",
      "    elif moves[0][0] == moves[0][1] == moves[0][2] == 'O' or moves[1][0] == moves[1][1] == moves[1][2] == 'O' or moves[2][0] == moves[2][1] == moves[2][2] == 'O':\n",
      "        return \"'O' wins (horizontal).\"\n",
      "    elif moves[0][0] == moves[1][1] == moves[2][2] == 'O' or moves[0][2] == moves[1][1] == moves[2][0] == 'O':\n",
      "        return \"'O' wins (diagonal).\"\n",
      "    elif moves[0][0] == moves[1][0] == moves[2][0] == 'O' or moves[0][1] == moves[1][1] == moves[2][1] == 'O' or moves[0][2] == moves[1][2] == moves[2][2] == 'O':\n",
      "        return \"'O' wins (vertical).\"\n",
      "    else:\n",
      "        return 'Draw.'"
     ],
     "language": "python",
     "metadata": {},
     "outputs": [],
     "prompt_number": 1
    },
    {
     "cell_type": "code",
     "collapsed": false,
     "input": [
      "'1619'\n",
      "'1200'\n",
      "'1020'\n",
      "'0001'"
     ],
     "language": "python",
     "metadata": {},
     "outputs": [
      {
       "metadata": {},
       "output_type": "pyout",
       "prompt_number": 2,
       "text": [
        "'0001'"
       ]
      }
     ],
     "prompt_number": 2
    },
    {
     "cell_type": "code",
     "collapsed": false,
     "input": [
      "t = '1219'\n",
      "if t[0:2] == '00':\n",
      "    print '12' + ':' + t[2:4] + ' a.m. ' \n",
      "elif t[0:2] == '12':\n",
      "    print '12' + ':' + t[2:4] + ' p.m. '\n",
      "elif int(t[0:2]) < 12:\n",
      "    print t[0:2] + ':' + t[2:4] + ' a.m. '\n",
      "else:\n",
      "    print str(int(t[0:2]) - 12) + ':' + t[2:4] + ' p.m. '"
     ],
     "language": "python",
     "metadata": {},
     "outputs": [
      {
       "output_type": "stream",
       "stream": "stdout",
       "text": [
        "12:19 p.m. \n"
       ]
      }
     ],
     "prompt_number": 9
    },
    {
     "cell_type": "code",
     "collapsed": false,
     "input": [
      "s1 = \"GATAAATCTGGTCT\"\n",
      "s2 = \"CATTCATCATGCAA\"\n",
      "# s1 = \"ATTCGT\"\n",
      "# s2 = \"ATCTAT\"\n",
      "score = 0\n",
      "flag = False\n",
      "for i in range(len(s1)):\n",
      "    if s1[i] == s2[i]:\n",
      "        if flag:\n",
      "            score += 3\n",
      "        else:\n",
      "            score += 1\n",
      "        flag = True\n",
      "    if s1[i] != s2[i]:\n",
      "        score -= 1\n",
      "        flag = False"
     ],
     "language": "python",
     "metadata": {},
     "outputs": [],
     "prompt_number": 18
    },
    {
     "cell_type": "code",
     "collapsed": false,
     "input": [
      "score"
     ],
     "language": "python",
     "metadata": {},
     "outputs": [
      {
       "metadata": {},
       "output_type": "pyout",
       "prompt_number": 19,
       "text": [
        "4"
       ]
      }
     ],
     "prompt_number": 19
    },
    {
     "cell_type": "code",
     "collapsed": false,
     "input": [
      "def pairwiseScore(seqA, seqB): \n",
      "    score = 0\n",
      "    flag = False\n",
      "    vec = \"\"\n",
      "    for i in range(len(seqA)):\n",
      "        if seqA[i] == seqB[i]:\n",
      "            vec += \"|\"\n",
      "            if flag:\n",
      "                score += 3\n",
      "            else:\n",
      "                score += 1\n",
      "            flag = True\n",
      "        if seqA[i] != seqB[i]:\n",
      "            vec += \" \"\n",
      "            score -= 1\n",
      "            flag = False\n",
      "    return seqA +  \"\\n\" + vec + \"\\n\" + seqB +  \"\\n\" + \"Score: %d\" %score"
     ],
     "language": "python",
     "metadata": {},
     "outputs": [],
     "prompt_number": 49
    },
    {
     "cell_type": "code",
     "collapsed": false,
     "input": [
      "print pairwiseScore(\"ATTCGT\", \"ATCTAT\")"
     ],
     "language": "python",
     "metadata": {},
     "outputs": [
      {
       "output_type": "stream",
       "stream": "stdout",
       "text": [
        "ATTCGT\n",
        "||   |\n",
        "ATCTAT\n",
        "Score: 2\n"
       ]
      }
     ],
     "prompt_number": 50
    },
    {
     "cell_type": "code",
     "collapsed": false,
     "input": [
      "vec = [\" \" ]* 5"
     ],
     "language": "python",
     "metadata": {},
     "outputs": [],
     "prompt_number": 39
    },
    {
     "cell_type": "code",
     "collapsed": false,
     "input": [
      "vec"
     ],
     "language": "python",
     "metadata": {},
     "outputs": [
      {
       "metadata": {},
       "output_type": "pyout",
       "prompt_number": 40,
       "text": [
        "[' ', ' ', ' ', ' ', ' ']"
       ]
      }
     ],
     "prompt_number": 40
    },
    {
     "cell_type": "markdown",
     "metadata": {},
     "source": [
      ">>> printTwos(1)\n",
      "    '1'\n",
      "    >>> printTwos(2)\n",
      "    '2 * 1'\n",
      "    >>> printTwos(10)\n",
      "    '2 * 5'\n",
      "    >>> printTwos(20)\n",
      "    '2 * 5 * 2'\n",
      "    >>> printTwos(30)\n",
      "    '2 * 15'\n",
      "    >>> printTwos(32)\n",
      "    '2 * 2 * 2 * 1 * 2 * 2'\n",
      "    >>> printTwos(80)\n",
      "    '2 * 2 * 5 * 2 * 2'"
     ]
    },
    {
     "cell_type": "code",
     "collapsed": false,
     "input": [
      "n = 5\n",
      "def printTwos(n): \n",
      "    if n % 2 == 1:\n",
      "        return  str(n)\n",
      "    elif n % 4 == 0:\n",
      "        return '2 * ' + printTwos(n / 4) + ' * 2'\n",
      "    elif n % 2 == 0:\n",
      "        return '2 * ' + printTwos(n / 2)"
     ],
     "language": "python",
     "metadata": {},
     "outputs": [],
     "prompt_number": 64
    },
    {
     "cell_type": "code",
     "collapsed": false,
     "input": [
      "printTwos(32)"
     ],
     "language": "python",
     "metadata": {},
     "outputs": [
      {
       "metadata": {},
       "output_type": "pyout",
       "prompt_number": 65,
       "text": [
        "'2 * 2 * 2 * 1 * 2 * 2'"
       ]
      }
     ],
     "prompt_number": 65
    },
    {
     "cell_type": "code",
     "collapsed": false,
     "input": [],
     "language": "python",
     "metadata": {},
     "outputs": []
    }
   ],
   "metadata": {}
  }
 ]
}