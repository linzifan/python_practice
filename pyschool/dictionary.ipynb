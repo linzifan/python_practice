{
 "metadata": {
  "name": "",
  "signature": "sha256:579b320289f00e444c84306ca7203874522bc33a5b691799cd8be4cebee9d43f"
 },
 "nbformat": 3,
 "nbformat_minor": 0,
 "worksheets": [
  {
   "cells": [
    {
     "cell_type": "code",
     "collapsed": false,
     "input": [
      "st = {'a':5}"
     ],
     "language": "python",
     "metadata": {},
     "outputs": [],
     "prompt_number": 2
    },
    {
     "cell_type": "code",
     "collapsed": false,
     "input": [
      "st['a']"
     ],
     "language": "python",
     "metadata": {},
     "outputs": [
      {
       "metadata": {},
       "output_type": "pyout",
       "prompt_number": 3,
       "text": [
        "5"
       ]
      }
     ],
     "prompt_number": 3
    },
    {
     "cell_type": "code",
     "collapsed": false,
     "input": [
      "contactinfo = {\"Tom\": {'Email':'tom@gmail.com', 'Phone':61234567}, \"Sally\": {'Email':'sally@hotmail.com', 'Phone':67654321}}"
     ],
     "language": "python",
     "metadata": {},
     "outputs": [],
     "prompt_number": 4
    },
    {
     "cell_type": "code",
     "collapsed": false,
     "input": [
      "contactinfo[\"Tom\"]"
     ],
     "language": "python",
     "metadata": {},
     "outputs": [
      {
       "metadata": {},
       "output_type": "pyout",
       "prompt_number": 5,
       "text": [
        "{'Email': 'tom@gmail.com', 'Phone': 61234567}"
       ]
      }
     ],
     "prompt_number": 5
    },
    {
     "cell_type": "code",
     "collapsed": false,
     "input": [
      "d = { 1: 0.4 }"
     ],
     "language": "python",
     "metadata": {},
     "outputs": [],
     "prompt_number": 12
    },
    {
     "cell_type": "code",
     "collapsed": false,
     "input": [
      "d[1]"
     ],
     "language": "python",
     "metadata": {},
     "outputs": [
      {
       "metadata": {},
       "output_type": "pyout",
       "prompt_number": 13,
       "text": [
        "0.4"
       ]
      }
     ],
     "prompt_number": 13
    },
    {
     "cell_type": "code",
     "collapsed": false,
     "input": [
      "def baseComposition(dna_seq):\n",
      "    res = {'A': 0, 'C': 0, 'T': 0,  'G': 0 }\n",
      "    for unit in dna_seq:\n",
      "        res[unit] += 1\n",
      "    return res"
     ],
     "language": "python",
     "metadata": {},
     "outputs": [],
     "prompt_number": 18
    },
    {
     "cell_type": "code",
     "collapsed": false,
     "input": [
      "res"
     ],
     "language": "python",
     "metadata": {},
     "outputs": [
      {
       "metadata": {},
       "output_type": "pyout",
       "prompt_number": 19,
       "text": [
        "{'A': 4, 'C': 8, 'G': 3, 'T': 5}"
       ]
      }
     ],
     "prompt_number": 19
    },
    {
     "cell_type": "code",
     "collapsed": false,
     "input": [
      "lst = list(\"google\")"
     ],
     "language": "python",
     "metadata": {},
     "outputs": [],
     "prompt_number": 20
    },
    {
     "cell_type": "code",
     "collapsed": false,
     "input": [
      "def countLetters(word):\n",
      "    lst = list(word)\n",
      "    dic = {}\n",
      "    for item in lst:\n",
      "        dic[item] = dic.get(item, 0) + 1\n",
      "    return dic"
     ],
     "language": "python",
     "metadata": {},
     "outputs": [],
     "prompt_number": 24
    },
    {
     "cell_type": "code",
     "collapsed": false,
     "input": [
      "countLetters(\"word\")"
     ],
     "language": "python",
     "metadata": {},
     "outputs": [
      {
       "metadata": {},
       "output_type": "pyout",
       "prompt_number": 25,
       "text": [
        "{'d': 1, 'o': 1, 'r': 1, 'w': 1}"
       ]
      }
     ],
     "prompt_number": 25
    },
    {
     "cell_type": "code",
     "collapsed": false,
     "input": [
      "d = {'a':1, 'b':2, 'c':3, 'd':2}\n",
      "vals = list(set(d.values()))"
     ],
     "language": "python",
     "metadata": {},
     "outputs": [
      {
       "metadata": {},
       "output_type": "pyout",
       "prompt_number": 54,
       "text": [
        "[1, 2, 3]"
       ]
      }
     ],
     "prompt_number": 54
    },
    {
     "cell_type": "code",
     "collapsed": false,
     "input": [
      "def reverseLookup(dictionary, value):\n",
      "    res = []\n",
      "    val = dictionary.values()\n",
      "    for i in range(len(val)):\n",
      "        if val[i] == value:\n",
      "            res.append(dictionary.keys()[i])\n",
      "    return sorted(res)"
     ],
     "language": "python",
     "metadata": {},
     "outputs": [],
     "prompt_number": 49
    },
    {
     "cell_type": "code",
     "collapsed": false,
     "input": [
      "reverseLookup({'a':1, 'b':2, 'c':2}, 1)"
     ],
     "language": "python",
     "metadata": {},
     "outputs": [
      {
       "metadata": {},
       "output_type": "pyout",
       "prompt_number": 50,
       "text": [
        "['a']"
       ]
      }
     ],
     "prompt_number": 50
    },
    {
     "cell_type": "code",
     "collapsed": false,
     "input": [
      "reverseLookup({'a':1, 'b':2, 'c':2}, 2)"
     ],
     "language": "python",
     "metadata": {},
     "outputs": [
      {
       "metadata": {},
       "output_type": "pyout",
       "prompt_number": 51,
       "text": [
        "['b', 'c']"
       ]
      }
     ],
     "prompt_number": 51
    },
    {
     "cell_type": "code",
     "collapsed": false,
     "input": [
      "def invertDictionary(d):\n",
      "    def reverseLookup(dictionary, value):\n",
      "        res = []\n",
      "        val = dictionary.values()\n",
      "        for i in range(len(val)):\n",
      "            if val[i] == value:\n",
      "                res.append(dictionary.keys()[i])\n",
      "        return res\n",
      "    res = {}\n",
      "    vals = list(set(d.values()))\n",
      "    for item in vals:\n",
      "        res[item] = reverseLookup(d, item)\n",
      "    return res"
     ],
     "language": "python",
     "metadata": {},
     "outputs": [],
     "prompt_number": 61
    },
    {
     "cell_type": "code",
     "collapsed": false,
     "input": [
      "invertDictionary({'a':1, 'b':2, 'c':3, 'd':2})"
     ],
     "language": "python",
     "metadata": {},
     "outputs": [
      {
       "metadata": {},
       "output_type": "pyout",
       "prompt_number": 62,
       "text": [
        "{1: ['a'], 2: ['b', 'd'], 3: ['c']}"
       ]
      }
     ],
     "prompt_number": 62
    },
    {
     "cell_type": "code",
     "collapsed": false,
     "input": [
      "numbers = [1, 0, 0, 2, 0, 0, 0, 3, 0, 0, 0, 0, 4]"
     ],
     "language": "python",
     "metadata": {},
     "outputs": [],
     "prompt_number": 64
    },
    {
     "cell_type": "code",
     "collapsed": false,
     "input": [
      "def convertVector(numbers):\n",
      "    dic = {}\n",
      "    for i in range(len(numbers)):\n",
      "        if numbers[i] != 0:\n",
      "            dic[i] = numbers[i]\n",
      "    return dic"
     ],
     "language": "python",
     "metadata": {},
     "outputs": [],
     "prompt_number": 69
    },
    {
     "cell_type": "code",
     "collapsed": false,
     "input": [
      "dic"
     ],
     "language": "python",
     "metadata": {},
     "outputs": [
      {
       "metadata": {},
       "output_type": "pyout",
       "prompt_number": 68,
       "text": [
        "{0: 1, 3: 2, 7: 3, 12: 4}"
       ]
      }
     ],
     "prompt_number": 68
    },
    {
     "cell_type": "code",
     "collapsed": false,
     "input": [
      "dic = {0: 1, 3: 2, 7: 3, 12: 4}\n",
      "dic"
     ],
     "language": "python",
     "metadata": {},
     "outputs": [
      {
       "metadata": {},
       "output_type": "pyout",
       "prompt_number": 70,
       "text": [
        "{0: 1, 3: 2, 7: 3, 12: 4}"
       ]
      }
     ],
     "prompt_number": 70
    },
    {
     "cell_type": "code",
     "collapsed": false,
     "input": [
      "def convertDictionary(dictionary):\n",
      "    if len(dictionary) == 0:\n",
      "        return []\n",
      "    else:\n",
      "        res = [0 for i in range(max(dictionary.keys()) + 1)]\n",
      "    for i in dictionary.keys():\n",
      "        res[i] = dictionary[i]\n",
      "    return res"
     ],
     "language": "python",
     "metadata": {},
     "outputs": [],
     "prompt_number": 82
    },
    {
     "cell_type": "code",
     "collapsed": false,
     "input": [
      "res"
     ],
     "language": "python",
     "metadata": {},
     "outputs": [
      {
       "metadata": {},
       "output_type": "pyout",
       "prompt_number": 84,
       "text": [
        "[1, 0, 0, 2, 0, 0, 0, 3, 0, 0, 0, 0, 4]"
       ]
      }
     ],
     "prompt_number": 84
    },
    {
     "cell_type": "code",
     "collapsed": false,
     "input": [],
     "language": "python",
     "metadata": {},
     "outputs": []
    }
   ],
   "metadata": {}
  }
 ]
}