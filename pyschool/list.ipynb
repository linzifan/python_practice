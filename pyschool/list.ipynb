{
 "metadata": {
  "name": "",
  "signature": "sha256:681c6c028e1627a03c1e33e98a0d8695f607821bb3afc62c06b0d8f5e4455558"
 },
 "nbformat": 3,
 "nbformat_minor": 0,
 "worksheets": [
  {
   "cells": [
    {
     "cell_type": "code",
     "collapsed": false,
     "input": [
      "# Write a function calCumulativeSum(numbers) that takes in a list of \n",
      "# numbers as argument and returns the cumulative sum of the list. That \n",
      "# is, the new list where the i element is the sum of the first \n",
      "# i + 1 elements from the original list. \n",
      "# For example, the cumulative sum of [1, 2, 3] is [1, 3, 6].\n",
      "def calCumulativeSum(numbers): \n",
      "    ind = len(numbers)\n",
      "    i = 1\n",
      "    s = [numbers[0]]\n",
      "    while i < ind:\n",
      "       s.append(s[i-1] + numbers[i])\n",
      "       i += 1\n",
      "    return s \n",
      "calCumulativeSum([1,2,3])"
     ],
     "language": "python",
     "metadata": {},
     "outputs": [
      {
       "metadata": {},
       "output_type": "pyout",
       "prompt_number": 2,
       "text": [
        "[1, 3, 6]"
       ]
      }
     ],
     "prompt_number": 2
    },
    {
     "cell_type": "code",
     "collapsed": false,
     "input": [
      "# Write a function (list1, list2) that takes in two lists as arguments \n",
      "# and return a list that is the result of removing elements from list1 \n",
      "# that can be found in list2\n",
      "def subtractList(list1, list2):\n",
      "    lst = []\n",
      "    for item in list1:\n",
      "        if item not in list2:\n",
      "            lst.append(item)\n",
      "        else:\n",
      "            continue\n",
      "    return lst\n",
      "subtractList (range(5), range(4))"
     ],
     "language": "python",
     "metadata": {},
     "outputs": [
      {
       "output_type": "stream",
       "stream": "stdout",
       "text": [
        "[4]\n"
       ]
      },
      {
       "metadata": {},
       "output_type": "pyout",
       "prompt_number": 22,
       "text": [
        "[4]"
       ]
      }
     ],
     "prompt_number": 22
    },
    {
     "cell_type": "code",
     "collapsed": false,
     "input": [
      "subtractList(range(5), range(4))"
     ],
     "language": "python",
     "metadata": {},
     "outputs": [
      {
       "output_type": "stream",
       "stream": "stdout",
       "text": [
        "[1, 3, 4]\n"
       ]
      },
      {
       "metadata": {},
       "output_type": "pyout",
       "prompt_number": 17,
       "text": [
        "[1, 3, 4]"
       ]
      }
     ],
     "prompt_number": 17
    },
    {
     "cell_type": "code",
     "collapsed": false,
     "input": [
      "def subtractList(list1, list2): \n",
      "    s1 = set(list1)\n",
      "    s2 = set(list2)\n",
      "    return sorted(list(s1 - s2))"
     ],
     "language": "python",
     "metadata": {},
     "outputs": [],
     "prompt_number": 21
    },
    {
     "cell_type": "code",
     "collapsed": false,
     "input": [
      "# Write a function getNumbers(number) that takes in a number as argument\n",
      "# and return a list of numbers as shown in the samples given below\n",
      "#  >>> getNumbers(10)\n",
      "#    [100, 64, 36, 16, 4, 0, 4, 16, 36, 64, 100]\n",
      "#  >>> getNumbers(9)\n",
      "#    [81, 49, 25, 9, 1, 1, 9, 25, 49, 81]\n",
      "\n",
      "def getNumbers(num):\n",
      "    lst = []\n",
      "    n = num\n",
      "    while n >= 0:\n",
      "        lst.append(n ** 2)\n",
      "        n -= 2\n",
      "    if n == -2:\n",
      "        n = 2\n",
      "    else:\n",
      "        n = 1\n",
      "    while n <= num:\n",
      "        lst.append(n ** 2)\n",
      "        n += 2\n",
      "    return lst"
     ],
     "language": "python",
     "metadata": {},
     "outputs": [],
     "prompt_number": 29
    },
    {
     "cell_type": "code",
     "collapsed": false,
     "input": [
      "getNumbers(8)"
     ],
     "language": "python",
     "metadata": {},
     "outputs": [
      {
       "metadata": {},
       "output_type": "pyout",
       "prompt_number": 30,
       "text": [
        "[64, 36, 16, 4, 0, 4, 16, 36, 64]"
       ]
      }
     ],
     "prompt_number": 30
    },
    {
     "cell_type": "code",
     "collapsed": false,
     "input": [
      "getNumbers(9)"
     ],
     "language": "python",
     "metadata": {},
     "outputs": [
      {
       "metadata": {},
       "output_type": "pyout",
       "prompt_number": 31,
       "text": [
        "[81, 49, 25, 9, 1, 1, 9, 25, 49, 81]"
       ]
      }
     ],
     "prompt_number": 31
    },
    {
     "cell_type": "code",
     "collapsed": false,
     "input": [
      "# Write a function getSumOfFirstDigit(numList) that takes in a \n",
      "# list of positive numbers and returns the sum of all the first \n",
      "# digit in the list.\n",
      "def getSumOfFirstDigit(num): \n",
      "    s = 0\n",
      "    for item in num:\n",
      "        s += (item / 10 ** (len(str(item)) - 1))\n",
      "    return s"
     ],
     "language": "python",
     "metadata": {},
     "outputs": [],
     "prompt_number": 44
    },
    {
     "cell_type": "code",
     "collapsed": false,
     "input": [
      "getSumOfFirstDigit([1, 23, 456, 7890])"
     ],
     "language": "python",
     "metadata": {},
     "outputs": [
      {
       "metadata": {},
       "output_type": "pyout",
       "prompt_number": 45,
       "text": [
        "14"
       ]
      }
     ],
     "prompt_number": 45
    },
    {
     "cell_type": "code",
     "collapsed": false,
     "input": [
      "getSumOfFirstDigit([])"
     ],
     "language": "python",
     "metadata": {},
     "outputs": [
      {
       "metadata": {},
       "output_type": "pyout",
       "prompt_number": 46,
       "text": [
        "0"
       ]
      }
     ],
     "prompt_number": 46
    },
    {
     "cell_type": "code",
     "collapsed": false,
     "input": [
      "a = [ ]\n",
      "b = [0]\n",
      "a.append([ ])\n",
      "b.append([0])\n",
      "a.extend([ ])\n",
      "b.extend([0]) "
     ],
     "language": "python",
     "metadata": {},
     "outputs": [],
     "prompt_number": 48
    },
    {
     "cell_type": "code",
     "collapsed": false,
     "input": [
      "a"
     ],
     "language": "python",
     "metadata": {},
     "outputs": [
      {
       "metadata": {},
       "output_type": "pyout",
       "prompt_number": 49,
       "text": [
        "[[]]"
       ]
      }
     ],
     "prompt_number": 49
    },
    {
     "cell_type": "code",
     "collapsed": false,
     "input": [
      "b"
     ],
     "language": "python",
     "metadata": {},
     "outputs": [
      {
       "metadata": {},
       "output_type": "pyout",
       "prompt_number": 50,
       "text": [
        "[0, [0], 0]"
       ]
      }
     ],
     "prompt_number": 50
    },
    {
     "cell_type": "code",
     "collapsed": false,
     "input": [],
     "language": "python",
     "metadata": {},
     "outputs": []
    },
    {
     "cell_type": "code",
     "collapsed": false,
     "input": [],
     "language": "python",
     "metadata": {},
     "outputs": []
    }
   ],
   "metadata": {}
  }
 ]
}