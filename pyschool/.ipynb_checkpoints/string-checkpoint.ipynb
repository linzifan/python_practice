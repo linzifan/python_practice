{
 "metadata": {
  "name": "",
  "signature": "sha256:2b3f8891fc45b2b954aeee0854afc0d499a1458a9c793abe58fa6570290d7d20"
 },
 "nbformat": 3,
 "nbformat_minor": 0,
 "worksheets": [
  {
   "cells": [
    {
     "cell_type": "code",
     "collapsed": false,
     "input": [
      "def capitalizeVowels(word):\n",
      "    vowel = ['a', 'e', 'i', 'o', 'u']\n",
      "    VOWEL = ['A', 'E', 'I', 'O', 'U']\n",
      "    res = ''\n",
      "    for i in range(len(word)):\n",
      "        if word[i] in vowel:\n",
      "            res += chr(ord(word[i]) - 32)\n",
      "        elif word[i] in VOWEL:\n",
      "            res += chr(ord(word[i]) + 32)\n",
      "        else:\n",
      "            res += word[i]\n",
      "    return res"
     ],
     "language": "python",
     "metadata": {},
     "outputs": [],
     "prompt_number": 3
    },
    {
     "cell_type": "code",
     "collapsed": false,
     "input": [
      "capitalizeVowels(\"apple\")"
     ],
     "language": "python",
     "metadata": {},
     "outputs": [
      {
       "metadata": {},
       "output_type": "pyout",
       "prompt_number": 4,
       "text": [
        "'ApplE'"
       ]
      }
     ],
     "prompt_number": 4
    },
    {
     "cell_type": "code",
     "collapsed": false,
     "input": [
      "def startEndVowels(word):\n",
      "    vowel = ['a', 'e', 'i', 'o', 'u', 'A', 'E', 'I', 'O', 'U']\n",
      "    if len(word) == 0:\n",
      "        return False\n",
      "    if len(word) == 1:\n",
      "        if word[0] in vowel:\n",
      "            return True\n",
      "        else: \n",
      "            return False\n",
      "    if len(word) > 1:\n",
      "        if word[0] in vowel and word[-1] in vowel:\n",
      "            return True\n",
      "        else:\n",
      "            return False"
     ],
     "language": "python",
     "metadata": {},
     "outputs": [],
     "prompt_number": 5
    },
    {
     "cell_type": "code",
     "collapsed": false,
     "input": [
      "def removeVowels(word):\n",
      "    vowel = ['a', 'e', 'i', 'o', 'u', 'A', 'E', 'I', 'O', 'U']\n",
      "    res = ''\n",
      "    for i in range(len(word)):\n",
      "        if word[i] not in vowel:\n",
      "            res += word[i]\n",
      "    return res"
     ],
     "language": "python",
     "metadata": {},
     "outputs": [],
     "prompt_number": 7
    },
    {
     "cell_type": "code",
     "collapsed": false,
     "input": [
      "def reverseWord(word):\n",
      "    res = ''\n",
      "    for i in range(len(word)):\n",
      "        res += word[len(word) - i - 1]\n",
      "    return res"
     ],
     "language": "python",
     "metadata": {},
     "outputs": [],
     "prompt_number": 8
    },
    {
     "cell_type": "code",
     "collapsed": false,
     "input": [
      "reverseWord('google')"
     ],
     "language": "python",
     "metadata": {},
     "outputs": [
      {
       "metadata": {},
       "output_type": "pyout",
       "prompt_number": 9,
       "text": [
        "'elgoog'"
       ]
      }
     ],
     "prompt_number": 9
    },
    {
     "cell_type": "code",
     "collapsed": false,
     "input": [
      "def startWithVowel(word):\n",
      "    vowel = ['a', 'e', 'i', 'o', 'u', 'A', 'E', 'I', 'O', 'U']\n",
      "    j = 0\n",
      "    for i in range(len(word)):\n",
      "        if word[i] in vowel:\n",
      "            break\n",
      "        else: j += 1\n",
      "    if j >= len(word):\n",
      "        return 'No vowel'\n",
      "    else:\n",
      "        return word[i:]"
     ],
     "language": "python",
     "metadata": {},
     "outputs": [],
     "prompt_number": 25
    },
    {
     "cell_type": "code",
     "collapsed": false,
     "input": [
      "startWithVowel('xyz')"
     ],
     "language": "python",
     "metadata": {},
     "outputs": [
      {
       "metadata": {},
       "output_type": "pyout",
       "prompt_number": 27,
       "text": [
        "'a'"
       ]
      }
     ],
     "prompt_number": 27
    },
    {
     "cell_type": "code",
     "collapsed": false,
     "input": [
      "word = 'xyz'\n",
      "j = 0\n",
      "vowel = ['a', 'e', 'i', 'o', 'u', 'A', 'E', 'I', 'O', 'U']\n",
      "for i in range(len(word)):\n",
      "    if word[i] in vowel:\n",
      "        break\n",
      "    else: j += 1\n",
      "i, j"
     ],
     "language": "python",
     "metadata": {},
     "outputs": [
      {
       "metadata": {},
       "output_type": "pyout",
       "prompt_number": 24,
       "text": [
        "(2, 3)"
       ]
      }
     ],
     "prompt_number": 24
    },
    {
     "cell_type": "code",
     "collapsed": false,
     "input": [
      "def getCommonLetters(word1, word2):\n",
      "    w1 = list(word1)\n",
      "    w2 = []\n",
      "    for i in range(len(word2)):\n",
      "        if word2[i] in w1 and word2[i] not in w2:\n",
      "            w2.append(word2[i])\n",
      "    w2 = sorted(w2)\n",
      "    res = ''\n",
      "    for i in range(len(w2)):\n",
      "        res += w2[i]\n",
      "    return res"
     ],
     "language": "python",
     "metadata": {},
     "outputs": [],
     "prompt_number": 33
    },
    {
     "cell_type": "code",
     "collapsed": false,
     "input": [
      "getCommonLetters('apple','google')"
     ],
     "language": "python",
     "metadata": {},
     "outputs": [
      {
       "metadata": {},
       "output_type": "pyout",
       "prompt_number": 34,
       "text": [
        "'el'"
       ]
      }
     ],
     "prompt_number": 34
    },
    {
     "cell_type": "code",
     "collapsed": false,
     "input": [
      "getCommonLetters('microsoft','apple')"
     ],
     "language": "python",
     "metadata": {},
     "outputs": [
      {
       "metadata": {},
       "output_type": "pyout",
       "prompt_number": 32,
       "text": [
        "''"
       ]
      }
     ],
     "prompt_number": 32
    },
    {
     "cell_type": "code",
     "collapsed": false,
     "input": [
      "getCommonLetters('microsoft','google')"
     ],
     "language": "python",
     "metadata": {},
     "outputs": [
      {
       "metadata": {},
       "output_type": "pyout",
       "prompt_number": 35,
       "text": [
        "'o'"
       ]
      }
     ],
     "prompt_number": 35
    },
    {
     "cell_type": "code",
     "collapsed": false,
     "input": [
      "'a' <= 'b'"
     ],
     "language": "python",
     "metadata": {},
     "outputs": [
      {
       "metadata": {},
       "output_type": "pyout",
       "prompt_number": 39,
       "text": [
        "True"
       ]
      }
     ],
     "prompt_number": 39
    },
    {
     "cell_type": "code",
     "collapsed": false,
     "input": [
      "def isInAlphabeticalOrder(word):\n",
      "    w = list(word)\n",
      "    for i in range(len(w)):\n",
      "        if w[i] >= 'A' and w[i] <= 'Z':\n",
      "            w[i] = chr(ord(w[i]) + 32)\n",
      "    for i in range(len(w) - 1):\n",
      "        if w[i] <= w[i + 1]:\n",
      "            continue\n",
      "        else:\n",
      "            return False\n",
      "    return True"
     ],
     "language": "python",
     "metadata": {},
     "outputs": [],
     "prompt_number": 43
    },
    {
     "cell_type": "code",
     "collapsed": false,
     "input": [
      "isInAlphabeticalOrder('ABc')"
     ],
     "language": "python",
     "metadata": {},
     "outputs": [
      {
       "metadata": {},
       "output_type": "pyout",
       "prompt_number": 45,
       "text": [
        "True"
       ]
      }
     ],
     "prompt_number": 45
    },
    {
     "cell_type": "code",
     "collapsed": false,
     "input": [
      "'a' in 'apple'"
     ],
     "language": "python",
     "metadata": {},
     "outputs": [
      {
       "metadata": {},
       "output_type": "pyout",
       "prompt_number": 46,
       "text": [
        "True"
       ]
      }
     ],
     "prompt_number": 46
    },
    {
     "cell_type": "code",
     "collapsed": false,
     "input": [],
     "language": "python",
     "metadata": {},
     "outputs": []
    }
   ],
   "metadata": {}
  }
 ]
}