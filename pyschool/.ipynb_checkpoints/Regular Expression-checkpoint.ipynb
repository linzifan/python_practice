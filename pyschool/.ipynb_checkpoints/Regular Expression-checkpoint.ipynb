{
 "metadata": {
  "name": "",
  "signature": "sha256:a54b9361954be26f2c3182a5b36e215cb9b81635a9df3236b00bc92b9e5b0700"
 },
 "nbformat": 3,
 "nbformat_minor": 0,
 "worksheets": [
  {
   "cells": [
    {
     "cell_type": "code",
     "collapsed": false,
     "input": [
      "import re\n",
      "a = re.findall(  'e'  , 'telephone')  # len(a) = 3\n",
      "b = re.findall( 'a',   'aaaa'           )  # len(b) = 4 "
     ],
     "language": "python",
     "metadata": {},
     "outputs": [],
     "prompt_number": 2
    },
    {
     "cell_type": "code",
     "collapsed": false,
     "input": [
      "a\n"
     ],
     "language": "python",
     "metadata": {},
     "outputs": [
      {
       "metadata": {},
       "output_type": "pyout",
       "prompt_number": 4,
       "text": [
        "['e', 'e', 'e']"
       ]
      }
     ],
     "prompt_number": 4
    },
    {
     "cell_type": "code",
     "collapsed": false,
     "input": [
      "import re\n",
      "re.findall('.', 'abcd')   # match any character\n",
      "   # ['a', 'b', 'c', 'd']\n",
      "re.findall('^a', 'abcd')  # match only if 'a' is at start of line\n",
      "   # ['a']\n",
      "re.findall('^d$', 'abcd') # match if 'd' is the only character in a line.\n",
      "   # []"
     ],
     "language": "python",
     "metadata": {},
     "outputs": [
      {
       "metadata": {},
       "output_type": "pyout",
       "prompt_number": 5,
       "text": [
        "[]"
       ]
      }
     ],
     "prompt_number": 5
    },
    {
     "cell_type": "code",
     "collapsed": false,
     "input": [
      "a = re.findall('..$', 'aeroplane')  # '$' character matches the end of the string. last two\n",
      "a"
     ],
     "language": "python",
     "metadata": {},
     "outputs": [
      {
       "metadata": {},
       "output_type": "pyout",
       "prompt_number": 6,
       "text": [
        "['ne']"
       ]
      }
     ],
     "prompt_number": 6
    },
    {
     "cell_type": "code",
     "collapsed": false,
     "input": [
      "b = re.findall('^.', 'computer')  # '^' character matches the start of the string. first one\n",
      "b"
     ],
     "language": "python",
     "metadata": {},
     "outputs": [
      {
       "metadata": {},
       "output_type": "pyout",
       "prompt_number": 7,
       "text": [
        "['c']"
       ]
      }
     ],
     "prompt_number": 7
    },
    {
     "cell_type": "code",
     "collapsed": false,
     "input": [
      "import re\n",
      "re.findall('.*', 'abcd') # match any number of characters\n",
      " # ['abcd', '']  # additional '' because '*' matches zero character or empty string.\n",
      "re.findall('.+', 'abcd') # match 1 or more characters\n",
      " # ['abcd']\n",
      "re.findall('.?', 'abcd') # match 0 or 1 character\n",
      " # ['a', 'b', 'c', 'd', '']"
     ],
     "language": "python",
     "metadata": {},
     "outputs": [
      {
       "metadata": {},
       "output_type": "pyout",
       "prompt_number": 8,
       "text": [
        "['a', 'b', 'c', 'd', '']"
       ]
      }
     ],
     "prompt_number": 8
    },
    {
     "cell_type": "code",
     "collapsed": false,
     "input": [
      "a = re.findall('..*', 'aeroplane')\n",
      "a"
     ],
     "language": "python",
     "metadata": {},
     "outputs": [
      {
       "metadata": {},
       "output_type": "pyout",
       "prompt_number": 10,
       "text": [
        "['aeroplane']"
       ]
      }
     ],
     "prompt_number": 10
    },
    {
     "cell_type": "code",
     "collapsed": false,
     "input": [
      "b = re.findall('..+', 'aeroplane')\n",
      "b"
     ],
     "language": "python",
     "metadata": {},
     "outputs": [
      {
       "metadata": {},
       "output_type": "pyout",
       "prompt_number": 11,
       "text": [
        "['aeroplane']"
       ]
      }
     ],
     "prompt_number": 11
    },
    {
     "cell_type": "code",
     "collapsed": false,
     "input": [
      "c = re.findall('..?', 'aeroplane') \n",
      "c"
     ],
     "language": "python",
     "metadata": {},
     "outputs": [
      {
       "metadata": {},
       "output_type": "pyout",
       "prompt_number": 12,
       "text": [
        "['ae', 'ro', 'pl', 'an', 'e']"
       ]
      }
     ],
     "prompt_number": 12
    },
    {
     "cell_type": "code",
     "collapsed": false,
     "input": [
      "# Initialize the variables \"regex\" and \"target\" which produces the output in the example above.\n",
      "import re\n",
      "regex  = \"com|edu|org\"\n",
      "target = \"orgeducom\" \n",
      "re.findall(regex, target)"
     ],
     "language": "python",
     "metadata": {},
     "outputs": [
      {
       "metadata": {},
       "output_type": "pyout",
       "prompt_number": 13,
       "text": [
        "['org', 'edu', 'com']"
       ]
      }
     ],
     "prompt_number": 13
    },
    {
     "cell_type": "code",
     "collapsed": false,
     "input": [
      "# \\d matches any decimal digit.\n",
      "# \\D matches any non-digit character.\n",
      "# \\w matches any alphanumeric character and the underscore.\n",
      "# \\W matches the complement of \\w.\n",
      "import re\n",
      "regex_1 =  '[a-z,A-Z,0-9,\"_\"]'  # \\w  \n",
      "regex_2 =  '[^a-z,A-Z,0-9,\"_\"]'  # \\W"
     ],
     "language": "python",
     "metadata": {},
     "outputs": [],
     "prompt_number": 14
    },
    {
     "cell_type": "code",
     "collapsed": false,
     "input": [
      "re.sub(r'([aeiou])\\1+', r'\\1', 'zaaro') # enclose vowels with <b>, </b>.  \n",
      "    #'z<b>e</b>r<b>o</b>'"
     ],
     "language": "python",
     "metadata": {},
     "outputs": [
      {
       "metadata": {},
       "output_type": "pyout",
       "prompt_number": 28,
       "text": [
        "'zaro'"
       ]
      }
     ],
     "prompt_number": 28
    },
    {
     "cell_type": "code",
     "collapsed": false,
     "input": [],
     "language": "python",
     "metadata": {},
     "outputs": []
    }
   ],
   "metadata": {}
  }
 ]
}