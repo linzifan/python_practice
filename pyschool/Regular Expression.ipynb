{
 "metadata": {
  "name": "",
  "signature": "sha256:fc3cde198de02213147147c3e819015f67f68a979a88c77f7ed4bcec33aa2143"
 },
 "nbformat": 3,
 "nbformat_minor": 0,
 "worksheets": [
  {
   "cells": [
    {
     "cell_type": "code",
     "collapsed": false,
     "input": [
      "import re\n",
      "a = re.findall(  'e'  , 'telephone')  # len(a) = 3\n",
      "b = re.findall( 'a',   'aaaa'           )  # len(b) = 4 "
     ],
     "language": "python",
     "metadata": {},
     "outputs": [],
     "prompt_number": 2
    },
    {
     "cell_type": "code",
     "collapsed": false,
     "input": [
      "a\n"
     ],
     "language": "python",
     "metadata": {},
     "outputs": [
      {
       "metadata": {},
       "output_type": "pyout",
       "prompt_number": 4,
       "text": [
        "['e', 'e', 'e']"
       ]
      }
     ],
     "prompt_number": 4
    },
    {
     "cell_type": "code",
     "collapsed": false,
     "input": [
      "import re\n",
      "re.findall('.', 'abcd')   # match any character\n",
      "   # ['a', 'b', 'c', 'd']\n",
      "re.findall('^a', 'abcd')  # match only if 'a' is at start of line\n",
      "   # ['a']\n",
      "re.findall('^d$', 'abcd') # match if 'd' is the only character in a line.\n",
      "   # []"
     ],
     "language": "python",
     "metadata": {},
     "outputs": [
      {
       "metadata": {},
       "output_type": "pyout",
       "prompt_number": 5,
       "text": [
        "[]"
       ]
      }
     ],
     "prompt_number": 5
    },
    {
     "cell_type": "code",
     "collapsed": false,
     "input": [
      "a = re.findall('..$', 'aeroplane')  # '$' character matches the end of the string. last two\n",
      "a"
     ],
     "language": "python",
     "metadata": {},
     "outputs": [
      {
       "metadata": {},
       "output_type": "pyout",
       "prompt_number": 6,
       "text": [
        "['ne']"
       ]
      }
     ],
     "prompt_number": 6
    },
    {
     "cell_type": "code",
     "collapsed": false,
     "input": [
      "b = re.findall('^.', 'computer')  # '^' character matches the start of the string. first one\n",
      "b"
     ],
     "language": "python",
     "metadata": {},
     "outputs": [
      {
       "metadata": {},
       "output_type": "pyout",
       "prompt_number": 7,
       "text": [
        "['c']"
       ]
      }
     ],
     "prompt_number": 7
    },
    {
     "cell_type": "code",
     "collapsed": false,
     "input": [
      "import re\n",
      "re.findall('.*', 'abcd') # match any number of characters\n",
      " # ['abcd', '']  # additional '' because '*' matches zero character or empty string.\n",
      "re.findall('.+', 'abcd') # match 1 or more characters\n",
      " # ['abcd']\n",
      "re.findall('.?', 'abcd') # match 0 or 1 character\n",
      " # ['a', 'b', 'c', 'd', '']"
     ],
     "language": "python",
     "metadata": {},
     "outputs": [
      {
       "metadata": {},
       "output_type": "pyout",
       "prompt_number": 8,
       "text": [
        "['a', 'b', 'c', 'd', '']"
       ]
      }
     ],
     "prompt_number": 8
    },
    {
     "cell_type": "code",
     "collapsed": false,
     "input": [
      "a = re.findall('..*', 'aeroplane')\n",
      "a"
     ],
     "language": "python",
     "metadata": {},
     "outputs": [
      {
       "metadata": {},
       "output_type": "pyout",
       "prompt_number": 10,
       "text": [
        "['aeroplane']"
       ]
      }
     ],
     "prompt_number": 10
    },
    {
     "cell_type": "code",
     "collapsed": false,
     "input": [
      "b = re.findall('..+', 'aeroplane')\n",
      "b"
     ],
     "language": "python",
     "metadata": {},
     "outputs": [
      {
       "metadata": {},
       "output_type": "pyout",
       "prompt_number": 11,
       "text": [
        "['aeroplane']"
       ]
      }
     ],
     "prompt_number": 11
    },
    {
     "cell_type": "code",
     "collapsed": false,
     "input": [
      "c = re.findall('..?', 'aeroplane') \n",
      "c"
     ],
     "language": "python",
     "metadata": {},
     "outputs": [
      {
       "metadata": {},
       "output_type": "pyout",
       "prompt_number": 12,
       "text": [
        "['ae', 'ro', 'pl', 'an', 'e']"
       ]
      }
     ],
     "prompt_number": 12
    },
    {
     "cell_type": "code",
     "collapsed": false,
     "input": [
      "# Initialize the variables \"regex\" and \"target\" which produces the output in the example above.\n",
      "import re\n",
      "regex  = \"com|edu|org\"\n",
      "target = \"orgeducom\" \n",
      "re.findall(regex, target)"
     ],
     "language": "python",
     "metadata": {},
     "outputs": [
      {
       "metadata": {},
       "output_type": "pyout",
       "prompt_number": 13,
       "text": [
        "['org', 'edu', 'com']"
       ]
      }
     ],
     "prompt_number": 13
    },
    {
     "cell_type": "code",
     "collapsed": false,
     "input": [
      "# \\d matches any decimal digit.\n",
      "# \\D matches any non-digit character.\n",
      "# \\w matches any alphanumeric character and the underscore.\n",
      "# \\W matches the complement of \\w.\n",
      "import re\n",
      "regex_1 =  '[a-z,A-Z,0-9,\"_\"]'  # \\w  \n",
      "regex_2 =  '[^a-z,A-Z,0-9,\"_\"]'  # \\W"
     ],
     "language": "python",
     "metadata": {},
     "outputs": [],
     "prompt_number": 14
    },
    {
     "cell_type": "code",
     "collapsed": false,
     "input": [
      "re.sub(r'([aeiou])\\1+', r'\\1', 'zaaro') # enclose vowels with <b>, </b>.  \n",
      "    #'z<b>e</b>r<b>o</b>'"
     ],
     "language": "python",
     "metadata": {},
     "outputs": [
      {
       "metadata": {},
       "output_type": "pyout",
       "prompt_number": 28,
       "text": [
        "'zaro'"
       ]
      }
     ],
     "prompt_number": 28
    },
    {
     "cell_type": "code",
     "collapsed": false,
     "input": [
      "import re\n",
      "def validate(passwd): \n",
      "    flag = True\n",
      "    if len(passwd) < 6 or len(passwd) > 8:\n",
      "        flag = False\n",
      "    else:\n",
      "        l1 = len(re.findall(r\"([0-9])\", passwd))\n",
      "        l2 = len(re.findall(r\"([a-z])\", passwd))\n",
      "        l3 = len(re.findall(r\"([A-Z])\", passwd))\n",
      "        if l1 > 0 and (l2 + l3) > 0 and l1 + l2 + l3 == len(passwd):\n",
      "            flag = True\n",
      "        else:\n",
      "            flag = False\n",
      "    if flag:\n",
      "        return 'Valid password.'\n",
      "    else:\n",
      "        return 'Invalid password.'"
     ],
     "language": "python",
     "metadata": {},
     "outputs": [],
     "prompt_number": 33
    },
    {
     "cell_type": "code",
     "collapsed": false,
     "input": [
      "validate('1234')   "
     ],
     "language": "python",
     "metadata": {},
     "outputs": [
      {
       "metadata": {},
       "output_type": "pyout",
       "prompt_number": 34,
       "text": [
        "'Invalid password.'"
       ]
      }
     ],
     "prompt_number": 34
    },
    {
     "cell_type": "code",
     "collapsed": false,
     "input": [
      "validate('google')"
     ],
     "language": "python",
     "metadata": {},
     "outputs": [
      {
       "metadata": {},
       "output_type": "pyout",
       "prompt_number": 35,
       "text": [
        "'Invalid password.'"
       ]
      }
     ],
     "prompt_number": 35
    },
    {
     "cell_type": "code",
     "collapsed": false,
     "input": [
      "validate('passwd123')"
     ],
     "language": "python",
     "metadata": {},
     "outputs": [
      {
       "metadata": {},
       "output_type": "pyout",
       "prompt_number": 36,
       "text": [
        "'Invalid password.'"
       ]
      }
     ],
     "prompt_number": 36
    },
    {
     "cell_type": "code",
     "collapsed": false,
     "input": [
      "validate('passwd12')"
     ],
     "language": "python",
     "metadata": {},
     "outputs": [
      {
       "metadata": {},
       "output_type": "pyout",
       "prompt_number": 37,
       "text": [
        "'Valid password.'"
       ]
      }
     ],
     "prompt_number": 37
    },
    {
     "cell_type": "code",
     "collapsed": false,
     "input": [
      "validate('pas@wd12')"
     ],
     "language": "python",
     "metadata": {},
     "outputs": [
      {
       "metadata": {},
       "output_type": "pyout",
       "prompt_number": 38,
       "text": [
        "'Invalid password.'"
       ]
      }
     ],
     "prompt_number": 38
    },
    {
     "cell_type": "code",
     "collapsed": false,
     "input": [
      "re.findall(r\"([0-9])\", 'ab1c')"
     ],
     "language": "python",
     "metadata": {},
     "outputs": [
      {
       "metadata": {},
       "output_type": "pyout",
       "prompt_number": 26,
       "text": [
        "['1']"
       ]
      }
     ],
     "prompt_number": 26
    },
    {
     "cell_type": "code",
     "collapsed": false,
     "input": [],
     "language": "python",
     "metadata": {},
     "outputs": [],
     "prompt_number": 25
    },
    {
     "cell_type": "code",
     "collapsed": false,
     "input": [],
     "language": "python",
     "metadata": {},
     "outputs": []
    }
   ],
   "metadata": {}
  }
 ]
}