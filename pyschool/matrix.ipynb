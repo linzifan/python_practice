{
 "metadata": {
  "name": "",
  "signature": "sha256:f1069f4d6348ab2cd584ac3f1e3886c63743a72efe6f27265d064e879e84bd64"
 },
 "nbformat": 3,
 "nbformat_minor": 0,
 "worksheets": [
  {
   "cells": [
    {
     "cell_type": "code",
     "collapsed": false,
     "input": [
      "# Matrix Multiplication\n",
      "# Write a function that does matrix multiplication.\n",
      "# The product of a mxn matrix with a nxp matrix results in a mxp matrix.\n",
      "# A mxn matrix, with m rows and n columns, can be represented using nested lists.\n",
      "# Am,n = [ [x11, x12, ..., x1n], ..., [xm1, ..., xmn] ]\n",
      "A = [[1, 3], [-5, 6], [2, 4]]\n",
      "B = [[1, 4], [8, 7]]"
     ],
     "language": "python",
     "metadata": {},
     "outputs": [],
     "prompt_number": 29
    },
    {
     "cell_type": "code",
     "collapsed": false,
     "input": [
      "m = len(A)\n",
      "n = len(A[0])\n",
      "p = len(B[0])\n",
      "res = [[0] * p] * m"
     ],
     "language": "python",
     "metadata": {},
     "outputs": [],
     "prompt_number": 25
    },
    {
     "cell_type": "code",
     "collapsed": false,
     "input": [
      "def MatrixProduct(a, b): \n",
      "    res = [[0] * len(b[0])] * len(a)\n",
      "    for i in range(len(a)):\n",
      "        for j in range(len(b[0])):\n",
      "            for k in range(len(b)):\n",
      "                res[i][j] += a[i][k] * b[k][j]\n",
      "    return res"
     ],
     "language": "python",
     "metadata": {},
     "outputs": [],
     "prompt_number": 32
    },
    {
     "cell_type": "code",
     "collapsed": false,
     "input": [
      "MatrixProduct(A, B)"
     ],
     "language": "python",
     "metadata": {},
     "outputs": [
      {
       "metadata": {},
       "output_type": "pyout",
       "prompt_number": 33,
       "text": [
        "[[102, 83], [102, 83], [102, 83]]"
       ]
      }
     ],
     "prompt_number": 33
    },
    {
     "cell_type": "code",
     "collapsed": false,
     "input": [
      "res = [[0] * len(b[0])] * len(a)\n",
      "for i in range(len(a)):\n",
      "    for j in range(len(b[0])):\n",
      "        for k in range(len(b)):\n",
      "            res[i][j] += a[i][k] * b[k][j]"
     ],
     "language": "python",
     "metadata": {},
     "outputs": [],
     "prompt_number": 40
    },
    {
     "cell_type": "code",
     "collapsed": false,
     "input": [
      "res"
     ],
     "language": "python",
     "metadata": {},
     "outputs": [
      {
       "metadata": {},
       "output_type": "pyout",
       "prompt_number": 41,
       "text": [
        "[[102, 83], [102, 83], [102, 83]]"
       ]
      }
     ],
     "prompt_number": 41
    },
    {
     "cell_type": "code",
     "collapsed": false,
     "input": [
      "res = [[0] * len(b[0])] * len(a)"
     ],
     "language": "python",
     "metadata": {},
     "outputs": [],
     "prompt_number": 50
    },
    {
     "cell_type": "code",
     "collapsed": false,
     "input": [
      "i = 0\n",
      "j = 0\n",
      "for k in range(len(b)):\n",
      "    res[i][j] += a[i][k] * b[k][j]"
     ],
     "language": "python",
     "metadata": {},
     "outputs": [],
     "prompt_number": 51
    },
    {
     "cell_type": "code",
     "collapsed": false,
     "input": [
      "res"
     ],
     "language": "python",
     "metadata": {},
     "outputs": [
      {
       "metadata": {},
       "output_type": "pyout",
       "prompt_number": 52,
       "text": [
        "[[25, 0], [25, 0], [25, 0]]"
       ]
      }
     ],
     "prompt_number": 52
    },
    {
     "cell_type": "code",
     "collapsed": false,
     "input": [
      "res[1][0]"
     ],
     "language": "python",
     "metadata": {},
     "outputs": [
      {
       "metadata": {},
       "output_type": "pyout",
       "prompt_number": 49,
       "text": [
        "25"
       ]
      }
     ],
     "prompt_number": 49
    },
    {
     "cell_type": "code",
     "collapsed": false,
     "input": [],
     "language": "python",
     "metadata": {},
     "outputs": []
    }
   ],
   "metadata": {}
  }
 ]
}