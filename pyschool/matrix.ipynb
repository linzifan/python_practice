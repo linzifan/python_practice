{
 "metadata": {
  "name": "",
  "signature": "sha256:5780e221ef0f9a8b1a9665c994441c585ce8322ea41e8348cf8a08651ef205cd"
 },
 "nbformat": 3,
 "nbformat_minor": 0,
 "worksheets": [
  {
   "cells": [
    {
     "cell_type": "code",
     "collapsed": false,
     "input": [
      "# Matrix Multiplication\n",
      "# Write a function that does matrix multiplication.\n",
      "# The product of a mxn matrix with a nxp matrix results in a mxp matrix.\n",
      "# A mxn matrix, with m rows and n columns, can be represented using nested lists.\n",
      "# Am,n = [ [x11, x12, ..., x1n], ..., [xm1, ..., xmn] ]\n",
      "A = [[1, 3], [-5, 6], [2, 4]]\n",
      "B = [[1, 4], [8, 7]]"
     ],
     "language": "python",
     "metadata": {},
     "outputs": [],
     "prompt_number": 29
    },
    {
     "cell_type": "code",
     "collapsed": false,
     "input": [
      "m = len(A)\n",
      "n = len(A[0])\n",
      "p = len(B[0])\n",
      "res = [[0] * p] * m"
     ],
     "language": "python",
     "metadata": {},
     "outputs": [],
     "prompt_number": 25
    },
    {
     "cell_type": "code",
     "collapsed": false,
     "input": [
      "def MatrixProduct(a, b): \n",
      "    res = [[0 for i in range(len(b))] for j in range(len(a))]\n",
      "    for i in range(len(a)):\n",
      "        for j in range(len(b[0])):\n",
      "            for k in range(len(b)):\n",
      "                res[i][j] += a[i][k] * b[k][j]\n",
      "    return res"
     ],
     "language": "python",
     "metadata": {},
     "outputs": [],
     "prompt_number": 85
    },
    {
     "cell_type": "code",
     "collapsed": false,
     "input": [
      "MatrixProduct(A, B)"
     ],
     "language": "python",
     "metadata": {},
     "outputs": [
      {
       "metadata": {},
       "output_type": "pyout",
       "prompt_number": 86,
       "text": [
        "[[25, 25], [43, 22], [34, 36]]"
       ]
      }
     ],
     "prompt_number": 86
    },
    {
     "cell_type": "code",
     "collapsed": false,
     "input": [
      "res = [[0 for i in range(len(b))] for j in range(len(a))]\n",
      "for i in range(len(a)):\n",
      "    for j in range(len(b[0])):\n",
      "        for k in range(len(b)):\n",
      "            res[i][j] += a[i][k] * b[k][j]"
     ],
     "language": "python",
     "metadata": {},
     "outputs": [],
     "prompt_number": 83
    },
    {
     "cell_type": "code",
     "collapsed": false,
     "input": [
      "res"
     ],
     "language": "python",
     "metadata": {},
     "outputs": [
      {
       "metadata": {},
       "output_type": "pyout",
       "prompt_number": 84,
       "text": [
        "[[25, 25], [43, 22], [34, 36]]"
       ]
      }
     ],
     "prompt_number": 84
    },
    {
     "cell_type": "code",
     "collapsed": false,
     "input": [
      "# notice the difference of the following two assignments\n",
      "res = [[0 for i in range(len(b))] for j in range(len(a))] # res = [[0,0], [0,0], [0,0]]\n",
      "# res = [[0] * len(b)] * len(a)\n",
      "i = 0\n",
      "j = 0\n",
      "for k in range(len(b)):\n",
      "    res[i][j] += a[i][k] * b[k][j]"
     ],
     "language": "python",
     "metadata": {},
     "outputs": [],
     "prompt_number": 81
    },
    {
     "cell_type": "code",
     "collapsed": false,
     "input": [
      "res"
     ],
     "language": "python",
     "metadata": {},
     "outputs": [
      {
       "metadata": {},
       "output_type": "pyout",
       "prompt_number": 82,
       "text": [
        "[[25, 0], [0, 0], [0, 0]]"
       ]
      }
     ],
     "prompt_number": 82
    },
    {
     "cell_type": "code",
     "collapsed": false,
     "input": [
      "# Matrix Dimensions\n",
      "# A mxn matrix, m rows and n columns, can be represented using nested lists. \n",
      "# Write a function that returns the diminensions of a matrix.\n",
      "a = [ [1, 3], [-5, 6], [2, 4] ]\n",
      "b = [ [1, 3, 2], [-5, 6, 0] ]\n",
      "c = [ [1, 3], [-5, 6, 0] ]"
     ],
     "language": "python",
     "metadata": {},
     "outputs": [],
     "prompt_number": 87
    },
    {
     "cell_type": "code",
     "collapsed": false,
     "input": [
      "def matrixDimensions(m): \n",
      "   M = len(m)\n",
      "   N = len(m[0])\n",
      "   for j in range(M):\n",
      "      if len(m[j]) != N:\n",
      "         return \"This is not a valid matrix.\"\n",
      "   return \"This is a %dx%d matrix.\" %(M, N)"
     ],
     "language": "python",
     "metadata": {},
     "outputs": [],
     "prompt_number": 98
    },
    {
     "cell_type": "code",
     "collapsed": false,
     "input": [
      "matrixDimensions(a)"
     ],
     "language": "python",
     "metadata": {},
     "outputs": [
      {
       "metadata": {},
       "output_type": "pyout",
       "prompt_number": 99,
       "text": [
        "'This is a 3x2 matrix.'"
       ]
      }
     ],
     "prompt_number": 99
    },
    {
     "cell_type": "code",
     "collapsed": false,
     "input": [
      "matrixDimensions(b)"
     ],
     "language": "python",
     "metadata": {},
     "outputs": [
      {
       "metadata": {},
       "output_type": "pyout",
       "prompt_number": 100,
       "text": [
        "'This is a 2x3 matrix.'"
       ]
      }
     ],
     "prompt_number": 100
    },
    {
     "cell_type": "code",
     "collapsed": false,
     "input": [
      "matrixDimensions(c)"
     ],
     "language": "python",
     "metadata": {},
     "outputs": [
      {
       "metadata": {},
       "output_type": "pyout",
       "prompt_number": 101,
       "text": [
        "'This is not a valid matrix.'"
       ]
      }
     ],
     "prompt_number": 101
    },
    {
     "cell_type": "code",
     "collapsed": false,
     "input": [
      "# Transpose Of A Matrix\n",
      "# The transpose of a matrix M, denoted MT, is formed by interchanging\n",
      "# the rows and columns of M. That is, a mxn matrix is transformed into\n",
      "# a nxm matrix. [MT]ij = [M]ji. Write a function that returns the transpose of a matrix."
     ],
     "language": "python",
     "metadata": {},
     "outputs": [],
     "prompt_number": 1
    },
    {
     "cell_type": "code",
     "collapsed": false,
     "input": [
      "M = [[1,2,3], [4,5,6]]\n",
      "T = [[0 for i in range(len(M))] for j in range(len(M[0]))]"
     ],
     "language": "python",
     "metadata": {},
     "outputs": [],
     "prompt_number": 15
    },
    {
     "cell_type": "code",
     "collapsed": false,
     "input": [
      "def transpose(matrix): \n",
      "    T = [[0 for i in range(len(matrix))] for j in range(len(matrix[0]))]\n",
      "    for j in range(len(matrix[0])):\n",
      "        for i in range(len(matrix)):\n",
      "            T[j][i] = matrix[i][j]\n",
      "    return T"
     ],
     "language": "python",
     "metadata": {},
     "outputs": [],
     "prompt_number": 21
    },
    {
     "cell_type": "code",
     "collapsed": false,
     "input": [
      "transpose(M)"
     ],
     "language": "python",
     "metadata": {},
     "outputs": [
      {
       "metadata": {},
       "output_type": "pyout",
       "prompt_number": 22,
       "text": [
        "[[1, 4], [2, 5], [3, 6]]"
       ]
      }
     ],
     "prompt_number": 22
    },
    {
     "cell_type": "code",
     "collapsed": false,
     "input": [],
     "language": "python",
     "metadata": {},
     "outputs": []
    }
   ],
   "metadata": {}
  }
 ]
}