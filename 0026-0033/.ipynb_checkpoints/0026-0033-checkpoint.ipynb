{
 "metadata": {
  "name": "",
  "signature": "sha256:198f35334795cec5aee317a7c550cd4a47c8f5775b925d2cd0c2db7adf06db92"
 },
 "nbformat": 3,
 "nbformat_minor": 0,
 "worksheets": [
  {
   "cells": [
    {
     "cell_type": "code",
     "collapsed": false,
     "input": [
      "def triangular_sum(num):\n",
      "    if num == 0:\n",
      "        return 0\n",
      "    else:\n",
      "        return num + triangular_sum(num - 1)\n",
      "print triangular_sum(10)"
     ],
     "language": "python",
     "metadata": {},
     "outputs": [
      {
       "output_type": "stream",
       "stream": "stdout",
       "text": [
        "55\n"
       ]
      }
     ],
     "prompt_number": 80
    },
    {
     "cell_type": "code",
     "collapsed": false,
     "input": [
      "def number_of_threes(num):\n",
      "    if num < 10:\n",
      "        return int(num == 3)\n",
      "    else:\n",
      "        return int(num % 10 == 3) + number_of_threes(num // 10)\n",
      "print number_of_threes(34534)"
     ],
     "language": "python",
     "metadata": {},
     "outputs": [
      {
       "output_type": "stream",
       "stream": "stdout",
       "text": [
        "2\n"
       ]
      }
     ],
     "prompt_number": 81
    },
    {
     "cell_type": "code",
     "collapsed": false,
     "input": [
      "def is_member(my_list, elem):\n",
      "    if my_list == []:\n",
      "        return False\n",
      "    else:\n",
      "        if my_list[0] == elem:\n",
      "            return True\n",
      "        else:\n",
      "            my_list.pop(0)\n",
      "            return is_member(my_list, elem)\n",
      "is_member(['c', 'a', 't'], 'z')"
     ],
     "language": "python",
     "metadata": {},
     "outputs": [
      {
       "metadata": {},
       "output_type": "pyout",
       "prompt_number": 82,
       "text": [
        "False"
       ]
      }
     ],
     "prompt_number": 82
    },
    {
     "cell_type": "code",
     "collapsed": false,
     "input": [
      "def remove_x(my_string):\n",
      "    if my_string == \"\":\n",
      "        return \"\"\n",
      "    else:\n",
      "        if my_string[0] == \"x\":\n",
      "            return remove_x(my_string[1:])\n",
      "        else:\n",
      "            return my_string[0] + remove_x(my_string[1:])\n",
      "remove_x(\"catxxdogx\")"
     ],
     "language": "python",
     "metadata": {},
     "outputs": [
      {
       "metadata": {},
       "output_type": "pyout",
       "prompt_number": 83,
       "text": [
        "'catdog'"
       ]
      }
     ],
     "prompt_number": 83
    },
    {
     "cell_type": "code",
     "collapsed": false,
     "input": [
      "def insert_x(my_string):\n",
      "    if len(my_string) == 1:\n",
      "        return my_string\n",
      "    else:\n",
      "        return my_string[0] + \"x\" + insert_x(my_string[1:])\n",
      "insert_x(\"catdog\")"
     ],
     "language": "python",
     "metadata": {},
     "outputs": [
      {
       "metadata": {},
       "output_type": "pyout",
       "prompt_number": 84,
       "text": [
        "'cxaxtxdxoxg'"
       ]
      }
     ],
     "prompt_number": 84
    },
    {
     "cell_type": "code",
     "collapsed": false,
     "input": [
      "def list_reverse(my_list):\n",
      "    if my_list == []:\n",
      "        return []\n",
      "    else:\n",
      "        last_elem = my_list.pop()\n",
      "        return [last_elem] + list_reverse(my_list)\n",
      "list_reverse([2, 3, 1])"
     ],
     "language": "python",
     "metadata": {},
     "outputs": [
      {
       "metadata": {},
       "output_type": "pyout",
       "prompt_number": 85,
       "text": [
        "[1, 3, 2]"
       ]
      }
     ],
     "prompt_number": 85
    },
    {
     "cell_type": "code",
     "collapsed": false,
     "input": [
      "def gcd(num1, num2):\n",
      "    if num1 > num2:\n",
      "        maxi, mini = num1, num2\n",
      "    else:\n",
      "        maxi, mini = num2, num1\n",
      "    if maxi % mini == 0:\n",
      "        return mini\n",
      "    else:\n",
      "        return gcd(mini, maxi % mini)\n",
      "gcd(30,25)"
     ],
     "language": "python",
     "metadata": {},
     "outputs": [
      {
       "metadata": {},
       "output_type": "pyout",
       "prompt_number": 86,
       "text": [
        "5"
       ]
      }
     ],
     "prompt_number": 86
    },
    {
     "cell_type": "code",
     "collapsed": false,
     "input": [
      "def gcd(num1, num2):\n",
      "    if num2 > num1:\n",
      "        return gcd(num2, num1)\n",
      "    if num2 == 0:\n",
      "        return num1\n",
      "    else:\n",
      "        return gcd(num1 - num2, num2)\n",
      "gcd(30, 25)"
     ],
     "language": "python",
     "metadata": {},
     "outputs": [
      {
       "metadata": {},
       "output_type": "pyout",
       "prompt_number": 87,
       "text": [
        "5"
       ]
      }
     ],
     "prompt_number": 87
    },
    {
     "cell_type": "code",
     "collapsed": false,
     "input": [
      "def slice(my_list, first, last):\n",
      "    if my_list == []:\n",
      "        return []\n",
      "    else:\n",
      "        first_elem = [my_list.pop(0)]\n",
      "        if first > 0:\n",
      "            return slice(my_list, first - 1, last - 1)\n",
      "        elif last > 0:\n",
      "            return first_elem + slice(my_list, first - 1, last - 1)\n",
      "        else:\n",
      "            return []\n",
      "slice(['a', 'b', 'c', 'd', 'e'], 2, 4)       "
     ],
     "language": "python",
     "metadata": {},
     "outputs": [
      {
       "metadata": {},
       "output_type": "pyout",
       "prompt_number": 88,
       "text": [
        "['c', 'd']"
       ]
      }
     ],
     "prompt_number": 88
    },
    {
     "cell_type": "code",
     "collapsed": false,
     "input": [
      "def test_slice():\n",
      "    \"\"\"\n",
      "    Some test cases for slice\n",
      "    \"\"\"\n",
      "    print \"Computed:\", slice([], 0, 0), \"Expected: []\"\n",
      "    print \"Computed:\", slice([1], 0, 0), \"Expected: []\"\n",
      "    print \"Computed:\", slice([1], 0, 1), \"Expected: [1]\"\n",
      "    print \"Computed:\", slice([1, 2, 3], 0, 3), \"Expected: [1, 2, 3]\"\n",
      "    print \"Computed:\", slice([1, 2, 3], 1, 2), \"Expected: [2]\"\n",
      "    \n",
      "test_slice()"
     ],
     "language": "python",
     "metadata": {},
     "outputs": [
      {
       "output_type": "stream",
       "stream": "stdout",
       "text": [
        "Computed: [] Expected: []\n",
        "Computed: [] Expected: []\n",
        "Computed: [1] Expected: [1]\n",
        "Computed: [1, 2, 3] Expected: [1, 2, 3]\n",
        "Computed: [2] Expected: [2]\n"
       ]
      }
     ],
     "prompt_number": 89
    },
    {
     "cell_type": "code",
     "collapsed": false,
     "input": [
      "%save 0026-0033.py 80-89"
     ],
     "language": "python",
     "metadata": {},
     "outputs": [
      {
       "output_type": "stream",
       "stream": "stdout",
       "text": [
        "The following commands were written to file `0026-0033.py`:\n",
        "def triangular_sum(num):\n",
        "    if num == 0:\n",
        "        return 0\n",
        "    else:\n",
        "        return num + triangular_sum(num - 1)\n",
        "print triangular_sum(10)\n",
        "def number_of_threes(num):\n",
        "    if num < 10:\n",
        "        return int(num == 3)\n",
        "    else:\n",
        "        return int(num % 10 == 3) + number_of_threes(num // 10)\n",
        "print number_of_threes(34534)\n",
        "def is_member(my_list, elem):\n",
        "    if my_list == []:\n",
        "        return False\n",
        "    else:\n",
        "        if my_list[0] == elem:\n",
        "            return True\n",
        "        else:\n",
        "            my_list.pop(0)\n",
        "            return is_member(my_list, elem)\n",
        "is_member(['c', 'a', 't'], 'z')\n",
        "def remove_x(my_string):\n",
        "    if my_string == \"\":\n",
        "        return \"\"\n",
        "    else:\n",
        "        if my_string[0] == \"x\":\n",
        "            return remove_x(my_string[1:])\n",
        "        else:\n",
        "            return my_string[0] + remove_x(my_string[1:])\n",
        "remove_x(\"catxxdogx\")\n",
        "def insert_x(my_string):\n",
        "    if len(my_string) == 1:\n",
        "        return my_string\n",
        "    else:\n",
        "        return my_string[0] + \"x\" + insert_x(my_string[1:])\n",
        "insert_x(\"catdog\")\n",
        "def list_reverse(my_list):\n",
        "    if my_list == []:\n",
        "        return []\n",
        "    else:\n",
        "        last_elem = my_list.pop()\n",
        "        return [last_elem] + list_reverse(my_list)\n",
        "list_reverse([2, 3, 1])\n",
        "def gcd(num1, num2):\n",
        "    if num1 > num2:\n",
        "        maxi, mini = num1, num2\n",
        "    else:\n",
        "        maxi, mini = num2, num1\n",
        "    if maxi % mini == 0:\n",
        "        return mini\n",
        "    else:\n",
        "        return gcd(mini, maxi % mini)\n",
        "gcd(30,25)\n",
        "def gcd(num1, num2):\n",
        "    if num2 > num1:\n",
        "        return gcd(num2, num1)\n",
        "    if num2 == 0:\n",
        "        return num1\n",
        "    else:\n",
        "        return gcd(num1 - num2, num2)\n",
        "gcd(30, 25)\n",
        "def slice(my_list, first, last):\n",
        "    if my_list == []:\n",
        "        return []\n",
        "    else:\n",
        "        first_elem = [my_list.pop(0)]\n",
        "        if first > 0:\n",
        "            return slice(my_list, first - 1, last - 1)\n",
        "        elif last > 0:\n",
        "            return first_elem + slice(my_list, first - 1, last - 1)\n",
        "        else:\n",
        "            return []\n",
        "slice(['a', 'b', 'c', 'd', 'e'], 2, 4)       \n",
        "def test_slice():\n",
        "    \"\"\"\n",
        "    Some test cases for slice\n",
        "    \"\"\"\n",
        "    print \"Computed:\", slice([], 0, 0), \"Expected: []\"\n",
        "    print \"Computed:\", slice([1], 0, 0), \"Expected: []\"\n",
        "    print \"Computed:\", slice([1], 0, 1), \"Expected: [1]\"\n",
        "    print \"Computed:\", slice([1, 2, 3], 0, 3), \"Expected: [1, 2, 3]\"\n",
        "    print \"Computed:\", slice([1, 2, 3], 1, 2), \"Expected: [2]\"\n",
        "    \n",
        "test_slice()\n"
       ]
      }
     ],
     "prompt_number": 90
    },
    {
     "cell_type": "code",
     "collapsed": false,
     "input": [],
     "language": "python",
     "metadata": {},
     "outputs": []
    }
   ],
   "metadata": {}
  }
 ]
}