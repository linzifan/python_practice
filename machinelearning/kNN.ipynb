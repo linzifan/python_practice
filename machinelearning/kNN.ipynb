{
 "metadata": {
  "name": "",
  "signature": "sha256:5147703445924aafe6b8476dddab927773780799fc668ed2fbebbaa5927c6104"
 },
 "nbformat": 3,
 "nbformat_minor": 0,
 "worksheets": [
  {
   "cells": [
    {
     "cell_type": "code",
     "collapsed": false,
     "input": [
      "import os\n",
      "os.chdir('/Users/linzifan/Documents/python/machinelearninginaction-master/Ch02/')"
     ],
     "language": "python",
     "metadata": {},
     "outputs": [],
     "prompt_number": 53
    },
    {
     "cell_type": "code",
     "collapsed": false,
     "input": [
      "import operator\n",
      "def classify0(inX, dataSet, labels, k):\n",
      "    dataSetSize = dataSet.shape[0]  # m rows\n",
      "    diffMat = numpy.tile(inX, (dataSetSize,1)) - dataSet  # duplicate test sample for m rows\n",
      "    sqDiffMat = diffMat**2\n",
      "    sqDistances = sqDiffMat.sum(axis=1) # row sums\n",
      "    distances = sqDistances**0.5\n",
      "    sortedDistIndicies = distances.argsort()\n",
      "    classCount={}\n",
      "    for i in range(k):\n",
      "        voteIlabel = labels[sortedDistIndicies[i]]\n",
      "        classCount[voteIlabel] = classCount.get(voteIlabel,0) + 1 \n",
      "    sortedClassCount = sorted(classCount.iteritems(),\n",
      "     key=operator.itemgetter(1), reverse=True)\n",
      "    return sortedClassCount[0][0]"
     ],
     "language": "python",
     "metadata": {},
     "outputs": [],
     "prompt_number": 59
    },
    {
     "cell_type": "code",
     "collapsed": false,
     "input": [
      "import numpy\n",
      "def img2vec(filename):\n",
      "    returnVec = numpy.zeros((1, 1024))\n",
      "    f = open(filename, 'r')\n",
      "    for i in range(32):\n",
      "        line = f.readline()\n",
      "        for j in range(32):\n",
      "            returnVec[0, 32 * i + j] = int(line[j])\n",
      "    return returnVec"
     ],
     "language": "python",
     "metadata": {},
     "outputs": [],
     "prompt_number": 52
    },
    {
     "cell_type": "code",
     "collapsed": false,
     "input": [
      "hwLables = []\n",
      "trainingFileList = os.listdir('digits/trainingDigits') \n",
      "m = len(trainingFileList)\n",
      "trainingMat = numpy.zeros((m,1024))\n",
      "for i in range(m):\n",
      "    fileNameStr = trainingFileList[i]\n",
      "    fileStr = fileNameStr.split('.')[0]\n",
      "    classNumStr = int(fileStr.split('_')[0])\n",
      "    hwLables.append(classNumStr)\n",
      "    trainingMat[i, :] = img2vec('digits/trainingDigits/%s' % fileNameStr)"
     ],
     "language": "python",
     "metadata": {},
     "outputs": [],
     "prompt_number": 54
    },
    {
     "cell_type": "code",
     "collapsed": false,
     "input": [
      "testFileList = os.listdir('digits/testDigits')\n",
      "mTest = len(testFileList)\n",
      "error = 0.0\n",
      "for i in range(mTest):\n",
      "    fileNameStr = testFileList[i]\n",
      "    fileStr = fileNameStr.split('.')[0]\n",
      "    classNumStr = int(fileStr.split('_')[0])\n",
      "    testVec = img2vec('digits/testDigits/%s' %fileNameStr)\n",
      "    classRes = classify0(testVec, trainingMat, hwLables, k = 3)\n",
      "    print \"The classifier result: %d. The real number: %d.\" % (classRes, classNumStr)\n",
      "    if classNumStr <> classRes:\n",
      "        error += 1\n",
      "print \"Totol error rate: %f\" % (error/mTest)"
     ],
     "language": "python",
     "metadata": {},
     "outputs": [
      {
       "output_type": "stream",
       "stream": "stdout",
       "text": [
        "The classifier result: 0. The real number: 0.\n",
        "The classifier result: 0. The real number: 0.\n",
        "The classifier result: 0. The real number: 0."
       ]
      },
      {
       "output_type": "stream",
       "stream": "stdout",
       "text": [
        "\n",
        "The classifier result: 0. The real number: 0.\n",
        "The classifier result: 0. The real number: 0."
       ]
      },
      {
       "output_type": "stream",
       "stream": "stdout",
       "text": [
        "\n",
        "The classifier result: 0. The real number: 0.\n",
        "The classifier result: 0. The real number: 0."
       ]
      },
      {
       "output_type": "stream",
       "stream": "stdout",
       "text": [
        "\n",
        "The classifier result: 0. The real number: 0.\n",
        "The classifier result: 0. The real number: 0."
       ]
      },
      {
       "output_type": "stream",
       "stream": "stdout",
       "text": [
        "\n",
        "The classifier result: 0. The real number: 0.\n",
        "The classifier result: 0. The real number: 0."
       ]
      },
      {
       "output_type": "stream",
       "stream": "stdout",
       "text": [
        "\n",
        "The classifier result: 0. The real number: 0.\n",
        "The classifier result: 0. The real number: 0."
       ]
      },
      {
       "output_type": "stream",
       "stream": "stdout",
       "text": [
        "\n",
        "The classifier result: 0. The real number: 0.\n",
        "The classifier result: 0. The real number: 0."
       ]
      },
      {
       "output_type": "stream",
       "stream": "stdout",
       "text": [
        "\n",
        "The classifier result: 0. The real number: 0.\n",
        "The classifier result: 0. The real number: 0."
       ]
      },
      {
       "output_type": "stream",
       "stream": "stdout",
       "text": [
        "\n",
        "The classifier result: 0. The real number: 0.\n",
        "The classifier result: 0. The real number: 0."
       ]
      },
      {
       "output_type": "stream",
       "stream": "stdout",
       "text": [
        "\n",
        "The classifier result: 0. The real number: 0.\n",
        "The classifier result: 0. The real number: 0."
       ]
      },
      {
       "output_type": "stream",
       "stream": "stdout",
       "text": [
        "\n",
        "The classifier result: 0. The real number: 0.\n",
        "The classifier result: 0. The real number: 0."
       ]
      },
      {
       "output_type": "stream",
       "stream": "stdout",
       "text": [
        "\n",
        "The classifier result: 0. The real number: 0.\n",
        "The classifier result: 0. The real number: 0."
       ]
      },
      {
       "output_type": "stream",
       "stream": "stdout",
       "text": [
        "\n",
        "The classifier result: 0. The real number: 0.\n",
        "The classifier result: 0. The real number: 0."
       ]
      },
      {
       "output_type": "stream",
       "stream": "stdout",
       "text": [
        "\n",
        "The classifier result: 0. The real number: 0.\n",
        "The classifier result: 0. The real number: 0."
       ]
      },
      {
       "output_type": "stream",
       "stream": "stdout",
       "text": [
        "\n",
        "The classifier result: 0. The real number: 0.\n",
        "The classifier result: 0. The real number: 0."
       ]
      },
      {
       "output_type": "stream",
       "stream": "stdout",
       "text": [
        "\n",
        "The classifier result: 0. The real number: 0.\n",
        "The classifier result: 0. The real number: 0."
       ]
      },
      {
       "output_type": "stream",
       "stream": "stdout",
       "text": [
        "\n",
        "The classifier result: 0. The real number: 0.\n",
        "The classifier result: 0. The real number: 0."
       ]
      },
      {
       "output_type": "stream",
       "stream": "stdout",
       "text": [
        "\n",
        "The classifier result: 0. The real number: 0.\n",
        "The classifier result: 0. The real number: 0."
       ]
      },
      {
       "output_type": "stream",
       "stream": "stdout",
       "text": [
        "\n",
        "The classifier result: 0. The real number: 0.\n",
        "The classifier result: 0. The real number: 0."
       ]
      },
      {
       "output_type": "stream",
       "stream": "stdout",
       "text": [
        "\n",
        "The classifier result: 0. The real number: 0.\n",
        "The classifier result: 0. The real number: 0."
       ]
      },
      {
       "output_type": "stream",
       "stream": "stdout",
       "text": [
        "\n",
        "The classifier result: 0. The real number: 0.\n",
        "The classifier result: 0. The real number: 0."
       ]
      },
      {
       "output_type": "stream",
       "stream": "stdout",
       "text": [
        "\n",
        "The classifier result: 0. The real number: 0.\n",
        "The classifier result: 0. The real number: 0."
       ]
      },
      {
       "output_type": "stream",
       "stream": "stdout",
       "text": [
        "\n",
        "The classifier result: 0. The real number: 0.\n",
        "The classifier result: 0. The real number: 0."
       ]
      },
      {
       "output_type": "stream",
       "stream": "stdout",
       "text": [
        "\n",
        "The classifier result: 0. The real number: 0.\n",
        "The classifier result: 0. The real number: 0."
       ]
      },
      {
       "output_type": "stream",
       "stream": "stdout",
       "text": [
        "\n",
        "The classifier result: 0. The real number: 0.\n",
        "The classifier result: 0. The real number: 0."
       ]
      },
      {
       "output_type": "stream",
       "stream": "stdout",
       "text": [
        "\n",
        "The classifier result: 0. The real number: 0.\n",
        "The classifier result: 0. The real number: 0."
       ]
      },
      {
       "output_type": "stream",
       "stream": "stdout",
       "text": [
        "\n",
        "The classifier result: 0. The real number: 0.\n",
        "The classifier result: 0. The real number: 0."
       ]
      },
      {
       "output_type": "stream",
       "stream": "stdout",
       "text": [
        "\n",
        "The classifier result: 0. The real number: 0.\n",
        "The classifier result: 0. The real number: 0.\n",
        "The classifier result: 0. The real number: 0."
       ]
      },
      {
       "output_type": "stream",
       "stream": "stdout",
       "text": [
        "\n",
        "The classifier result: 0. The real number: 0.\n",
        "The classifier result: 0. The real number: 0.\n",
        "The classifier result: 0. The real number: 0."
       ]
      },
      {
       "output_type": "stream",
       "stream": "stdout",
       "text": [
        "\n",
        "The classifier result: 0. The real number: 0.\n",
        "The classifier result: 0. The real number: 0."
       ]
      },
      {
       "output_type": "stream",
       "stream": "stdout",
       "text": [
        "\n",
        "The classifier result: 0. The real number: 0.\n",
        "The classifier result: 0. The real number: 0."
       ]
      },
      {
       "output_type": "stream",
       "stream": "stdout",
       "text": [
        "\n",
        "The classifier result: 0. The real number: 0.\n",
        "The classifier result: 0. The real number: 0."
       ]
      },
      {
       "output_type": "stream",
       "stream": "stdout",
       "text": [
        "\n",
        "The classifier result: 0. The real number: 0.\n",
        "The classifier result: 0. The real number: 0."
       ]
      },
      {
       "output_type": "stream",
       "stream": "stdout",
       "text": [
        "\n",
        "The classifier result: 0. The real number: 0.\n",
        "The classifier result: 0. The real number: 0.\n",
        "The classifier result: 0. The real number: 0."
       ]
      },
      {
       "output_type": "stream",
       "stream": "stdout",
       "text": [
        "\n",
        "The classifier result: 0. The real number: 0.\n",
        "The classifier result: 0. The real number: 0."
       ]
      },
      {
       "output_type": "stream",
       "stream": "stdout",
       "text": [
        "\n",
        "The classifier result: 0. The real number: 0.\n",
        "The classifier result: 0. The real number: 0."
       ]
      },
      {
       "output_type": "stream",
       "stream": "stdout",
       "text": [
        "\n",
        "The classifier result: 0. The real number: 0.\n",
        "The classifier result: 0. The real number: 0."
       ]
      },
      {
       "output_type": "stream",
       "stream": "stdout",
       "text": [
        "\n",
        "The classifier result: 0. The real number: 0.\n",
        "The classifier result: 0. The real number: 0."
       ]
      },
      {
       "output_type": "stream",
       "stream": "stdout",
       "text": [
        "\n",
        "The classifier result: 0. The real number: 0.\n",
        "The classifier result: 0. The real number: 0."
       ]
      },
      {
       "output_type": "stream",
       "stream": "stdout",
       "text": [
        "\n",
        "The classifier result: 0. The real number: 0.\n",
        "The classifier result: 0. The real number: 0."
       ]
      },
      {
       "output_type": "stream",
       "stream": "stdout",
       "text": [
        "\n",
        "The classifier result: 0. The real number: 0.\n",
        "The classifier result: 0. The real number: 0.\n",
        "The classifier result: 0. The real number: 0."
       ]
      },
      {
       "output_type": "stream",
       "stream": "stdout",
       "text": [
        "\n",
        "The classifier result: 1. The real number: 1.\n",
        "The classifier result: 1. The real number: 1."
       ]
      },
      {
       "output_type": "stream",
       "stream": "stdout",
       "text": [
        "\n",
        "The classifier result: 1. The real number: 1.\n",
        "The classifier result: 1. The real number: 1."
       ]
      },
      {
       "output_type": "stream",
       "stream": "stdout",
       "text": [
        "\n",
        "The classifier result: 1. The real number: 1.\n",
        "The classifier result: 1. The real number: 1."
       ]
      },
      {
       "output_type": "stream",
       "stream": "stdout",
       "text": [
        "\n",
        "The classifier result: 1. The real number: 1.\n",
        "The classifier result: 1. The real number: 1."
       ]
      },
      {
       "output_type": "stream",
       "stream": "stdout",
       "text": [
        "\n",
        "The classifier result: 1. The real number: 1.\n",
        "The classifier result: 1. The real number: 1."
       ]
      },
      {
       "output_type": "stream",
       "stream": "stdout",
       "text": [
        "\n",
        "The classifier result: 1. The real number: 1.\n",
        "The classifier result: 1. The real number: 1."
       ]
      },
      {
       "output_type": "stream",
       "stream": "stdout",
       "text": [
        "\n",
        "The classifier result: 1. The real number: 1.\n",
        "The classifier result: 1. The real number: 1."
       ]
      },
      {
       "output_type": "stream",
       "stream": "stdout",
       "text": [
        "\n",
        "The classifier result: 1. The real number: 1.\n",
        "The classifier result: 1. The real number: 1."
       ]
      },
      {
       "output_type": "stream",
       "stream": "stdout",
       "text": [
        "\n",
        "The classifier result: 1. The real number: 1.\n",
        "The classifier result: 1. The real number: 1."
       ]
      },
      {
       "output_type": "stream",
       "stream": "stdout",
       "text": [
        "\n",
        "The classifier result: 1. The real number: 1.\n",
        "The classifier result: 1. The real number: 1."
       ]
      },
      {
       "output_type": "stream",
       "stream": "stdout",
       "text": [
        "\n",
        "The classifier result: 1. The real number: 1.\n",
        "The classifier result: 1. The real number: 1."
       ]
      },
      {
       "output_type": "stream",
       "stream": "stdout",
       "text": [
        "\n",
        "The classifier result: 1. The real number: 1.\n",
        "The classifier result: 1. The real number: 1.\n",
        "The classifier result: 1. The real number: 1."
       ]
      },
      {
       "output_type": "stream",
       "stream": "stdout",
       "text": [
        "\n",
        "The classifier result: 1. The real number: 1.\n",
        "The classifier result: 1. The real number: 1.\n",
        "The classifier result: 1. The real number: 1."
       ]
      },
      {
       "output_type": "stream",
       "stream": "stdout",
       "text": [
        "\n",
        "The classifier result: 1. The real number: 1.\n",
        "The classifier result: 1. The real number: 1."
       ]
      },
      {
       "output_type": "stream",
       "stream": "stdout",
       "text": [
        "\n",
        "The classifier result: 1. The real number: 1.\n",
        "The classifier result: 1. The real number: 1."
       ]
      },
      {
       "output_type": "stream",
       "stream": "stdout",
       "text": [
        "\n",
        "The classifier result: 1. The real number: 1.\n",
        "The classifier result: 1. The real number: 1."
       ]
      },
      {
       "output_type": "stream",
       "stream": "stdout",
       "text": [
        "\n",
        "The classifier result: 1. The real number: 1.\n",
        "The classifier result: 1. The real number: 1.\n",
        "The classifier result: 1. The real number: 1."
       ]
      },
      {
       "output_type": "stream",
       "stream": "stdout",
       "text": [
        "\n",
        "The classifier result: 1. The real number: 1.\n",
        "The classifier result: 1. The real number: 1."
       ]
      },
      {
       "output_type": "stream",
       "stream": "stdout",
       "text": [
        "\n",
        "The classifier result: 1. The real number: 1.\n",
        "The classifier result: 1. The real number: 1."
       ]
      },
      {
       "output_type": "stream",
       "stream": "stdout",
       "text": [
        "\n",
        "The classifier result: 1. The real number: 1.\n",
        "The classifier result: 1. The real number: 1."
       ]
      },
      {
       "output_type": "stream",
       "stream": "stdout",
       "text": [
        "\n",
        "The classifier result: 1. The real number: 1.\n",
        "The classifier result: 1. The real number: 1."
       ]
      },
      {
       "output_type": "stream",
       "stream": "stdout",
       "text": [
        "\n",
        "The classifier result: 1. The real number: 1.\n",
        "The classifier result: 1. The real number: 1."
       ]
      },
      {
       "output_type": "stream",
       "stream": "stdout",
       "text": [
        "\n",
        "The classifier result: 1. The real number: 1.\n",
        "The classifier result: 1. The real number: 1."
       ]
      },
      {
       "output_type": "stream",
       "stream": "stdout",
       "text": [
        "\n",
        "The classifier result: 1. The real number: 1.\n",
        "The classifier result: 1. The real number: 1."
       ]
      },
      {
       "output_type": "stream",
       "stream": "stdout",
       "text": [
        "\n",
        "The classifier result: 1. The real number: 1.\n",
        "The classifier result: 1. The real number: 1."
       ]
      },
      {
       "output_type": "stream",
       "stream": "stdout",
       "text": [
        "\n",
        "The classifier result: 1. The real number: 1.\n",
        "The classifier result: 1. The real number: 1."
       ]
      },
      {
       "output_type": "stream",
       "stream": "stdout",
       "text": [
        "\n",
        "The classifier result: 1. The real number: 1.\n",
        "The classifier result: 1. The real number: 1."
       ]
      },
      {
       "output_type": "stream",
       "stream": "stdout",
       "text": [
        "\n",
        "The classifier result: 1. The real number: 1.\n",
        "The classifier result: 1. The real number: 1."
       ]
      },
      {
       "output_type": "stream",
       "stream": "stdout",
       "text": [
        "\n",
        "The classifier result: 1. The real number: 1.\n",
        "The classifier result: 1. The real number: 1."
       ]
      },
      {
       "output_type": "stream",
       "stream": "stdout",
       "text": [
        "\n",
        "The classifier result: 1. The real number: 1.\n",
        "The classifier result: 1. The real number: 1."
       ]
      },
      {
       "output_type": "stream",
       "stream": "stdout",
       "text": [
        "\n",
        "The classifier result: 1. The real number: 1.\n",
        "The classifier result: 1. The real number: 1."
       ]
      },
      {
       "output_type": "stream",
       "stream": "stdout",
       "text": [
        "\n",
        "The classifier result: 1. The real number: 1.\n",
        "The classifier result: 1. The real number: 1."
       ]
      },
      {
       "output_type": "stream",
       "stream": "stdout",
       "text": [
        "\n",
        "The classifier result: 1. The real number: 1.\n",
        "The classifier result: 1. The real number: 1."
       ]
      },
      {
       "output_type": "stream",
       "stream": "stdout",
       "text": [
        "\n",
        "The classifier result: 1. The real number: 1.\n",
        "The classifier result: 1. The real number: 1."
       ]
      },
      {
       "output_type": "stream",
       "stream": "stdout",
       "text": [
        "\n",
        "The classifier result: 1. The real number: 1.\n",
        "The classifier result: 1. The real number: 1."
       ]
      },
      {
       "output_type": "stream",
       "stream": "stdout",
       "text": [
        "\n",
        "The classifier result: 1. The real number: 1.\n",
        "The classifier result: 1. The real number: 1."
       ]
      },
      {
       "output_type": "stream",
       "stream": "stdout",
       "text": [
        "\n",
        "The classifier result: 1. The real number: 1.\n",
        "The classifier result: 1. The real number: 1."
       ]
      },
      {
       "output_type": "stream",
       "stream": "stdout",
       "text": [
        "\n",
        "The classifier result: 1. The real number: 1.\n",
        "The classifier result: 1. The real number: 1."
       ]
      },
      {
       "output_type": "stream",
       "stream": "stdout",
       "text": [
        "\n",
        "The classifier result: 1. The real number: 1.\n",
        "The classifier result: 1. The real number: 1."
       ]
      },
      {
       "output_type": "stream",
       "stream": "stdout",
       "text": [
        "\n",
        "The classifier result: 1. The real number: 1.\n",
        "The classifier result: 1. The real number: 1."
       ]
      },
      {
       "output_type": "stream",
       "stream": "stdout",
       "text": [
        "\n",
        "The classifier result: 1. The real number: 1.\n",
        "The classifier result: 1. The real number: 1."
       ]
      },
      {
       "output_type": "stream",
       "stream": "stdout",
       "text": [
        "\n",
        "The classifier result: 7. The real number: 1.\n",
        "The classifier result: 1. The real number: 1."
       ]
      },
      {
       "output_type": "stream",
       "stream": "stdout",
       "text": [
        "\n",
        "The classifier result: 1. The real number: 1.\n",
        "The classifier result: 1. The real number: 1."
       ]
      },
      {
       "output_type": "stream",
       "stream": "stdout",
       "text": [
        "\n",
        "The classifier result: 1. The real number: 1.\n",
        "The classifier result: 1. The real number: 1."
       ]
      },
      {
       "output_type": "stream",
       "stream": "stdout",
       "text": [
        "\n",
        "The classifier result: 1. The real number: 1.\n",
        "The classifier result: 1. The real number: 1."
       ]
      },
      {
       "output_type": "stream",
       "stream": "stdout",
       "text": [
        "\n",
        "The classifier result: 1. The real number: 1.\n",
        "The classifier result: 1. The real number: 1."
       ]
      },
      {
       "output_type": "stream",
       "stream": "stdout",
       "text": [
        "\n",
        "The classifier result: 1. The real number: 1.\n",
        "The classifier result: 1. The real number: 1."
       ]
      },
      {
       "output_type": "stream",
       "stream": "stdout",
       "text": [
        "\n",
        "The classifier result: 2. The real number: 2.\n",
        "The classifier result: 2. The real number: 2."
       ]
      },
      {
       "output_type": "stream",
       "stream": "stdout",
       "text": [
        "\n",
        "The classifier result: 2. The real number: 2.\n",
        "The classifier result: 2. The real number: 2.\n",
        "The classifier result: 2. The real number: 2."
       ]
      },
      {
       "output_type": "stream",
       "stream": "stdout",
       "text": [
        "\n",
        "The classifier result: 2. The real number: 2.\n",
        "The classifier result: 2. The real number: 2."
       ]
      },
      {
       "output_type": "stream",
       "stream": "stdout",
       "text": [
        "\n",
        "The classifier result: 2. The real number: 2.\n",
        "The classifier result: 2. The real number: 2."
       ]
      },
      {
       "output_type": "stream",
       "stream": "stdout",
       "text": [
        "\n",
        "The classifier result: 2. The real number: 2.\n",
        "The classifier result: 2. The real number: 2."
       ]
      },
      {
       "output_type": "stream",
       "stream": "stdout",
       "text": [
        "\n",
        "The classifier result: 2. The real number: 2.\n",
        "The classifier result: 2. The real number: 2."
       ]
      },
      {
       "output_type": "stream",
       "stream": "stdout",
       "text": [
        "\n",
        "The classifier result: 2. The real number: 2.\n",
        "The classifier result: 2. The real number: 2."
       ]
      },
      {
       "output_type": "stream",
       "stream": "stdout",
       "text": [
        "\n",
        "The classifier result: 2. The real number: 2.\n",
        "The classifier result: 2. The real number: 2."
       ]
      },
      {
       "output_type": "stream",
       "stream": "stdout",
       "text": [
        "\n",
        "The classifier result: 2. The real number: 2.\n",
        "The classifier result: 2. The real number: 2."
       ]
      },
      {
       "output_type": "stream",
       "stream": "stdout",
       "text": [
        "\n",
        "The classifier result: 2. The real number: 2.\n",
        "The classifier result: 2. The real number: 2."
       ]
      },
      {
       "output_type": "stream",
       "stream": "stdout",
       "text": [
        "\n",
        "The classifier result: 2. The real number: 2.\n",
        "The classifier result: 2. The real number: 2."
       ]
      },
      {
       "output_type": "stream",
       "stream": "stdout",
       "text": [
        "\n",
        "The classifier result: 2. The real number: 2.\n",
        "The classifier result: 2. The real number: 2."
       ]
      },
      {
       "output_type": "stream",
       "stream": "stdout",
       "text": [
        "\n",
        "The classifier result: 2. The real number: 2.\n",
        "The classifier result: 2. The real number: 2."
       ]
      },
      {
       "output_type": "stream",
       "stream": "stdout",
       "text": [
        "\n",
        "The classifier result: 2. The real number: 2.\n",
        "The classifier result: 2. The real number: 2."
       ]
      },
      {
       "output_type": "stream",
       "stream": "stdout",
       "text": [
        "\n",
        "The classifier result: 2. The real number: 2.\n",
        "The classifier result: 2. The real number: 2."
       ]
      },
      {
       "output_type": "stream",
       "stream": "stdout",
       "text": [
        "\n",
        "The classifier result: 2. The real number: 2.\n",
        "The classifier result: 2. The real number: 2."
       ]
      },
      {
       "output_type": "stream",
       "stream": "stdout",
       "text": [
        "\n",
        "The classifier result: 2. The real number: 2.\n",
        "The classifier result: 2. The real number: 2."
       ]
      },
      {
       "output_type": "stream",
       "stream": "stdout",
       "text": [
        "\n",
        "The classifier result: 2. The real number: 2.\n",
        "The classifier result: 2. The real number: 2."
       ]
      },
      {
       "output_type": "stream",
       "stream": "stdout",
       "text": [
        "\n",
        "The classifier result: 2. The real number: 2.\n",
        "The classifier result: 2. The real number: 2."
       ]
      },
      {
       "output_type": "stream",
       "stream": "stdout",
       "text": [
        "\n",
        "The classifier result: 2. The real number: 2.\n",
        "The classifier result: 2. The real number: 2."
       ]
      },
      {
       "output_type": "stream",
       "stream": "stdout",
       "text": [
        "\n",
        "The classifier result: 2. The real number: 2.\n",
        "The classifier result: 2. The real number: 2."
       ]
      },
      {
       "output_type": "stream",
       "stream": "stdout",
       "text": [
        "\n",
        "The classifier result: 2. The real number: 2.\n",
        "The classifier result: 2. The real number: 2."
       ]
      },
      {
       "output_type": "stream",
       "stream": "stdout",
       "text": [
        "\n",
        "The classifier result: 2. The real number: 2.\n",
        "The classifier result: 2. The real number: 2."
       ]
      },
      {
       "output_type": "stream",
       "stream": "stdout",
       "text": [
        "\n",
        "The classifier result: 2. The real number: 2.\n",
        "The classifier result: 2. The real number: 2."
       ]
      },
      {
       "output_type": "stream",
       "stream": "stdout",
       "text": [
        "\n",
        "The classifier result: 2. The real number: 2.\n",
        "The classifier result: 2. The real number: 2."
       ]
      },
      {
       "output_type": "stream",
       "stream": "stdout",
       "text": [
        "\n",
        "The classifier result: 2. The real number: 2.\n",
        "The classifier result: 2. The real number: 2."
       ]
      },
      {
       "output_type": "stream",
       "stream": "stdout",
       "text": [
        "\n",
        "The classifier result: 2. The real number: 2.\n",
        "The classifier result: 2. The real number: 2."
       ]
      },
      {
       "output_type": "stream",
       "stream": "stdout",
       "text": [
        "\n",
        "The classifier result: 2. The real number: 2.\n",
        "The classifier result: 2. The real number: 2."
       ]
      },
      {
       "output_type": "stream",
       "stream": "stdout",
       "text": [
        "\n",
        "The classifier result: 2. The real number: 2.\n",
        "The classifier result: 2. The real number: 2."
       ]
      },
      {
       "output_type": "stream",
       "stream": "stdout",
       "text": [
        "\n",
        "The classifier result: 2. The real number: 2.\n",
        "The classifier result: 2. The real number: 2."
       ]
      },
      {
       "output_type": "stream",
       "stream": "stdout",
       "text": [
        "\n",
        "The classifier result: 2. The real number: 2.\n",
        "The classifier result: 2. The real number: 2."
       ]
      },
      {
       "output_type": "stream",
       "stream": "stdout",
       "text": [
        "\n",
        "The classifier result: 2. The real number: 2.\n",
        "The classifier result: 2. The real number: 2."
       ]
      },
      {
       "output_type": "stream",
       "stream": "stdout",
       "text": [
        "\n",
        "The classifier result: 2. The real number: 2.\n",
        "The classifier result: 2. The real number: 2."
       ]
      },
      {
       "output_type": "stream",
       "stream": "stdout",
       "text": [
        "\n",
        "The classifier result: 2. The real number: 2.\n",
        "The classifier result: 2. The real number: 2."
       ]
      },
      {
       "output_type": "stream",
       "stream": "stdout",
       "text": [
        "\n",
        "The classifier result: 2. The real number: 2.\n",
        "The classifier result: 2. The real number: 2."
       ]
      },
      {
       "output_type": "stream",
       "stream": "stdout",
       "text": [
        "\n",
        "The classifier result: 2. The real number: 2.\n",
        "The classifier result: 2. The real number: 2."
       ]
      },
      {
       "output_type": "stream",
       "stream": "stdout",
       "text": [
        "\n",
        "The classifier result: 2. The real number: 2.\n",
        "The classifier result: 2. The real number: 2."
       ]
      },
      {
       "output_type": "stream",
       "stream": "stdout",
       "text": [
        "\n",
        "The classifier result: 2. The real number: 2.\n",
        "The classifier result: 2. The real number: 2."
       ]
      },
      {
       "output_type": "stream",
       "stream": "stdout",
       "text": [
        "\n",
        "The classifier result: 2. The real number: 2.\n",
        "The classifier result: 2. The real number: 2."
       ]
      },
      {
       "output_type": "stream",
       "stream": "stdout",
       "text": [
        "\n",
        "The classifier result: 2. The real number: 2.\n",
        "The classifier result: 2. The real number: 2."
       ]
      },
      {
       "output_type": "stream",
       "stream": "stdout",
       "text": [
        "\n",
        "The classifier result: 2. The real number: 2.\n",
        "The classifier result: 2. The real number: 2."
       ]
      },
      {
       "output_type": "stream",
       "stream": "stdout",
       "text": [
        "\n",
        "The classifier result: 2. The real number: 2.\n",
        "The classifier result: 2. The real number: 2."
       ]
      },
      {
       "output_type": "stream",
       "stream": "stdout",
       "text": [
        "\n",
        "The classifier result: 2. The real number: 2.\n",
        "The classifier result: 2. The real number: 2."
       ]
      },
      {
       "output_type": "stream",
       "stream": "stdout",
       "text": [
        "\n",
        "The classifier result: 2. The real number: 2.\n",
        "The classifier result: 2. The real number: 2."
       ]
      },
      {
       "output_type": "stream",
       "stream": "stdout",
       "text": [
        "\n",
        "The classifier result: 2. The real number: 2.\n",
        "The classifier result: 2. The real number: 2."
       ]
      },
      {
       "output_type": "stream",
       "stream": "stdout",
       "text": [
        "\n",
        "The classifier result: 2. The real number: 2.\n",
        "The classifier result: 3. The real number: 3."
       ]
      },
      {
       "output_type": "stream",
       "stream": "stdout",
       "text": [
        "\n",
        "The classifier result: 3. The real number: 3.\n",
        "The classifier result: 3. The real number: 3."
       ]
      },
      {
       "output_type": "stream",
       "stream": "stdout",
       "text": [
        "\n",
        "The classifier result: 9. The real number: 3.\n",
        "The classifier result: 3. The real number: 3."
       ]
      },
      {
       "output_type": "stream",
       "stream": "stdout",
       "text": [
        "\n",
        "The classifier result: 3. The real number: 3.\n",
        "The classifier result: 3. The real number: 3."
       ]
      },
      {
       "output_type": "stream",
       "stream": "stdout",
       "text": [
        "\n",
        "The classifier result: 3. The real number: 3.\n",
        "The classifier result: 3. The real number: 3."
       ]
      },
      {
       "output_type": "stream",
       "stream": "stdout",
       "text": [
        "\n",
        "The classifier result: 3. The real number: 3.\n",
        "The classifier result: 3. The real number: 3."
       ]
      },
      {
       "output_type": "stream",
       "stream": "stdout",
       "text": [
        "\n",
        "The classifier result: 3. The real number: 3.\n",
        "The classifier result: 3. The real number: 3."
       ]
      },
      {
       "output_type": "stream",
       "stream": "stdout",
       "text": [
        "\n",
        "The classifier result: 3. The real number: 3.\n",
        "The classifier result: 3. The real number: 3."
       ]
      },
      {
       "output_type": "stream",
       "stream": "stdout",
       "text": [
        "\n",
        "The classifier result: 3. The real number: 3.\n",
        "The classifier result: 3. The real number: 3."
       ]
      },
      {
       "output_type": "stream",
       "stream": "stdout",
       "text": [
        "\n",
        "The classifier result: 3. The real number: 3.\n",
        "The classifier result: 3. The real number: 3."
       ]
      },
      {
       "output_type": "stream",
       "stream": "stdout",
       "text": [
        "\n",
        "The classifier result: 3. The real number: 3.\n",
        "The classifier result: 3. The real number: 3."
       ]
      },
      {
       "output_type": "stream",
       "stream": "stdout",
       "text": [
        "\n",
        "The classifier result: 3. The real number: 3.\n",
        "The classifier result: 3. The real number: 3."
       ]
      },
      {
       "output_type": "stream",
       "stream": "stdout",
       "text": [
        "\n",
        "The classifier result: 3. The real number: 3.\n",
        "The classifier result: 3. The real number: 3.\n",
        "The classifier result: 3. The real number: 3."
       ]
      },
      {
       "output_type": "stream",
       "stream": "stdout",
       "text": [
        "\n",
        "The classifier result: 3. The real number: 3.\n",
        "The classifier result: 3. The real number: 3.\n",
        "The classifier result: 3. The real number: 3."
       ]
      },
      {
       "output_type": "stream",
       "stream": "stdout",
       "text": [
        "\n",
        "The classifier result: 3. The real number: 3.\n",
        "The classifier result: 3. The real number: 3."
       ]
      },
      {
       "output_type": "stream",
       "stream": "stdout",
       "text": [
        "\n",
        "The classifier result: 3. The real number: 3.\n",
        "The classifier result: 3. The real number: 3."
       ]
      },
      {
       "output_type": "stream",
       "stream": "stdout",
       "text": [
        "\n",
        "The classifier result: 3. The real number: 3.\n",
        "The classifier result: 3. The real number: 3."
       ]
      },
      {
       "output_type": "stream",
       "stream": "stdout",
       "text": [
        "\n",
        "The classifier result: 3. The real number: 3.\n",
        "The classifier result: 3. The real number: 3."
       ]
      },
      {
       "output_type": "stream",
       "stream": "stdout",
       "text": [
        "\n",
        "The classifier result: 3. The real number: 3.\n",
        "The classifier result: 3. The real number: 3."
       ]
      },
      {
       "output_type": "stream",
       "stream": "stdout",
       "text": [
        "\n",
        "The classifier result: 3. The real number: 3.\n",
        "The classifier result: 3. The real number: 3.\n",
        "The classifier result: 3. The real number: 3."
       ]
      },
      {
       "output_type": "stream",
       "stream": "stdout",
       "text": [
        "\n",
        "The classifier result: 3. The real number: 3.\n",
        "The classifier result: 3. The real number: 3."
       ]
      },
      {
       "output_type": "stream",
       "stream": "stdout",
       "text": [
        "\n",
        "The classifier result: 3. The real number: 3.\n",
        "The classifier result: 3. The real number: 3."
       ]
      },
      {
       "output_type": "stream",
       "stream": "stdout",
       "text": [
        "\n",
        "The classifier result: 3. The real number: 3.\n",
        "The classifier result: 3. The real number: 3."
       ]
      },
      {
       "output_type": "stream",
       "stream": "stdout",
       "text": [
        "\n",
        "The classifier result: 3. The real number: 3.\n",
        "The classifier result: 3. The real number: 3.\n",
        "The classifier result: 3. The real number: 3."
       ]
      },
      {
       "output_type": "stream",
       "stream": "stdout",
       "text": [
        "\n",
        "The classifier result: 9. The real number: 3.\n",
        "The classifier result: 3. The real number: 3.\n",
        "The classifier result: 3. The real number: 3."
       ]
      },
      {
       "output_type": "stream",
       "stream": "stdout",
       "text": [
        "\n",
        "The classifier result: 3. The real number: 3.\n",
        "The classifier result: 3. The real number: 3."
       ]
      },
      {
       "output_type": "stream",
       "stream": "stdout",
       "text": [
        "\n",
        "The classifier result: 3. The real number: 3.\n",
        "The classifier result: 3. The real number: 3."
       ]
      },
      {
       "output_type": "stream",
       "stream": "stdout",
       "text": [
        "\n",
        "The classifier result: 3. The real number: 3.\n",
        "The classifier result: 3. The real number: 3."
       ]
      },
      {
       "output_type": "stream",
       "stream": "stdout",
       "text": [
        "\n",
        "The classifier result: 3. The real number: 3.\n",
        "The classifier result: 3. The real number: 3."
       ]
      },
      {
       "output_type": "stream",
       "stream": "stdout",
       "text": [
        "\n",
        "The classifier result: 3. The real number: 3.\n",
        "The classifier result: 3. The real number: 3.\n",
        "The classifier result: 3. The real number: 3."
       ]
      },
      {
       "output_type": "stream",
       "stream": "stdout",
       "text": [
        "\n",
        "The classifier result: 3. The real number: 3.\n",
        "The classifier result: 3. The real number: 3.\n",
        "The classifier result: 3. The real number: 3."
       ]
      },
      {
       "output_type": "stream",
       "stream": "stdout",
       "text": [
        "\n",
        "The classifier result: 3. The real number: 3.\n",
        "The classifier result: 3. The real number: 3.\n",
        "The classifier result: 3. The real number: 3."
       ]
      },
      {
       "output_type": "stream",
       "stream": "stdout",
       "text": [
        "\n",
        "The classifier result: 3. The real number: 3.\n",
        "The classifier result: 3. The real number: 3."
       ]
      },
      {
       "output_type": "stream",
       "stream": "stdout",
       "text": [
        "\n",
        "The classifier result: 3. The real number: 3.\n",
        "The classifier result: 3. The real number: 3."
       ]
      },
      {
       "output_type": "stream",
       "stream": "stdout",
       "text": [
        "\n",
        "The classifier result: 3. The real number: 3.\n",
        "The classifier result: 3. The real number: 3."
       ]
      },
      {
       "output_type": "stream",
       "stream": "stdout",
       "text": [
        "\n",
        "The classifier result: 3. The real number: 3.\n",
        "The classifier result: 3. The real number: 3."
       ]
      },
      {
       "output_type": "stream",
       "stream": "stdout",
       "text": [
        "\n",
        "The classifier result: 3. The real number: 3.\n",
        "The classifier result: 3. The real number: 3."
       ]
      },
      {
       "output_type": "stream",
       "stream": "stdout",
       "text": [
        "\n",
        "The classifier result: 3. The real number: 3.\n",
        "The classifier result: 3. The real number: 3.\n",
        "The classifier result: 3. The real number: 3."
       ]
      },
      {
       "output_type": "stream",
       "stream": "stdout",
       "text": [
        "\n",
        "The classifier result: 3. The real number: 3.\n",
        "The classifier result: 4. The real number: 4.\n",
        "The classifier result: 4. The real number: 4."
       ]
      },
      {
       "output_type": "stream",
       "stream": "stdout",
       "text": [
        "\n",
        "The classifier result: 4. The real number: 4.\n",
        "The classifier result: 4. The real number: 4.\n",
        "The classifier result: 4. The real number: 4."
       ]
      },
      {
       "output_type": "stream",
       "stream": "stdout",
       "text": [
        "\n",
        "The classifier result: 4. The real number: 4.\n",
        "The classifier result: 4. The real number: 4."
       ]
      },
      {
       "output_type": "stream",
       "stream": "stdout",
       "text": [
        "\n",
        "The classifier result: 4. The real number: 4.\n",
        "The classifier result: 4. The real number: 4."
       ]
      },
      {
       "output_type": "stream",
       "stream": "stdout",
       "text": [
        "\n",
        "The classifier result: 4. The real number: 4.\n",
        "The classifier result: 4. The real number: 4."
       ]
      },
      {
       "output_type": "stream",
       "stream": "stdout",
       "text": [
        "\n",
        "The classifier result: 4. The real number: 4.\n",
        "The classifier result: 4. The real number: 4."
       ]
      },
      {
       "output_type": "stream",
       "stream": "stdout",
       "text": [
        "\n",
        "The classifier result: 4. The real number: 4.\n",
        "The classifier result: 4. The real number: 4."
       ]
      },
      {
       "output_type": "stream",
       "stream": "stdout",
       "text": [
        "\n",
        "The classifier result: 4. The real number: 4.\n",
        "The classifier result: 4. The real number: 4."
       ]
      },
      {
       "output_type": "stream",
       "stream": "stdout",
       "text": [
        "\n",
        "The classifier result: 4. The real number: 4.\n",
        "The classifier result: 4. The real number: 4."
       ]
      },
      {
       "output_type": "stream",
       "stream": "stdout",
       "text": [
        "\n",
        "The classifier result: 4. The real number: 4.\n",
        "The classifier result: 4. The real number: 4."
       ]
      },
      {
       "output_type": "stream",
       "stream": "stdout",
       "text": [
        "\n",
        "The classifier result: 4. The real number: 4.\n",
        "The classifier result: 4. The real number: 4."
       ]
      },
      {
       "output_type": "stream",
       "stream": "stdout",
       "text": [
        "\n",
        "The classifier result: 4. The real number: 4.\n",
        "The classifier result: 4. The real number: 4."
       ]
      },
      {
       "output_type": "stream",
       "stream": "stdout",
       "text": [
        "\n",
        "The classifier result: 4. The real number: 4.\n",
        "The classifier result: 4. The real number: 4."
       ]
      },
      {
       "output_type": "stream",
       "stream": "stdout",
       "text": [
        "\n",
        "The classifier result: 4. The real number: 4.\n",
        "The classifier result: 4. The real number: 4."
       ]
      },
      {
       "output_type": "stream",
       "stream": "stdout",
       "text": [
        "\n",
        "The classifier result: 4. The real number: 4.\n",
        "The classifier result: 4. The real number: 4."
       ]
      },
      {
       "output_type": "stream",
       "stream": "stdout",
       "text": [
        "\n",
        "The classifier result: 4. The real number: 4.\n",
        "The classifier result: 4. The real number: 4."
       ]
      },
      {
       "output_type": "stream",
       "stream": "stdout",
       "text": [
        "\n",
        "The classifier result: 4. The real number: 4.\n",
        "The classifier result: 4. The real number: 4."
       ]
      },
      {
       "output_type": "stream",
       "stream": "stdout",
       "text": [
        "\n",
        "The classifier result: 4. The real number: 4.\n",
        "The classifier result: 4. The real number: 4."
       ]
      },
      {
       "output_type": "stream",
       "stream": "stdout",
       "text": [
        "\n",
        "The classifier result: 4. The real number: 4.\n",
        "The classifier result: 4. The real number: 4."
       ]
      },
      {
       "output_type": "stream",
       "stream": "stdout",
       "text": [
        "\n",
        "The classifier result: 4. The real number: 4.\n",
        "The classifier result: 4. The real number: 4."
       ]
      },
      {
       "output_type": "stream",
       "stream": "stdout",
       "text": [
        "\n",
        "The classifier result: 4. The real number: 4.\n",
        "The classifier result: 4. The real number: 4."
       ]
      },
      {
       "output_type": "stream",
       "stream": "stdout",
       "text": [
        "\n",
        "The classifier result: 4. The real number: 4.\n",
        "The classifier result: 4. The real number: 4."
       ]
      },
      {
       "output_type": "stream",
       "stream": "stdout",
       "text": [
        "\n",
        "The classifier result: 4. The real number: 4.\n",
        "The classifier result: 4. The real number: 4."
       ]
      },
      {
       "output_type": "stream",
       "stream": "stdout",
       "text": [
        "\n",
        "The classifier result: 4. The real number: 4.\n",
        "The classifier result: 4. The real number: 4."
       ]
      },
      {
       "output_type": "stream",
       "stream": "stdout",
       "text": [
        "\n",
        "The classifier result: 4. The real number: 4.\n",
        "The classifier result: 4. The real number: 4."
       ]
      },
      {
       "output_type": "stream",
       "stream": "stdout",
       "text": [
        "\n",
        "The classifier result: 4. The real number: 4.\n",
        "The classifier result: 4. The real number: 4."
       ]
      },
      {
       "output_type": "stream",
       "stream": "stdout",
       "text": [
        "\n",
        "The classifier result: 4. The real number: 4.\n",
        "The classifier result: 4. The real number: 4."
       ]
      },
      {
       "output_type": "stream",
       "stream": "stdout",
       "text": [
        "\n",
        "The classifier result: 4. The real number: 4.\n",
        "The classifier result: 4. The real number: 4."
       ]
      },
      {
       "output_type": "stream",
       "stream": "stdout",
       "text": [
        "\n",
        "The classifier result: 4. The real number: 4.\n",
        "The classifier result: 4. The real number: 4."
       ]
      },
      {
       "output_type": "stream",
       "stream": "stdout",
       "text": [
        "\n",
        "The classifier result: 4. The real number: 4.\n",
        "The classifier result: 4. The real number: 4."
       ]
      },
      {
       "output_type": "stream",
       "stream": "stdout",
       "text": [
        "\n",
        "The classifier result: 4. The real number: 4.\n",
        "The classifier result: 4. The real number: 4."
       ]
      },
      {
       "output_type": "stream",
       "stream": "stdout",
       "text": [
        "\n",
        "The classifier result: 4. The real number: 4.\n",
        "The classifier result: 4. The real number: 4."
       ]
      },
      {
       "output_type": "stream",
       "stream": "stdout",
       "text": [
        "\n",
        "The classifier result: 4. The real number: 4.\n",
        "The classifier result: 4. The real number: 4."
       ]
      },
      {
       "output_type": "stream",
       "stream": "stdout",
       "text": [
        "\n",
        "The classifier result: 4. The real number: 4.\n",
        "The classifier result: 4. The real number: 4."
       ]
      },
      {
       "output_type": "stream",
       "stream": "stdout",
       "text": [
        "\n",
        "The classifier result: 4. The real number: 4.\n",
        "The classifier result: 4. The real number: 4."
       ]
      },
      {
       "output_type": "stream",
       "stream": "stdout",
       "text": [
        "\n",
        "The classifier result: 4. The real number: 4.\n",
        "The classifier result: 4. The real number: 4."
       ]
      },
      {
       "output_type": "stream",
       "stream": "stdout",
       "text": [
        "\n",
        "The classifier result: 4. The real number: 4.\n",
        "The classifier result: 4. The real number: 4."
       ]
      },
      {
       "output_type": "stream",
       "stream": "stdout",
       "text": [
        "\n",
        "The classifier result: 4. The real number: 4.\n",
        "The classifier result: 4. The real number: 4."
       ]
      },
      {
       "output_type": "stream",
       "stream": "stdout",
       "text": [
        "\n",
        "The classifier result: 4. The real number: 4.\n",
        "The classifier result: 4. The real number: 4."
       ]
      },
      {
       "output_type": "stream",
       "stream": "stdout",
       "text": [
        "\n",
        "The classifier result: 4. The real number: 4.\n",
        "The classifier result: 4. The real number: 4."
       ]
      },
      {
       "output_type": "stream",
       "stream": "stdout",
       "text": [
        "\n",
        "The classifier result: 4. The real number: 4.\n",
        "The classifier result: 4. The real number: 4."
       ]
      },
      {
       "output_type": "stream",
       "stream": "stdout",
       "text": [
        "\n",
        "The classifier result: 4. The real number: 4.\n",
        "The classifier result: 4. The real number: 4."
       ]
      },
      {
       "output_type": "stream",
       "stream": "stdout",
       "text": [
        "\n",
        "The classifier result: 4. The real number: 4.\n",
        "The classifier result: 4. The real number: 4."
       ]
      },
      {
       "output_type": "stream",
       "stream": "stdout",
       "text": [
        "\n",
        "The classifier result: 4. The real number: 4.\n",
        "The classifier result: 4. The real number: 4."
       ]
      },
      {
       "output_type": "stream",
       "stream": "stdout",
       "text": [
        "\n",
        "The classifier result: 4. The real number: 4.\n",
        "The classifier result: 4. The real number: 4."
       ]
      },
      {
       "output_type": "stream",
       "stream": "stdout",
       "text": [
        "\n",
        "The classifier result: 4. The real number: 4.\n",
        "The classifier result: 4. The real number: 4."
       ]
      },
      {
       "output_type": "stream",
       "stream": "stdout",
       "text": [
        "\n",
        "The classifier result: 4. The real number: 4.\n",
        "The classifier result: 4. The real number: 4."
       ]
      },
      {
       "output_type": "stream",
       "stream": "stdout",
       "text": [
        "\n",
        "The classifier result: 4. The real number: 4.\n",
        "The classifier result: 4. The real number: 4."
       ]
      },
      {
       "output_type": "stream",
       "stream": "stdout",
       "text": [
        "\n",
        "The classifier result: 4. The real number: 4.\n",
        "The classifier result: 4. The real number: 4."
       ]
      },
      {
       "output_type": "stream",
       "stream": "stdout",
       "text": [
        "\n",
        "The classifier result: 4. The real number: 4.\n",
        "The classifier result: 4. The real number: 4."
       ]
      },
      {
       "output_type": "stream",
       "stream": "stdout",
       "text": [
        "\n",
        "The classifier result: 4. The real number: 4.\n",
        "The classifier result: 4. The real number: 4."
       ]
      },
      {
       "output_type": "stream",
       "stream": "stdout",
       "text": [
        "\n",
        "The classifier result: 4. The real number: 4.\n",
        "The classifier result: 4. The real number: 4."
       ]
      },
      {
       "output_type": "stream",
       "stream": "stdout",
       "text": [
        "\n",
        "The classifier result: 4. The real number: 4.\n",
        "The classifier result: 4. The real number: 4."
       ]
      },
      {
       "output_type": "stream",
       "stream": "stdout",
       "text": [
        "\n",
        "The classifier result: 4. The real number: 4.\n",
        "The classifier result: 4. The real number: 4."
       ]
      },
      {
       "output_type": "stream",
       "stream": "stdout",
       "text": [
        "\n",
        "The classifier result: 4. The real number: 4.\n",
        "The classifier result: 4. The real number: 4."
       ]
      },
      {
       "output_type": "stream",
       "stream": "stdout",
       "text": [
        "\n",
        "The classifier result: 4. The real number: 4.\n",
        "The classifier result: 4. The real number: 4."
       ]
      },
      {
       "output_type": "stream",
       "stream": "stdout",
       "text": [
        "\n",
        "The classifier result: 4. The real number: 4.\n",
        "The classifier result: 5. The real number: 5."
       ]
      },
      {
       "output_type": "stream",
       "stream": "stdout",
       "text": [
        "\n",
        "The classifier result: 5. The real number: 5.\n",
        "The classifier result: 5. The real number: 5."
       ]
      },
      {
       "output_type": "stream",
       "stream": "stdout",
       "text": [
        "\n",
        "The classifier result: 5. The real number: 5.\n",
        "The classifier result: 5. The real number: 5."
       ]
      },
      {
       "output_type": "stream",
       "stream": "stdout",
       "text": [
        "\n",
        "The classifier result: 5. The real number: 5.\n",
        "The classifier result: 5. The real number: 5."
       ]
      },
      {
       "output_type": "stream",
       "stream": "stdout",
       "text": [
        "\n",
        "The classifier result: 5. The real number: 5.\n",
        "The classifier result: 5. The real number: 5."
       ]
      },
      {
       "output_type": "stream",
       "stream": "stdout",
       "text": [
        "\n",
        "The classifier result: 5. The real number: 5.\n",
        "The classifier result: 5. The real number: 5."
       ]
      },
      {
       "output_type": "stream",
       "stream": "stdout",
       "text": [
        "\n",
        "The classifier result: 5. The real number: 5.\n",
        "The classifier result: 5. The real number: 5."
       ]
      },
      {
       "output_type": "stream",
       "stream": "stdout",
       "text": [
        "\n",
        "The classifier result: 5. The real number: 5.\n",
        "The classifier result: 5. The real number: 5."
       ]
      },
      {
       "output_type": "stream",
       "stream": "stdout",
       "text": [
        "\n",
        "The classifier result: 5. The real number: 5.\n",
        "The classifier result: 5. The real number: 5."
       ]
      },
      {
       "output_type": "stream",
       "stream": "stdout",
       "text": [
        "\n",
        "The classifier result: 5. The real number: 5.\n",
        "The classifier result: 5. The real number: 5."
       ]
      },
      {
       "output_type": "stream",
       "stream": "stdout",
       "text": [
        "\n",
        "The classifier result: 5. The real number: 5.\n",
        "The classifier result: 5. The real number: 5."
       ]
      },
      {
       "output_type": "stream",
       "stream": "stdout",
       "text": [
        "\n",
        "The classifier result: 5. The real number: 5.\n",
        "The classifier result: 5. The real number: 5."
       ]
      },
      {
       "output_type": "stream",
       "stream": "stdout",
       "text": [
        "\n",
        "The classifier result: 5. The real number: 5.\n",
        "The classifier result: 5. The real number: 5."
       ]
      },
      {
       "output_type": "stream",
       "stream": "stdout",
       "text": [
        "\n",
        "The classifier result: 5. The real number: 5.\n",
        "The classifier result: 5. The real number: 5."
       ]
      },
      {
       "output_type": "stream",
       "stream": "stdout",
       "text": [
        "\n",
        "The classifier result: 5. The real number: 5.\n",
        "The classifier result: 5. The real number: 5."
       ]
      },
      {
       "output_type": "stream",
       "stream": "stdout",
       "text": [
        "\n",
        "The classifier result: 5. The real number: 5.\n",
        "The classifier result: 5. The real number: 5.\n",
        "The classifier result: 5. The real number: 5."
       ]
      },
      {
       "output_type": "stream",
       "stream": "stdout",
       "text": [
        "\n",
        "The classifier result: 5. The real number: 5.\n",
        "The classifier result: 5. The real number: 5.\n",
        "The classifier result: 5. The real number: 5."
       ]
      },
      {
       "output_type": "stream",
       "stream": "stdout",
       "text": [
        "\n",
        "The classifier result: 5. The real number: 5.\n",
        "The classifier result: 5. The real number: 5."
       ]
      },
      {
       "output_type": "stream",
       "stream": "stdout",
       "text": [
        "\n",
        "The classifier result: 5. The real number: 5.\n",
        "The classifier result: 5. The real number: 5.\n",
        "The classifier result: 5. The real number: 5."
       ]
      },
      {
       "output_type": "stream",
       "stream": "stdout",
       "text": [
        "\n",
        "The classifier result: 5. The real number: 5.\n",
        "The classifier result: 5. The real number: 5.\n",
        "The classifier result: 5. The real number: 5."
       ]
      },
      {
       "output_type": "stream",
       "stream": "stdout",
       "text": [
        "\n",
        "The classifier result: 5. The real number: 5.\n",
        "The classifier result: 5. The real number: 5.\n",
        "The classifier result: 3. The real number: 5."
       ]
      },
      {
       "output_type": "stream",
       "stream": "stdout",
       "text": [
        "\n",
        "The classifier result: 6. The real number: 5.\n",
        "The classifier result: 5. The real number: 5."
       ]
      },
      {
       "output_type": "stream",
       "stream": "stdout",
       "text": [
        "\n",
        "The classifier result: 5. The real number: 5.\n",
        "The classifier result: 5. The real number: 5."
       ]
      },
      {
       "output_type": "stream",
       "stream": "stdout",
       "text": [
        "\n",
        "The classifier result: 5. The real number: 5.\n",
        "The classifier result: 5. The real number: 5."
       ]
      },
      {
       "output_type": "stream",
       "stream": "stdout",
       "text": [
        "\n",
        "The classifier result: 5. The real number: 5.\n",
        "The classifier result: 5. The real number: 5."
       ]
      },
      {
       "output_type": "stream",
       "stream": "stdout",
       "text": [
        "\n",
        "The classifier result: 5. The real number: 5.\n",
        "The classifier result: 5. The real number: 5."
       ]
      },
      {
       "output_type": "stream",
       "stream": "stdout",
       "text": [
        "\n",
        "The classifier result: 5. The real number: 5.\n",
        "The classifier result: 5. The real number: 5."
       ]
      },
      {
       "output_type": "stream",
       "stream": "stdout",
       "text": [
        "\n",
        "The classifier result: 5. The real number: 5.\n",
        "The classifier result: 5. The real number: 5.\n",
        "The classifier result: 5. The real number: 5."
       ]
      },
      {
       "output_type": "stream",
       "stream": "stdout",
       "text": [
        "\n",
        "The classifier result: 5. The real number: 5.\n",
        "The classifier result: 5. The real number: 5.\n",
        "The classifier result: 5. The real number: 5."
       ]
      },
      {
       "output_type": "stream",
       "stream": "stdout",
       "text": [
        "\n",
        "The classifier result: 5. The real number: 5.\n",
        "The classifier result: 5. The real number: 5.\n",
        "The classifier result: 5. The real number: 5."
       ]
      },
      {
       "output_type": "stream",
       "stream": "stdout",
       "text": [
        "\n",
        "The classifier result: 5. The real number: 5.\n",
        "The classifier result: 5. The real number: 5.\n",
        "The classifier result: 5. The real number: 5."
       ]
      },
      {
       "output_type": "stream",
       "stream": "stdout",
       "text": [
        "\n",
        "The classifier result: 5. The real number: 5.\n",
        "The classifier result: 5. The real number: 5.\n",
        "The classifier result: 5. The real number: 5."
       ]
      },
      {
       "output_type": "stream",
       "stream": "stdout",
       "text": [
        "\n",
        "The classifier result: 5. The real number: 5.\n",
        "The classifier result: 5. The real number: 5.\n",
        "The classifier result: 5. The real number: 5."
       ]
      },
      {
       "output_type": "stream",
       "stream": "stdout",
       "text": [
        "\n",
        "The classifier result: 5. The real number: 5.\n",
        "The classifier result: 5. The real number: 5.\n",
        "The classifier result: 5. The real number: 5."
       ]
      },
      {
       "output_type": "stream",
       "stream": "stdout",
       "text": [
        "\n",
        "The classifier result: 5. The real number: 5.\n",
        "The classifier result: 5. The real number: 5.\n",
        "The classifier result: 5. The real number: 5."
       ]
      },
      {
       "output_type": "stream",
       "stream": "stdout",
       "text": [
        "\n",
        "The classifier result: 5. The real number: 5.\n",
        "The classifier result: 5. The real number: 5.\n",
        "The classifier result: 5. The real number: 5."
       ]
      },
      {
       "output_type": "stream",
       "stream": "stdout",
       "text": [
        "\n",
        "The classifier result: 5. The real number: 5.\n",
        "The classifier result: 5. The real number: 5.\n",
        "The classifier result: 5. The real number: 5."
       ]
      },
      {
       "output_type": "stream",
       "stream": "stdout",
       "text": [
        "\n",
        "The classifier result: 5. The real number: 5.\n",
        "The classifier result: 5. The real number: 5.\n",
        "The classifier result: 5. The real number: 5."
       ]
      },
      {
       "output_type": "stream",
       "stream": "stdout",
       "text": [
        "\n",
        "The classifier result: 5. The real number: 5.\n",
        "The classifier result: 5. The real number: 5.\n",
        "The classifier result: 5. The real number: 5."
       ]
      },
      {
       "output_type": "stream",
       "stream": "stdout",
       "text": [
        "\n",
        "The classifier result: 5. The real number: 5.\n",
        "The classifier result: 5. The real number: 5.\n",
        "The classifier result: 5. The real number: 5."
       ]
      },
      {
       "output_type": "stream",
       "stream": "stdout",
       "text": [
        "\n",
        "The classifier result: 5. The real number: 5.\n",
        "The classifier result: 5. The real number: 5."
       ]
      },
      {
       "output_type": "stream",
       "stream": "stdout",
       "text": [
        "\n",
        "The classifier result: 5. The real number: 5.\n",
        "The classifier result: 5. The real number: 5.\n",
        "The classifier result: 5. The real number: 5."
       ]
      },
      {
       "output_type": "stream",
       "stream": "stdout",
       "text": [
        "\n",
        "The classifier result: 5. The real number: 5.\n",
        "The classifier result: 5. The real number: 5.\n",
        "The classifier result: 5. The real number: 5."
       ]
      },
      {
       "output_type": "stream",
       "stream": "stdout",
       "text": [
        "\n",
        "The classifier result: 5. The real number: 5.\n",
        "The classifier result: 5. The real number: 5.\n",
        "The classifier result: 5. The real number: 5."
       ]
      },
      {
       "output_type": "stream",
       "stream": "stdout",
       "text": [
        "\n",
        "The classifier result: 6. The real number: 6.\n",
        "The classifier result: 6. The real number: 6.\n",
        "The classifier result: 6. The real number: 6."
       ]
      },
      {
       "output_type": "stream",
       "stream": "stdout",
       "text": [
        "\n",
        "The classifier result: 6. The real number: 6.\n",
        "The classifier result: 6. The real number: 6.\n",
        "The classifier result: 6. The real number: 6."
       ]
      },
      {
       "output_type": "stream",
       "stream": "stdout",
       "text": [
        "\n",
        "The classifier result: 6. The real number: 6.\n",
        "The classifier result: 6. The real number: 6.\n",
        "The classifier result: 6. The real number: 6."
       ]
      },
      {
       "output_type": "stream",
       "stream": "stdout",
       "text": [
        "\n",
        "The classifier result: 6. The real number: 6.\n",
        "The classifier result: 6. The real number: 6.\n",
        "The classifier result: 6. The real number: 6."
       ]
      },
      {
       "output_type": "stream",
       "stream": "stdout",
       "text": [
        "\n",
        "The classifier result: 6. The real number: 6.\n",
        "The classifier result: 6. The real number: 6.\n",
        "The classifier result: 6. The real number: 6."
       ]
      },
      {
       "output_type": "stream",
       "stream": "stdout",
       "text": [
        "\n",
        "The classifier result: 6. The real number: 6.\n",
        "The classifier result: 6. The real number: 6.\n",
        "The classifier result: 6. The real number: 6."
       ]
      },
      {
       "output_type": "stream",
       "stream": "stdout",
       "text": [
        "\n",
        "The classifier result: 6. The real number: 6.\n",
        "The classifier result: 6. The real number: 6.\n",
        "The classifier result: 6. The real number: 6."
       ]
      },
      {
       "output_type": "stream",
       "stream": "stdout",
       "text": [
        "\n",
        "The classifier result: 6. The real number: 6.\n",
        "The classifier result: 6. The real number: 6.\n",
        "The classifier result: 6. The real number: 6."
       ]
      },
      {
       "output_type": "stream",
       "stream": "stdout",
       "text": [
        "\n",
        "The classifier result: 6. The real number: 6.\n",
        "The classifier result: 6. The real number: 6.\n",
        "The classifier result: 6. The real number: 6."
       ]
      },
      {
       "output_type": "stream",
       "stream": "stdout",
       "text": [
        "\n",
        "The classifier result: 6. The real number: 6.\n",
        "The classifier result: 6. The real number: 6.\n",
        "The classifier result: 6. The real number: 6."
       ]
      },
      {
       "output_type": "stream",
       "stream": "stdout",
       "text": [
        "\n",
        "The classifier result: 6. The real number: 6.\n",
        "The classifier result: 6. The real number: 6.\n",
        "The classifier result: 6. The real number: 6."
       ]
      },
      {
       "output_type": "stream",
       "stream": "stdout",
       "text": [
        "\n",
        "The classifier result: 6. The real number: 6.\n",
        "The classifier result: 6. The real number: 6.\n",
        "The classifier result: 6. The real number: 6."
       ]
      },
      {
       "output_type": "stream",
       "stream": "stdout",
       "text": [
        "\n",
        "The classifier result: 6. The real number: 6.\n",
        "The classifier result: 6. The real number: 6.\n",
        "The classifier result: 6. The real number: 6."
       ]
      },
      {
       "output_type": "stream",
       "stream": "stdout",
       "text": [
        "\n",
        "The classifier result: 6. The real number: 6.\n",
        "The classifier result: 6. The real number: 6.\n",
        "The classifier result: 6. The real number: 6."
       ]
      },
      {
       "output_type": "stream",
       "stream": "stdout",
       "text": [
        "\n",
        "The classifier result: 6. The real number: 6.\n",
        "The classifier result: 6. The real number: 6.\n",
        "The classifier result: 6. The real number: 6."
       ]
      },
      {
       "output_type": "stream",
       "stream": "stdout",
       "text": [
        "\n",
        "The classifier result: 6. The real number: 6.\n",
        "The classifier result: 6. The real number: 6.\n",
        "The classifier result: 6. The real number: 6."
       ]
      },
      {
       "output_type": "stream",
       "stream": "stdout",
       "text": [
        "\n",
        "The classifier result: 6. The real number: 6.\n",
        "The classifier result: 6. The real number: 6.\n",
        "The classifier result: 6. The real number: 6."
       ]
      },
      {
       "output_type": "stream",
       "stream": "stdout",
       "text": [
        "\n",
        "The classifier result: 6. The real number: 6.\n",
        "The classifier result: 6. The real number: 6.\n",
        "The classifier result: 6. The real number: 6."
       ]
      },
      {
       "output_type": "stream",
       "stream": "stdout",
       "text": [
        "\n",
        "The classifier result: 6. The real number: 6.\n",
        "The classifier result: 6. The real number: 6.\n",
        "The classifier result: 6. The real number: 6."
       ]
      },
      {
       "output_type": "stream",
       "stream": "stdout",
       "text": [
        "\n",
        "The classifier result: 6. The real number: 6.\n",
        "The classifier result: 6. The real number: 6.\n",
        "The classifier result: 6. The real number: 6."
       ]
      },
      {
       "output_type": "stream",
       "stream": "stdout",
       "text": [
        "\n",
        "The classifier result: 6. The real number: 6.\n",
        "The classifier result: 6. The real number: 6.\n",
        "The classifier result: 6. The real number: 6."
       ]
      },
      {
       "output_type": "stream",
       "stream": "stdout",
       "text": [
        "\n",
        "The classifier result: 6. The real number: 6.\n",
        "The classifier result: 6. The real number: 6.\n",
        "The classifier result: 6. The real number: 6."
       ]
      },
      {
       "output_type": "stream",
       "stream": "stdout",
       "text": [
        "\n",
        "The classifier result: 6. The real number: 6.\n",
        "The classifier result: 6. The real number: 6.\n",
        "The classifier result: 6. The real number: 6."
       ]
      },
      {
       "output_type": "stream",
       "stream": "stdout",
       "text": [
        "\n",
        "The classifier result: 6. The real number: 6.\n",
        "The classifier result: 6. The real number: 6.\n",
        "The classifier result: 6. The real number: 6."
       ]
      },
      {
       "output_type": "stream",
       "stream": "stdout",
       "text": [
        "\n",
        "The classifier result: 6. The real number: 6.\n",
        "The classifier result: 6. The real number: 6.\n",
        "The classifier result: 6. The real number: 6."
       ]
      },
      {
       "output_type": "stream",
       "stream": "stdout",
       "text": [
        "\n",
        "The classifier result: 6. The real number: 6.\n",
        "The classifier result: 6. The real number: 6.\n",
        "The classifier result: 6. The real number: 6."
       ]
      },
      {
       "output_type": "stream",
       "stream": "stdout",
       "text": [
        "\n",
        "The classifier result: 6. The real number: 6.\n",
        "The classifier result: 6. The real number: 6.\n",
        "The classifier result: 6. The real number: 6."
       ]
      },
      {
       "output_type": "stream",
       "stream": "stdout",
       "text": [
        "\n",
        "The classifier result: 6. The real number: 6.\n",
        "The classifier result: 6. The real number: 6.\n",
        "The classifier result: 6. The real number: 6."
       ]
      },
      {
       "output_type": "stream",
       "stream": "stdout",
       "text": [
        "\n",
        "The classifier result: 6. The real number: 6.\n",
        "The classifier result: 6. The real number: 6.\n",
        "The classifier result: 6. The real number: 6."
       ]
      },
      {
       "output_type": "stream",
       "stream": "stdout",
       "text": [
        "\n",
        "The classifier result: 7. The real number: 7.\n",
        "The classifier result: 7. The real number: 7.\n",
        "The classifier result: 7. The real number: 7."
       ]
      },
      {
       "output_type": "stream",
       "stream": "stdout",
       "text": [
        "\n",
        "The classifier result: 7. The real number: 7.\n",
        "The classifier result: 7. The real number: 7.\n",
        "The classifier result: 7. The real number: 7."
       ]
      },
      {
       "output_type": "stream",
       "stream": "stdout",
       "text": [
        "\n",
        "The classifier result: 7. The real number: 7.\n",
        "The classifier result: 7. The real number: 7.\n",
        "The classifier result: 7. The real number: 7."
       ]
      },
      {
       "output_type": "stream",
       "stream": "stdout",
       "text": [
        "\n",
        "The classifier result: 7. The real number: 7.\n",
        "The classifier result: 7. The real number: 7.\n",
        "The classifier result: 7. The real number: 7."
       ]
      },
      {
       "output_type": "stream",
       "stream": "stdout",
       "text": [
        "\n",
        "The classifier result: 7. The real number: 7.\n",
        "The classifier result: 7. The real number: 7.\n",
        "The classifier result: 7. The real number: 7."
       ]
      },
      {
       "output_type": "stream",
       "stream": "stdout",
       "text": [
        "\n",
        "The classifier result: 7. The real number: 7.\n",
        "The classifier result: 7. The real number: 7.\n",
        "The classifier result: 7. The real number: 7."
       ]
      },
      {
       "output_type": "stream",
       "stream": "stdout",
       "text": [
        "\n",
        "The classifier result: 7. The real number: 7.\n",
        "The classifier result: 7. The real number: 7.\n",
        "The classifier result: 7. The real number: 7."
       ]
      },
      {
       "output_type": "stream",
       "stream": "stdout",
       "text": [
        "\n",
        "The classifier result: 7. The real number: 7.\n",
        "The classifier result: 7. The real number: 7.\n",
        "The classifier result: 7. The real number: 7."
       ]
      },
      {
       "output_type": "stream",
       "stream": "stdout",
       "text": [
        "\n",
        "The classifier result: 7. The real number: 7.\n",
        "The classifier result: 7. The real number: 7.\n",
        "The classifier result: 7. The real number: 7."
       ]
      },
      {
       "output_type": "stream",
       "stream": "stdout",
       "text": [
        "\n",
        "The classifier result: 7. The real number: 7.\n",
        "The classifier result: 7. The real number: 7.\n",
        "The classifier result: 7. The real number: 7."
       ]
      },
      {
       "output_type": "stream",
       "stream": "stdout",
       "text": [
        "\n",
        "The classifier result: 7. The real number: 7.\n",
        "The classifier result: 7. The real number: 7.\n",
        "The classifier result: 7. The real number: 7."
       ]
      },
      {
       "output_type": "stream",
       "stream": "stdout",
       "text": [
        "\n",
        "The classifier result: 7. The real number: 7.\n",
        "The classifier result: 7. The real number: 7.\n",
        "The classifier result: 7. The real number: 7."
       ]
      },
      {
       "output_type": "stream",
       "stream": "stdout",
       "text": [
        "\n",
        "The classifier result: 7. The real number: 7.\n",
        "The classifier result: 7. The real number: 7.\n",
        "The classifier result: 7. The real number: 7."
       ]
      },
      {
       "output_type": "stream",
       "stream": "stdout",
       "text": [
        "\n",
        "The classifier result: 7. The real number: 7.\n",
        "The classifier result: 7. The real number: 7.\n",
        "The classifier result: 7. The real number: 7."
       ]
      },
      {
       "output_type": "stream",
       "stream": "stdout",
       "text": [
        "\n",
        "The classifier result: 7. The real number: 7.\n",
        "The classifier result: 7. The real number: 7.\n",
        "The classifier result: 7. The real number: 7."
       ]
      },
      {
       "output_type": "stream",
       "stream": "stdout",
       "text": [
        "\n",
        "The classifier result: 7. The real number: 7.\n",
        "The classifier result: 7. The real number: 7.\n",
        "The classifier result: 7. The real number: 7."
       ]
      },
      {
       "output_type": "stream",
       "stream": "stdout",
       "text": [
        "\n",
        "The classifier result: 7. The real number: 7.\n",
        "The classifier result: 7. The real number: 7.\n",
        "The classifier result: 7. The real number: 7."
       ]
      },
      {
       "output_type": "stream",
       "stream": "stdout",
       "text": [
        "\n",
        "The classifier result: 7. The real number: 7.\n",
        "The classifier result: 7. The real number: 7.\n",
        "The classifier result: 7. The real number: 7."
       ]
      },
      {
       "output_type": "stream",
       "stream": "stdout",
       "text": [
        "\n",
        "The classifier result: 7. The real number: 7.\n",
        "The classifier result: 7. The real number: 7.\n",
        "The classifier result: 7. The real number: 7."
       ]
      },
      {
       "output_type": "stream",
       "stream": "stdout",
       "text": [
        "\n",
        "The classifier result: 7. The real number: 7.\n",
        "The classifier result: 7. The real number: 7.\n",
        "The classifier result: 7. The real number: 7."
       ]
      },
      {
       "output_type": "stream",
       "stream": "stdout",
       "text": [
        "\n",
        "The classifier result: 7. The real number: 7.\n",
        "The classifier result: 7. The real number: 7.\n",
        "The classifier result: 7. The real number: 7."
       ]
      },
      {
       "output_type": "stream",
       "stream": "stdout",
       "text": [
        "\n",
        "The classifier result: 7. The real number: 7.\n",
        "The classifier result: 7. The real number: 7.\n",
        "The classifier result: 7. The real number: 7."
       ]
      },
      {
       "output_type": "stream",
       "stream": "stdout",
       "text": [
        "\n",
        "The classifier result: 7. The real number: 7.\n",
        "The classifier result: 7. The real number: 7.\n",
        "The classifier result: 7. The real number: 7."
       ]
      },
      {
       "output_type": "stream",
       "stream": "stdout",
       "text": [
        "\n",
        "The classifier result: 7. The real number: 7.\n",
        "The classifier result: 7. The real number: 7.\n",
        "The classifier result: 7. The real number: 7."
       ]
      },
      {
       "output_type": "stream",
       "stream": "stdout",
       "text": [
        "\n",
        "The classifier result: 7. The real number: 7.\n",
        "The classifier result: 7. The real number: 7.\n",
        "The classifier result: 7. The real number: 7."
       ]
      },
      {
       "output_type": "stream",
       "stream": "stdout",
       "text": [
        "\n",
        "The classifier result: 7. The real number: 7.\n",
        "The classifier result: 7. The real number: 7.\n",
        "The classifier result: 7. The real number: 7."
       ]
      },
      {
       "output_type": "stream",
       "stream": "stdout",
       "text": [
        "\n",
        "The classifier result: 7. The real number: 7.\n",
        "The classifier result: 7. The real number: 7.\n",
        "The classifier result: 7. The real number: 7."
       ]
      },
      {
       "output_type": "stream",
       "stream": "stdout",
       "text": [
        "\n",
        "The classifier result: 7. The real number: 7.\n",
        "The classifier result: 7. The real number: 7.\n",
        "The classifier result: 7. The real number: 7."
       ]
      },
      {
       "output_type": "stream",
       "stream": "stdout",
       "text": [
        "\n",
        "The classifier result: 7. The real number: 7.\n",
        "The classifier result: 7. The real number: 7.\n",
        "The classifier result: 7. The real number: 7."
       ]
      },
      {
       "output_type": "stream",
       "stream": "stdout",
       "text": [
        "\n",
        "The classifier result: 7. The real number: 7.\n",
        "The classifier result: 7. The real number: 7.\n",
        "The classifier result: 7. The real number: 7."
       ]
      },
      {
       "output_type": "stream",
       "stream": "stdout",
       "text": [
        "\n",
        "The classifier result: 7. The real number: 7.\n",
        "The classifier result: 7. The real number: 7.\n",
        "The classifier result: 7. The real number: 7."
       ]
      },
      {
       "output_type": "stream",
       "stream": "stdout",
       "text": [
        "\n",
        "The classifier result: 7. The real number: 7.\n",
        "The classifier result: 7. The real number: 7.\n",
        "The classifier result: 7. The real number: 7."
       ]
      },
      {
       "output_type": "stream",
       "stream": "stdout",
       "text": [
        "\n",
        "The classifier result: 8. The real number: 8.\n",
        "The classifier result: 8. The real number: 8.\n",
        "The classifier result: 8. The real number: 8."
       ]
      },
      {
       "output_type": "stream",
       "stream": "stdout",
       "text": [
        "\n",
        "The classifier result: 6. The real number: 8.\n",
        "The classifier result: 8. The real number: 8.\n",
        "The classifier result: 8. The real number: 8."
       ]
      },
      {
       "output_type": "stream",
       "stream": "stdout",
       "text": [
        "\n",
        "The classifier result: 8. The real number: 8.\n",
        "The classifier result: 8. The real number: 8."
       ]
      },
      {
       "output_type": "stream",
       "stream": "stdout",
       "text": [
        "\n",
        "The classifier result: 8. The real number: 8."
       ]
      },
      {
       "output_type": "stream",
       "stream": "stdout",
       "text": [
        "\n",
        "The classifier result: 8. The real number: 8."
       ]
      },
      {
       "output_type": "stream",
       "stream": "stdout",
       "text": [
        "\n",
        "The classifier result: 8. The real number: 8.\n",
        "The classifier result: 8. The real number: 8."
       ]
      },
      {
       "output_type": "stream",
       "stream": "stdout",
       "text": [
        "\n",
        "The classifier result: 8. The real number: 8.\n",
        "The classifier result: 8. The real number: 8."
       ]
      },
      {
       "output_type": "stream",
       "stream": "stdout",
       "text": [
        "\n",
        "The classifier result: 8. The real number: 8.\n",
        "The classifier result: 8. The real number: 8."
       ]
      },
      {
       "output_type": "stream",
       "stream": "stdout",
       "text": [
        "\n",
        "The classifier result: 3. The real number: 8.\n",
        "The classifier result: 8. The real number: 8."
       ]
      },
      {
       "output_type": "stream",
       "stream": "stdout",
       "text": [
        "\n",
        "The classifier result: 8. The real number: 8.\n",
        "The classifier result: 8. The real number: 8."
       ]
      },
      {
       "output_type": "stream",
       "stream": "stdout",
       "text": [
        "\n",
        "The classifier result: 8. The real number: 8.\n",
        "The classifier result: 8. The real number: 8.\n",
        "The classifier result: 8. The real number: 8."
       ]
      },
      {
       "output_type": "stream",
       "stream": "stdout",
       "text": [
        "\n",
        "The classifier result: 8. The real number: 8.\n",
        "The classifier result: 8. The real number: 8."
       ]
      },
      {
       "output_type": "stream",
       "stream": "stdout",
       "text": [
        "\n",
        "The classifier result: 8. The real number: 8.\n",
        "The classifier result: 8. The real number: 8."
       ]
      },
      {
       "output_type": "stream",
       "stream": "stdout",
       "text": [
        "\n",
        "The classifier result: 8. The real number: 8.\n",
        "The classifier result: 8. The real number: 8."
       ]
      },
      {
       "output_type": "stream",
       "stream": "stdout",
       "text": [
        "\n",
        "The classifier result: 8. The real number: 8.\n",
        "The classifier result: 1. The real number: 8."
       ]
      },
      {
       "output_type": "stream",
       "stream": "stdout",
       "text": [
        "\n",
        "The classifier result: 8. The real number: 8.\n",
        "The classifier result: 8. The real number: 8."
       ]
      },
      {
       "output_type": "stream",
       "stream": "stdout",
       "text": [
        "\n",
        "The classifier result: 8. The real number: 8.\n",
        "The classifier result: 8. The real number: 8.\n",
        "The classifier result: 8. The real number: 8."
       ]
      },
      {
       "output_type": "stream",
       "stream": "stdout",
       "text": [
        "\n",
        "The classifier result: 8. The real number: 8.\n",
        "The classifier result: 8. The real number: 8."
       ]
      },
      {
       "output_type": "stream",
       "stream": "stdout",
       "text": [
        "\n",
        "The classifier result: 8. The real number: 8.\n",
        "The classifier result: 8. The real number: 8."
       ]
      },
      {
       "output_type": "stream",
       "stream": "stdout",
       "text": [
        "\n",
        "The classifier result: 1. The real number: 8.\n",
        "The classifier result: 8. The real number: 8."
       ]
      },
      {
       "output_type": "stream",
       "stream": "stdout",
       "text": [
        "\n",
        "The classifier result: 8. The real number: 8.\n",
        "The classifier result: 8. The real number: 8.\n",
        "The classifier result: 8. The real number: 8."
       ]
      },
      {
       "output_type": "stream",
       "stream": "stdout",
       "text": [
        "\n",
        "The classifier result: 8. The real number: 8.\n",
        "The classifier result: 8. The real number: 8.\n",
        "The classifier result: 8. The real number: 8."
       ]
      },
      {
       "output_type": "stream",
       "stream": "stdout",
       "text": [
        "\n",
        "The classifier result: 8. The real number: 8.\n",
        "The classifier result: 8. The real number: 8."
       ]
      },
      {
       "output_type": "stream",
       "stream": "stdout",
       "text": [
        "\n",
        "The classifier result: 8. The real number: 8.\n",
        "The classifier result: 8. The real number: 8."
       ]
      },
      {
       "output_type": "stream",
       "stream": "stdout",
       "text": [
        "\n",
        "The classifier result: 8. The real number: 8.\n",
        "The classifier result: 8. The real number: 8.\n",
        "The classifier result: 8. The real number: 8."
       ]
      },
      {
       "output_type": "stream",
       "stream": "stdout",
       "text": [
        "\n",
        "The classifier result: 8. The real number: 8.\n",
        "The classifier result: 8. The real number: 8."
       ]
      },
      {
       "output_type": "stream",
       "stream": "stdout",
       "text": [
        "\n",
        "The classifier result: 8. The real number: 8.\n",
        "The classifier result: 8. The real number: 8."
       ]
      },
      {
       "output_type": "stream",
       "stream": "stdout",
       "text": [
        "\n",
        "The classifier result: 8. The real number: 8.\n",
        "The classifier result: 8. The real number: 8."
       ]
      },
      {
       "output_type": "stream",
       "stream": "stdout",
       "text": [
        "\n",
        "The classifier result: 8. The real number: 8.\n",
        "The classifier result: 8. The real number: 8."
       ]
      },
      {
       "output_type": "stream",
       "stream": "stdout",
       "text": [
        "\n",
        "The classifier result: 8. The real number: 8.\n",
        "The classifier result: 8. The real number: 8."
       ]
      },
      {
       "output_type": "stream",
       "stream": "stdout",
       "text": [
        "\n",
        "The classifier result: 8. The real number: 8.\n",
        "The classifier result: 8. The real number: 8."
       ]
      },
      {
       "output_type": "stream",
       "stream": "stdout",
       "text": [
        "\n",
        "The classifier result: 8. The real number: 8.\n",
        "The classifier result: 8. The real number: 8."
       ]
      },
      {
       "output_type": "stream",
       "stream": "stdout",
       "text": [
        "\n",
        "The classifier result: 8. The real number: 8.\n",
        "The classifier result: 8. The real number: 8.\n",
        "The classifier result: 8. The real number: 8."
       ]
      },
      {
       "output_type": "stream",
       "stream": "stdout",
       "text": [
        "\n",
        "The classifier result: 8. The real number: 8.\n",
        "The classifier result: 8. The real number: 8."
       ]
      },
      {
       "output_type": "stream",
       "stream": "stdout",
       "text": [
        "\n",
        "The classifier result: 8. The real number: 8.\n",
        "The classifier result: 8. The real number: 8."
       ]
      },
      {
       "output_type": "stream",
       "stream": "stdout",
       "text": [
        "\n",
        "The classifier result: 8. The real number: 8.\n",
        "The classifier result: 8. The real number: 8.\n",
        "The classifier result: 8. The real number: 8."
       ]
      },
      {
       "output_type": "stream",
       "stream": "stdout",
       "text": [
        "\n",
        "The classifier result: 8. The real number: 8.\n",
        "The classifier result: 8. The real number: 8."
       ]
      },
      {
       "output_type": "stream",
       "stream": "stdout",
       "text": [
        "\n",
        "The classifier result: 8. The real number: 8.\n",
        "The classifier result: 8. The real number: 8."
       ]
      },
      {
       "output_type": "stream",
       "stream": "stdout",
       "text": [
        "\n",
        "The classifier result: 8. The real number: 8.\n",
        "The classifier result: 8. The real number: 8."
       ]
      },
      {
       "output_type": "stream",
       "stream": "stdout",
       "text": [
        "\n",
        "The classifier result: 8. The real number: 8.\n",
        "The classifier result: 8. The real number: 8.\n",
        "The classifier result: 8. The real number: 8."
       ]
      },
      {
       "output_type": "stream",
       "stream": "stdout",
       "text": [
        "\n",
        "The classifier result: 8. The real number: 8.\n",
        "The classifier result: 8. The real number: 8."
       ]
      },
      {
       "output_type": "stream",
       "stream": "stdout",
       "text": [
        "\n",
        "The classifier result: 8. The real number: 8.\n",
        "The classifier result: 9. The real number: 9."
       ]
      },
      {
       "output_type": "stream",
       "stream": "stdout",
       "text": [
        "\n",
        "The classifier result: 9. The real number: 9.\n",
        "The classifier result: 9. The real number: 9."
       ]
      },
      {
       "output_type": "stream",
       "stream": "stdout",
       "text": [
        "\n",
        "The classifier result: 9. The real number: 9.\n",
        "The classifier result: 9. The real number: 9."
       ]
      },
      {
       "output_type": "stream",
       "stream": "stdout",
       "text": [
        "\n",
        "The classifier result: 9. The real number: 9.\n",
        "The classifier result: 1. The real number: 9."
       ]
      },
      {
       "output_type": "stream",
       "stream": "stdout",
       "text": [
        "\n",
        "The classifier result: 9. The real number: 9.\n",
        "The classifier result: 9. The real number: 9.\n",
        "The classifier result: 9. The real number: 9."
       ]
      },
      {
       "output_type": "stream",
       "stream": "stdout",
       "text": [
        "\n",
        "The classifier result: 9. The real number: 9.\n",
        "The classifier result: 9. The real number: 9."
       ]
      },
      {
       "output_type": "stream",
       "stream": "stdout",
       "text": [
        "\n",
        "The classifier result: 9. The real number: 9.\n",
        "The classifier result: 9. The real number: 9."
       ]
      },
      {
       "output_type": "stream",
       "stream": "stdout",
       "text": [
        "\n",
        "The classifier result: 9. The real number: 9.\n",
        "The classifier result: 9. The real number: 9."
       ]
      },
      {
       "output_type": "stream",
       "stream": "stdout",
       "text": [
        "\n",
        "The classifier result: 9. The real number: 9.\n",
        "The classifier result: 9. The real number: 9.\n",
        "The classifier result: 9. The real number: 9."
       ]
      },
      {
       "output_type": "stream",
       "stream": "stdout",
       "text": [
        "\n",
        "The classifier result: 9. The real number: 9.\n",
        "The classifier result: 9. The real number: 9.\n",
        "The classifier result: 9. The real number: 9."
       ]
      },
      {
       "output_type": "stream",
       "stream": "stdout",
       "text": [
        "\n",
        "The classifier result: 9. The real number: 9.\n",
        "The classifier result: 9. The real number: 9."
       ]
      },
      {
       "output_type": "stream",
       "stream": "stdout",
       "text": [
        "\n",
        "The classifier result: 9. The real number: 9.\n",
        "The classifier result: 9. The real number: 9."
       ]
      },
      {
       "output_type": "stream",
       "stream": "stdout",
       "text": [
        "\n",
        "The classifier result: 9. The real number: 9.\n",
        "The classifier result: 9. The real number: 9."
       ]
      },
      {
       "output_type": "stream",
       "stream": "stdout",
       "text": [
        "\n",
        "The classifier result: 9. The real number: 9.\n",
        "The classifier result: 9. The real number: 9."
       ]
      },
      {
       "output_type": "stream",
       "stream": "stdout",
       "text": [
        "\n",
        "The classifier result: 9. The real number: 9.\n",
        "The classifier result: 9. The real number: 9."
       ]
      },
      {
       "output_type": "stream",
       "stream": "stdout",
       "text": [
        "\n",
        "The classifier result: 9. The real number: 9.\n",
        "The classifier result: 9. The real number: 9."
       ]
      },
      {
       "output_type": "stream",
       "stream": "stdout",
       "text": [
        "\n",
        "The classifier result: 9. The real number: 9.\n",
        "The classifier result: 9. The real number: 9.\n",
        "The classifier result: 9. The real number: 9."
       ]
      },
      {
       "output_type": "stream",
       "stream": "stdout",
       "text": [
        "\n",
        "The classifier result: 9. The real number: 9.\n",
        "The classifier result: 9. The real number: 9.\n",
        "The classifier result: 9. The real number: 9."
       ]
      },
      {
       "output_type": "stream",
       "stream": "stdout",
       "text": [
        "\n",
        "The classifier result: 9. The real number: 9.\n",
        "The classifier result: 9. The real number: 9."
       ]
      },
      {
       "output_type": "stream",
       "stream": "stdout",
       "text": [
        "\n",
        "The classifier result: 9. The real number: 9.\n",
        "The classifier result: 9. The real number: 9."
       ]
      },
      {
       "output_type": "stream",
       "stream": "stdout",
       "text": [
        "\n",
        "The classifier result: 9. The real number: 9.\n",
        "The classifier result: 9. The real number: 9."
       ]
      },
      {
       "output_type": "stream",
       "stream": "stdout",
       "text": [
        "\n",
        "The classifier result: 9. The real number: 9.\n",
        "The classifier result: 9. The real number: 9."
       ]
      },
      {
       "output_type": "stream",
       "stream": "stdout",
       "text": [
        "\n",
        "The classifier result: 9. The real number: 9.\n",
        "The classifier result: 9. The real number: 9."
       ]
      },
      {
       "output_type": "stream",
       "stream": "stdout",
       "text": [
        "\n",
        "The classifier result: 9. The real number: 9.\n",
        "The classifier result: 9. The real number: 9."
       ]
      },
      {
       "output_type": "stream",
       "stream": "stdout",
       "text": [
        "\n",
        "The classifier result: 9. The real number: 9.\n",
        "The classifier result: 9. The real number: 9."
       ]
      },
      {
       "output_type": "stream",
       "stream": "stdout",
       "text": [
        "\n",
        "The classifier result: 9. The real number: 9.\n",
        "The classifier result: 9. The real number: 9."
       ]
      },
      {
       "output_type": "stream",
       "stream": "stdout",
       "text": [
        "\n",
        "The classifier result: 9. The real number: 9.\n",
        "The classifier result: 7. The real number: 9."
       ]
      },
      {
       "output_type": "stream",
       "stream": "stdout",
       "text": [
        "\n",
        "The classifier result: 9. The real number: 9.\n",
        "The classifier result: 9. The real number: 9."
       ]
      },
      {
       "output_type": "stream",
       "stream": "stdout",
       "text": [
        "\n",
        "The classifier result: 9. The real number: 9.\n",
        "The classifier result: 9. The real number: 9."
       ]
      },
      {
       "output_type": "stream",
       "stream": "stdout",
       "text": [
        "\n",
        "The classifier result: 9. The real number: 9.\n",
        "The classifier result: 9. The real number: 9."
       ]
      },
      {
       "output_type": "stream",
       "stream": "stdout",
       "text": [
        "\n",
        "The classifier result: 9. The real number: 9.\n",
        "The classifier result: 9. The real number: 9."
       ]
      },
      {
       "output_type": "stream",
       "stream": "stdout",
       "text": [
        "\n",
        "The classifier result: 9. The real number: 9.\n",
        "The classifier result: 9. The real number: 9."
       ]
      },
      {
       "output_type": "stream",
       "stream": "stdout",
       "text": [
        "\n",
        "The classifier result: 9. The real number: 9.\n",
        "The classifier result: 9. The real number: 9."
       ]
      },
      {
       "output_type": "stream",
       "stream": "stdout",
       "text": [
        "\n",
        "The classifier result: 9. The real number: 9.\n",
        "The classifier result: 9. The real number: 9."
       ]
      },
      {
       "output_type": "stream",
       "stream": "stdout",
       "text": [
        "\n",
        "The classifier result: 9. The real number: 9.\n",
        "The classifier result: 9. The real number: 9."
       ]
      },
      {
       "output_type": "stream",
       "stream": "stdout",
       "text": [
        "\n",
        "The classifier result: 9. The real number: 9.\n",
        "The classifier result: 9. The real number: 9."
       ]
      },
      {
       "output_type": "stream",
       "stream": "stdout",
       "text": [
        "\n",
        "The classifier result: 9. The real number: 9.\n",
        "The classifier result: 9. The real number: 9.\n",
        "The classifier result: 9. The real number: 9."
       ]
      },
      {
       "output_type": "stream",
       "stream": "stdout",
       "text": [
        "\n",
        "The classifier result: 9. The real number: 9.\n",
        "The classifier result: 9. The real number: 9."
       ]
      },
      {
       "output_type": "stream",
       "stream": "stdout",
       "text": [
        "\n",
        "The classifier result: 9. The real number: 9.\n",
        "The classifier result: 9. The real number: 9."
       ]
      },
      {
       "output_type": "stream",
       "stream": "stdout",
       "text": [
        "\n",
        "The classifier result: 9. The real number: 9.\n",
        "The classifier result: 9. The real number: 9.\n",
        "The classifier result: 9. The real number: 9."
       ]
      },
      {
       "output_type": "stream",
       "stream": "stdout",
       "text": [
        "\n",
        "The classifier result: 9. The real number: 9.\n",
        "The classifier result: 9. The real number: 9."
       ]
      },
      {
       "output_type": "stream",
       "stream": "stdout",
       "text": [
        "\n",
        "The classifier result: 9. The real number: 9.\n"
       ]
      },
      {
       "ename": "TypeError",
       "evalue": "unsupported operand type(s) for /: 'str' and 'int'",
       "output_type": "pyerr",
       "traceback": [
        "\u001b[0;31m---------------------------------------------------------------------------\u001b[0m\n\u001b[0;31mTypeError\u001b[0m                                 Traceback (most recent call last)",
        "\u001b[0;32m<ipython-input-66-8527c5ec1bd8>\u001b[0m in \u001b[0;36m<module>\u001b[0;34m()\u001b[0m\n\u001b[1;32m     11\u001b[0m     \u001b[0;32mif\u001b[0m \u001b[0mclassNumStr\u001b[0m \u001b[0;34m<>\u001b[0m \u001b[0mclassRes\u001b[0m\u001b[0;34m:\u001b[0m\u001b[0;34m\u001b[0m\u001b[0m\n\u001b[1;32m     12\u001b[0m         \u001b[0merror\u001b[0m \u001b[0;34m+=\u001b[0m \u001b[0;36m1\u001b[0m\u001b[0;34m\u001b[0m\u001b[0m\n\u001b[0;32m---> 13\u001b[0;31m \u001b[0;32mprint\u001b[0m \u001b[0;34m\"Totol error rate: %f\"\u001b[0m \u001b[0;34m%\u001b[0m \u001b[0merror\u001b[0m\u001b[0;34m/\u001b[0m\u001b[0mmTest\u001b[0m\u001b[0;34m\u001b[0m\u001b[0m\n\u001b[0m",
        "\u001b[0;31mTypeError\u001b[0m: unsupported operand type(s) for /: 'str' and 'int'"
       ]
      }
     ],
     "prompt_number": 66
    },
    {
     "cell_type": "code",
     "collapsed": false,
     "input": [
      "testFileList = os.listdir('digits/testDigits')\n",
      "mTest = len(testFileList)\n",
      "errors = []\n",
      "ks = range(5)\n",
      "for k in ks:\n",
      "    error = 0.0\n",
      "    for i in range(mTest):\n",
      "        fileNameStr = testFileList[i]\n",
      "        fileStr = fileNameStr.split('.')[0]\n",
      "        classNumStr = int(fileStr.split('_')[0])\n",
      "        testVec = img2vec('digits/testDigits/%s' %fileNameStr)\n",
      "        classRes = classify0(testVec, trainingMat, hwLables, k+1)\n",
      "        if classNumStr <> classRes:\n",
      "            error += 1\n",
      "    errors.append(error/mTest)"
     ],
     "language": "python",
     "metadata": {},
     "outputs": [],
     "prompt_number": 76
    },
    {
     "cell_type": "code",
     "collapsed": false,
     "input": [
      "errors"
     ],
     "language": "python",
     "metadata": {},
     "outputs": [
      {
       "metadata": {},
       "output_type": "pyout",
       "prompt_number": 77,
       "text": [
        "[0.013742071881606765,\n",
        " 0.013742071881606765,\n",
        " 0.011627906976744186,\n",
        " 0.014799154334038054,\n",
        " 0.017970401691331923]"
       ]
      }
     ],
     "prompt_number": 77
    },
    {
     "cell_type": "code",
     "collapsed": false,
     "input": [
      "%matplotlib inline"
     ],
     "language": "python",
     "metadata": {},
     "outputs": [],
     "prompt_number": 78
    },
    {
     "cell_type": "code",
     "collapsed": false,
     "input": [
      "import matplotlib.pyplot as plt\n",
      "plt.plot((range(6)[1:]),errors)"
     ],
     "language": "python",
     "metadata": {},
     "outputs": [
      {
       "metadata": {},
       "output_type": "pyout",
       "prompt_number": 90,
       "text": [
        "[<matplotlib.lines.Line2D at 0x10bfa9290>]"
       ]
      },
      {
       "metadata": {},
       "output_type": "display_data",
       "png": "[encoded data removed]",
       "text": [
        "<matplotlib.figure.Figure at 0x10bdeec50>"
       ]
      }
     ],
     "prompt_number": 90
    },
    {
     "cell_type": "code",
     "collapsed": false,
     "input": [
      "# k = 3 gives the best prediction"
     ],
     "language": "python",
     "metadata": {},
     "outputs": []
    }
   ],
   "metadata": {}
  }
 ]
}