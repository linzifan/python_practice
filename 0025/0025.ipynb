{
 "metadata": {
  "name": "",
  "signature": "sha256:c9883246411014bfd63803838d5c8ea344389f91957a52f679f9a38b576e5cd0"
 },
 "nbformat": 3,
 "nbformat_minor": 0,
 "worksheets": [
  {
   "cells": [
    {
     "cell_type": "code",
     "collapsed": false,
     "input": [
      "import random\n",
      "\n",
      "CIPHER = {}\n",
      "LETTERS = 'abcdefghijklmnopqrstuvwxyz'\n",
      "\n",
      "def init():\n",
      "    letter_list = list(LETTERS)\n",
      "    random.shuffle(letter_list)\n",
      "    for ch in LETTERS:\n",
      "        CIPHER[ch] = letter_list.pop()\n"
     ],
     "language": "python",
     "metadata": {},
     "outputs": [],
     "prompt_number": 3
    },
    {
     "cell_type": "code",
     "collapsed": false,
     "input": [
      "init()\n",
      "CIPHER"
     ],
     "language": "python",
     "metadata": {},
     "outputs": [
      {
       "metadata": {},
       "output_type": "pyout",
       "prompt_number": 11,
       "text": [
        "{'a': 'w',\n",
        " 'b': 'z',\n",
        " 'c': 'f',\n",
        " 'd': 'x',\n",
        " 'e': 'c',\n",
        " 'f': 'h',\n",
        " 'g': 'd',\n",
        " 'h': 'o',\n",
        " 'i': 'q',\n",
        " 'j': 'b',\n",
        " 'k': 'u',\n",
        " 'l': 'g',\n",
        " 'm': 'e',\n",
        " 'n': 'y',\n",
        " 'o': 'i',\n",
        " 'p': 'l',\n",
        " 'q': 'a',\n",
        " 'r': 'r',\n",
        " 's': 'j',\n",
        " 't': 'v',\n",
        " 'u': 'k',\n",
        " 'v': 'p',\n",
        " 'w': 'm',\n",
        " 'x': 's',\n",
        " 'y': 't',\n",
        " 'z': 'n'}"
       ]
      }
     ],
     "prompt_number": 11
    },
    {
     "cell_type": "code",
     "collapsed": false,
     "input": [
      "def encode(word):\n",
      "    code = \"\"\n",
      "    for ch in word:\n",
      "        code += CIPHER[ch]\n",
      "    return code\n",
      "\n"
     ],
     "language": "python",
     "metadata": {},
     "outputs": [],
     "prompt_number": 14
    },
    {
     "cell_type": "code",
     "collapsed": false,
     "input": [
      "word = raw_input()"
     ],
     "language": "python",
     "metadata": {},
     "outputs": [
      {
       "name": "stdout",
       "output_type": "stream",
       "stream": "stdout",
       "text": [
        "hello\n"
       ]
      }
     ],
     "prompt_number": 15
    },
    {
     "cell_type": "code",
     "collapsed": false,
     "input": [
      "encode(word)"
     ],
     "language": "python",
     "metadata": {},
     "outputs": [
      {
       "metadata": {},
       "output_type": "pyout",
       "prompt_number": 16,
       "text": [
        "'ocggi'"
       ]
      }
     ],
     "prompt_number": 16
    },
    {
     "cell_type": "code",
     "collapsed": false,
     "input": [
      "def decode(code):\n",
      "    word = \"\"\n",
      "    for ch in code:\n",
      "        for key, value in CIPHER.items():\n",
      "            if ch == value:\n",
      "                word += key\n",
      "    return word"
     ],
     "language": "python",
     "metadata": {},
     "outputs": [],
     "prompt_number": 17
    },
    {
     "cell_type": "code",
     "collapsed": false,
     "input": [
      "decode('ocggi')"
     ],
     "language": "python",
     "metadata": {},
     "outputs": [
      {
       "metadata": {},
       "output_type": "pyout",
       "prompt_number": 19,
       "text": [
        "'hello'"
       ]
      }
     ],
     "prompt_number": 19
    },
    {
     "cell_type": "code",
     "collapsed": false,
     "input": [
      "word = raw_input(\"What word you want encode?\")\n",
      "code = encode(word)\n",
      "print code"
     ],
     "language": "python",
     "metadata": {},
     "outputs": [
      {
       "name": "stdout",
       "output_type": "stream",
       "stream": "stdout",
       "text": [
        "What word you want encode?helloworld\n"
       ]
      },
      {
       "output_type": "stream",
       "stream": "stdout",
       "text": [
        "ocggimirgx\n"
       ]
      }
     ],
     "prompt_number": 27
    },
    {
     "cell_type": "code",
     "collapsed": false,
     "input": [
      "code = raw_input(\"What code do you get?\")\n",
      "word = decode(code)\n",
      "print code + \" decodes to \" + word"
     ],
     "language": "python",
     "metadata": {},
     "outputs": [
      {
       "name": "stdout",
       "output_type": "stream",
       "stream": "stdout",
       "text": [
        "What code do you get?occggimirgx\n"
       ]
      },
      {
       "output_type": "stream",
       "stream": "stdout",
       "text": [
        "occggimirgx decodes to heelloworld\n"
       ]
      }
     ],
     "prompt_number": 28
    },
    {
     "cell_type": "code",
     "collapsed": false,
     "input": [
      "%save 0025.py 3 14 17 11 27 28"
     ],
     "language": "python",
     "metadata": {},
     "outputs": [
      {
       "name": "stdout",
       "output_type": "stream",
       "stream": "stdout",
       "text": [
        "File `0025.py` exists. Overwrite (y/[N])?  y\n"
       ]
      },
      {
       "output_type": "stream",
       "stream": "stdout",
       "text": [
        "The following commands were written to file `0025.py`:\n",
        "import random\n",
        "\n",
        "CIPHER = {}\n",
        "LETTERS = 'abcdefghijklmnopqrstuvwxyz'\n",
        "\n",
        "def init():\n",
        "    letter_list = list(LETTERS)\n",
        "    random.shuffle(letter_list)\n",
        "    for ch in LETTERS:\n",
        "        CIPHER[ch] = letter_list.pop()\n",
        "def encode(word):\n",
        "    code = \"\"\n",
        "    for ch in word:\n",
        "        code += CIPHER[ch]\n",
        "    return code\n",
        "def decode(code):\n",
        "    word = \"\"\n",
        "    for ch in code:\n",
        "        for key, value in CIPHER.items():\n",
        "            if ch == value:\n",
        "                word += key\n",
        "    return word\n",
        "        \n",
        "init()\n",
        "CIPHER\n",
        "word = raw_input(\"What word you want encode?\")\n",
        "code = encode(word)\n",
        "print code\n",
        "code = raw_input(\"What code do you get?\")\n",
        "word = decode(code)\n",
        "print code + \" decodes to \" + word\n"
       ]
      }
     ],
     "prompt_number": 31
    },
    {
     "cell_type": "code",
     "collapsed": false,
     "input": [],
     "language": "python",
     "metadata": {},
     "outputs": []
    }
   ],
   "metadata": {}
  }
 ]
}