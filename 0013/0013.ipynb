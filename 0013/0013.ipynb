{
 "metadata": {
  "name": "",
  "signature": "sha256:dbad282e061249c8b9ca548925927a15d125de2a3bec88a0c2f5eeab5b3b1dc6"
 },
 "nbformat": 3,
 "nbformat_minor": 0,
 "worksheets": [
  {
   "cells": [
    {
     "cell_type": "code",
     "collapsed": false,
     "input": [
      "import urllib2\n",
      "import urllib\n",
      "import re\n",
      "import os\n",
      "# url = \"http://tieba.baidu.com/p/2166231880\"\n",
      "html_content = urllib2.urlopen(url).read()\n"
     ],
     "language": "python",
     "metadata": {},
     "outputs": [],
     "prompt_number": 1
    },
    {
     "cell_type": "code",
     "collapsed": false,
     "input": [
      "# get picture url method 1\n",
      "r = re.compile('<img src=\"(.*?)\"')\n",
      "picture_url_list = r.findall(html_content.decode('utf-8'))\n",
      "\n"
     ],
     "language": "python",
     "metadata": {},
     "outputs": [],
     "prompt_number": 2
    },
    {
     "cell_type": "code",
     "collapsed": false,
     "input": [
      "# get picture url method 2\n",
      "from bs4 import BeautifulSoup\n",
      "soup = BeautifulSoup(html_content)\n",
      "    #print soup\n",
      "picture_url_list = []\n",
      "\n",
      "for img in  soup.find_all('img', \"BDE_Image\"):\n",
      "    picture_url_list.append(img['src'])"
     ],
     "language": "python",
     "metadata": {},
     "outputs": [],
     "prompt_number": 3
    },
    {
     "cell_type": "code",
     "collapsed": false,
     "input": [
      "picture_url_list"
     ],
     "language": "python",
     "metadata": {},
     "outputs": [
      {
       "metadata": {},
       "output_type": "pyout",
       "prompt_number": 4,
       "text": [
        "['http://imgsrc.baidu.com/forum/w%3D580/sign=eb261c7877f082022d9291377bfafb8a/6361c4fc1e178a82ff6c87fbf203738da877e8e5.jpg',\n",
        " 'http://imgsrc.baidu.com/forum/w%3D580/sign=96da1aa17fcb0a4685228b315b62f63e/c9733f9b033b5bb553c3d8a532d3d539b600bc19.jpg',\n",
        " 'http://imgsrc.baidu.com/forum/w%3D580/sign=aba15f33d509b3deebbfe460fcbe6cd3/d1092e1f95cad1c85a69047c7b3e6709c83d5167.jpg',\n",
        " 'http://imgsrc.baidu.com/forum/w%3D580/sign=93d2646b7b3e6709be0045f70bc69fb8/7302dd88d43f87949096d062d61b0ef41ad53adc.jpg']"
       ]
      }
     ],
     "prompt_number": 4
    },
    {
     "cell_type": "code",
     "collapsed": false,
     "input": [
      "os.mkdir('pictures')\n",
      "os.chdir(os.path.join(os.getcwd(), 'pictures'))"
     ],
     "language": "python",
     "metadata": {},
     "outputs": [],
     "prompt_number": 5
    },
    {
     "cell_type": "code",
     "collapsed": false,
     "input": [
      "for i in range(len(picture_url_list)):\n",
      "    picture_name = str(i) + '.jpg'\n",
      "    try:\n",
      "        urllib.urlretrieve(picture_url_list[i], picture_name)\n",
      "        print(\"Success to download \" + picture_url_list[i])\n",
      "    except:\n",
      "        print(\"Fail to download \" + picture_url_list[i])"
     ],
     "language": "python",
     "metadata": {},
     "outputs": [
      {
       "output_type": "stream",
       "stream": "stdout",
       "text": [
        "Success to download http://imgsrc.baidu.com/forum/w%3D580/sign=eb261c7877f082022d9291377bfafb8a/6361c4fc1e178a82ff6c87fbf203738da877e8e5.jpg\n",
        "Success to download http://imgsrc.baidu.com/forum/w%3D580/sign=96da1aa17fcb0a4685228b315b62f63e/c9733f9b033b5bb553c3d8a532d3d539b600bc19.jpg\n",
        "Success to download http://imgsrc.baidu.com/forum/w%3D580/sign=aba15f33d509b3deebbfe460fcbe6cd3/d1092e1f95cad1c85a69047c7b3e6709c83d5167.jpg"
       ]
      },
      {
       "output_type": "stream",
       "stream": "stdout",
       "text": [
        "\n",
        "Success to download http://imgsrc.baidu.com/forum/w%3D580/sign=93d2646b7b3e6709be0045f70bc69fb8/7302dd88d43f87949096d062d61b0ef41ad53adc.jpg"
       ]
      },
      {
       "output_type": "stream",
       "stream": "stdout",
       "text": [
        "\n"
       ]
      }
     ],
     "prompt_number": 6
    },
    {
     "cell_type": "code",
     "collapsed": false,
     "input": [
      "os.getcwd()"
     ],
     "language": "python",
     "metadata": {},
     "outputs": [
      {
       "metadata": {},
       "output_type": "pyout",
       "prompt_number": 23,
       "text": [
        "'/Users/linzifan/.Trash/pictures 4.55.16 PM/pictures'"
       ]
      }
     ],
     "prompt_number": 23
    },
    {
     "cell_type": "code",
     "collapsed": false,
     "input": [
      "%save 0013.py 1-6"
     ],
     "language": "python",
     "metadata": {},
     "outputs": [
      {
       "output_type": "stream",
       "stream": "stdout",
       "text": [
        "The following commands were written to file `0013.py`:\n",
        "import urllib2\n",
        "import urllib\n",
        "import re\n",
        "import os\n",
        "# url = \"http://tieba.baidu.com/p/2166231880\"\n",
        "url = \"http://tieba.baidu.com/p/3640309931\"\n",
        "html_content = urllib2.urlopen(url).read()\n",
        "# get picture url method 1\n",
        "r = re.compile('<img src=\"(.*?)\"')\n",
        "picture_url_list = r.findall(html_content.decode('utf-8'))\n",
        "# get picture url method 2\n",
        "from bs4 import BeautifulSoup\n",
        "soup = BeautifulSoup(html_content)\n",
        "    #print soup\n",
        "picture_url_list = []\n",
        "\n",
        "for img in  soup.find_all('img', \"BDE_Image\"):\n",
        "    picture_url_list.append(img['src'])\n",
        "picture_url_list\n",
        "os.mkdir('pictures')\n",
        "os.chdir(os.path.join(os.getcwd(), 'pictures'))\n",
        "for i in range(len(picture_url_list)):\n",
        "    picture_name = str(i) + '.jpg'\n",
        "    try:\n",
        "        urllib.urlretrieve(picture_url_list[i], picture_name)\n",
        "        print(\"Success to download \" + picture_url_list[i])\n",
        "    except:\n",
        "        print(\"Fail to download \" + picture_url_list[i])\n"
       ]
      }
     ],
     "prompt_number": 9
    },
    {
     "cell_type": "code",
     "collapsed": false,
     "input": [],
     "language": "python",
     "metadata": {},
     "outputs": []
    }
   ],
   "metadata": {}
  }
 ]
}