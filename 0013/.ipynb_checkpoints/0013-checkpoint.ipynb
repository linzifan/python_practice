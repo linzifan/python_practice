{
 "metadata": {
  "name": "",
  "signature": "sha256:c127a37b11eebcc52ba13e5f4dc3e20de2772cf06e96dd8d14a7fa1cca595641"
 },
 "nbformat": 3,
 "nbformat_minor": 0,
 "worksheets": [
  {
   "cells": [
    {
     "cell_type": "code",
     "collapsed": false,
     "input": [
      "import urllib2\n",
      "import urllib\n",
      "import re\n",
      "import os\n",
      "url = \"http://tieba.baidu.com/p/3648831750\"\n",
      "html_content = urllib2.urlopen(url).read()\n",
      "# html_content"
     ],
     "language": "python",
     "metadata": {},
     "outputs": [],
     "prompt_number": 24
    },
    {
     "cell_type": "code",
     "collapsed": false,
     "input": [
      "# get picture url method 1\n",
      "r = re.compile('<img src=\"(.*?)\"')\n",
      "picture_url_list = r.findall(html_content.decode('utf-8'))\n",
      "\n"
     ],
     "language": "python",
     "metadata": {},
     "outputs": [],
     "prompt_number": 12
    },
    {
     "cell_type": "code",
     "collapsed": false,
     "input": [
      "# get picture url method 2\n",
      "from bs4 import BeautifulSoup\n",
      "soup = BeautifulSoup(html_content)\n",
      "#print soup\n",
      "picture_url_list = []\n",
      "\n",
      "for img in  soup.find_all('img', \"BDE_Image\"):\n",
      "    picture_url_list.append(img['src'])"
     ],
     "language": "python",
     "metadata": {},
     "outputs": [],
     "prompt_number": 25
    },
    {
     "cell_type": "code",
     "collapsed": false,
     "input": [
      "picture_url_list"
     ],
     "language": "python",
     "metadata": {},
     "outputs": [
      {
       "metadata": {},
       "output_type": "pyout",
       "prompt_number": 26,
       "text": [
        "['http://imgsrc.baidu.com/forum/w%3D580/sign=20225759d954564ee565e43183df9cde/1c584a34970a304e4c69cbb0d5c8a786c8175cfc.jpg',\n",
        " 'http://imgsrc.baidu.com/forum/w%3D580/sign=a75a4fa5adec8a13141a57e8c7029157/c1e34d2309f7905268542c7408f3d7ca7acbd5fd.jpg',\n",
        " 'http://imgsrc.baidu.com/forum/w%3D580/sign=72431cd38626cffc692abfba89014a7d/cf3480d4b31c8701648dd8ac237f9e2f0708ff0d.jpg',\n",
        " 'http://imgsrc.baidu.com/forum/w%3D580/sign=0f340f75ddf9d72a17641015e42b282a/d46dcd5c10385343ee8aec6b9713b07ecb8088fe.jpg',\n",
        " 'http://imgsrc.baidu.com/forum/w%3D580/sign=4d6f21446309c93d07f20effaf3cf8bb/37cfdf3f8794a4c2f9668c610af41bd5ac6e39fe.jpg',\n",
        " 'http://imgsrc.baidu.com/forum/w%3D580/sign=f640e87a3ef33a879e6d0012f65d1018/4c735282b2b7d0a22f8d6fd7cfef76094a369aff.jpg']"
       ]
      }
     ],
     "prompt_number": 26
    },
    {
     "cell_type": "code",
     "collapsed": false,
     "input": [
      "# os.mkdir('pictures')\n",
      "os.chdir(os.path.join('/Users/linzifan/Documents/python/python_practice/0013', 'pictures'))"
     ],
     "language": "python",
     "metadata": {},
     "outputs": [],
     "prompt_number": 31
    },
    {
     "cell_type": "code",
     "collapsed": false,
     "input": [
      "for i in range(len(picture_url_list)):\n",
      "    picture_name = str(i) + '.jpg'\n",
      "    try:\n",
      "        urllib.urlretrieve(picture_url_list[i], picture_name)\n",
      "        print(\"Success to download \" + picture_url_list[i])\n",
      "    except:\n",
      "        print(\"Fail to download \" + picture_url_list[i])"
     ],
     "language": "python",
     "metadata": {},
     "outputs": [
      {
       "output_type": "stream",
       "stream": "stdout",
       "text": [
        "Success to download http://imgsrc.baidu.com/forum/w%3D580/sign=20225759d954564ee565e43183df9cde/1c584a34970a304e4c69cbb0d5c8a786c8175cfc.jpg\n",
        "Success to download http://imgsrc.baidu.com/forum/w%3D580/sign=a75a4fa5adec8a13141a57e8c7029157/c1e34d2309f7905268542c7408f3d7ca7acbd5fd.jpg"
       ]
      },
      {
       "output_type": "stream",
       "stream": "stdout",
       "text": [
        "\n",
        "Success to download http://imgsrc.baidu.com/forum/w%3D580/sign=72431cd38626cffc692abfba89014a7d/cf3480d4b31c8701648dd8ac237f9e2f0708ff0d.jpg"
       ]
      },
      {
       "output_type": "stream",
       "stream": "stdout",
       "text": [
        "\n",
        "Success to download http://imgsrc.baidu.com/forum/w%3D580/sign=0f340f75ddf9d72a17641015e42b282a/d46dcd5c10385343ee8aec6b9713b07ecb8088fe.jpg"
       ]
      },
      {
       "output_type": "stream",
       "stream": "stdout",
       "text": [
        "\n",
        "Success to download http://imgsrc.baidu.com/forum/w%3D580/sign=4d6f21446309c93d07f20effaf3cf8bb/37cfdf3f8794a4c2f9668c610af41bd5ac6e39fe.jpg"
       ]
      },
      {
       "output_type": "stream",
       "stream": "stdout",
       "text": [
        "\n",
        "Success to download http://imgsrc.baidu.com/forum/w%3D580/sign=f640e87a3ef33a879e6d0012f65d1018/4c735282b2b7d0a22f8d6fd7cfef76094a369aff.jpg"
       ]
      },
      {
       "output_type": "stream",
       "stream": "stdout",
       "text": [
        "\n"
       ]
      }
     ],
     "prompt_number": 32
    },
    {
     "cell_type": "code",
     "collapsed": false,
     "input": [
      "os.getcwd()"
     ],
     "language": "python",
     "metadata": {},
     "outputs": [
      {
       "metadata": {},
       "output_type": "pyout",
       "prompt_number": 19,
       "text": [
        "'/Users/linzifan/Documents/python/python_practice/0013/pictures'"
       ]
      }
     ],
     "prompt_number": 19
    },
    {
     "cell_type": "code",
     "collapsed": false,
     "input": [
      "%save 0013.py 1-6"
     ],
     "language": "python",
     "metadata": {},
     "outputs": [
      {
       "output_type": "stream",
       "stream": "stdout",
       "text": [
        "The following commands were written to file `0013.py`:\n",
        "import urllib2\n",
        "import urllib\n",
        "import re\n",
        "import os\n",
        "# url = \"http://tieba.baidu.com/p/2166231880\"\n",
        "url = \"http://tieba.baidu.com/p/3640309931\"\n",
        "html_content = urllib2.urlopen(url).read()\n",
        "# get picture url method 1\n",
        "r = re.compile('<img src=\"(.*?)\"')\n",
        "picture_url_list = r.findall(html_content.decode('utf-8'))\n",
        "# get picture url method 2\n",
        "from bs4 import BeautifulSoup\n",
        "soup = BeautifulSoup(html_content)\n",
        "    #print soup\n",
        "picture_url_list = []\n",
        "\n",
        "for img in  soup.find_all('img', \"BDE_Image\"):\n",
        "    picture_url_list.append(img['src'])\n",
        "picture_url_list\n",
        "os.mkdir('pictures')\n",
        "os.chdir(os.path.join(os.getcwd(), 'pictures'))\n",
        "for i in range(len(picture_url_list)):\n",
        "    picture_name = str(i) + '.jpg'\n",
        "    try:\n",
        "        urllib.urlretrieve(picture_url_list[i], picture_name)\n",
        "        print(\"Success to download \" + picture_url_list[i])\n",
        "    except:\n",
        "        print(\"Fail to download \" + picture_url_list[i])\n"
       ]
      }
     ],
     "prompt_number": 9
    },
    {
     "cell_type": "code",
     "collapsed": false,
     "input": [],
     "language": "python",
     "metadata": {},
     "outputs": []
    }
   ],
   "metadata": {}
  }
 ]
}