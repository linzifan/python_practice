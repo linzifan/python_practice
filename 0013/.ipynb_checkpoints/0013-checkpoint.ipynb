{
 "metadata": {
  "name": "",
  "signature": "sha256:20a8fd95f00c31786efefa337e4b3e39cae59bfc827f8926219280244f0fb0c9"
 },
 "nbformat": 3,
 "nbformat_minor": 0,
 "worksheets": [
  {
   "cells": [
    {
     "cell_type": "code",
     "collapsed": false,
     "input": [
      "import urllib2\n",
      "import urllib\n",
      "import re\n",
      "import os\n",
      "# url = \"http://tieba.baidu.com/p/2166231880\"\n",
      "url = \"http://tieba.baidu.com/p/3640309931\"\n",
      "html_content = urllib2.urlopen(url).read()\n"
     ],
     "language": "python",
     "metadata": {},
     "outputs": [],
     "prompt_number": 17
    },
    {
     "cell_type": "code",
     "collapsed": false,
     "input": [
      "# get picture url method 1\n",
      "r = re.compile('<img src=\"(.*?)\"')\n",
      "picture_url_list = r.findall(html_content.decode('utf-8'))\n",
      "\n"
     ],
     "language": "python",
     "metadata": {},
     "outputs": [],
     "prompt_number": 2
    },
    {
     "cell_type": "code",
     "collapsed": false,
     "input": [
      "# get picture url method 2\n",
      "from bs4 import BeautifulSoup\n",
      "soup = BeautifulSoup(html_content)\n",
      "    #print soup\n",
      "picture_url_list = []\n",
      "\n",
      "for img in  soup.find_all('img', \"BDE_Image\"):\n",
      "    picture_url_list.append(img['src'])"
     ],
     "language": "python",
     "metadata": {},
     "outputs": [],
     "prompt_number": 18
    },
    {
     "cell_type": "code",
     "collapsed": false,
     "input": [
      "picture_url_list"
     ],
     "language": "python",
     "metadata": {},
     "outputs": [
      {
       "metadata": {},
       "output_type": "pyout",
       "prompt_number": 19,
       "text": [
        "['http://imgsrc.baidu.com/forum/w%3D580/sign=eb261c7877f082022d9291377bfafb8a/6361c4fc1e178a82ff6c87fbf203738da877e8e5.jpg',\n",
        " 'http://imgsrc.baidu.com/forum/w%3D580/sign=96da1aa17fcb0a4685228b315b62f63e/c9733f9b033b5bb553c3d8a532d3d539b600bc19.jpg',\n",
        " 'http://imgsrc.baidu.com/forum/w%3D580/sign=aba15f33d509b3deebbfe460fcbe6cd3/d1092e1f95cad1c85a69047c7b3e6709c83d5167.jpg',\n",
        " 'http://imgsrc.baidu.com/forum/w%3D580/sign=93d2646b7b3e6709be0045f70bc69fb8/7302dd88d43f87949096d062d61b0ef41ad53adc.jpg']"
       ]
      }
     ],
     "prompt_number": 19
    },
    {
     "cell_type": "code",
     "collapsed": false,
     "input": [
      "os.mkdir('pictures')\n",
      "os.chdir(os.path.join(os.getcwd(), 'pictures'))"
     ],
     "language": "python",
     "metadata": {},
     "outputs": [
      {
       "ename": "OSError",
       "evalue": "[Errno 17] File exists: 'pictures'",
       "output_type": "pyerr",
       "traceback": [
        "\u001b[0;31m---------------------------------------------------------------------------\u001b[0m\n\u001b[0;31mOSError\u001b[0m                                   Traceback (most recent call last)",
        "\u001b[0;32m<ipython-input-29-3fede35e80c5>\u001b[0m in \u001b[0;36m<module>\u001b[0;34m()\u001b[0m\n\u001b[0;32m----> 1\u001b[0;31m \u001b[0mos\u001b[0m\u001b[0;34m.\u001b[0m\u001b[0mmkdir\u001b[0m\u001b[0;34m(\u001b[0m\u001b[0;34m'pictures'\u001b[0m\u001b[0;34m)\u001b[0m\u001b[0;34m\u001b[0m\u001b[0m\n\u001b[0m\u001b[1;32m      2\u001b[0m \u001b[0mos\u001b[0m\u001b[0;34m.\u001b[0m\u001b[0mchdir\u001b[0m\u001b[0;34m(\u001b[0m\u001b[0mos\u001b[0m\u001b[0;34m.\u001b[0m\u001b[0mpath\u001b[0m\u001b[0;34m.\u001b[0m\u001b[0mjoin\u001b[0m\u001b[0;34m(\u001b[0m\u001b[0;34m'/Users/linzifan/Documents/python/python_practice/0013'\u001b[0m\u001b[0;34m,\u001b[0m \u001b[0;34m'pictures'\u001b[0m\u001b[0;34m)\u001b[0m\u001b[0;34m)\u001b[0m\u001b[0;34m\u001b[0m\u001b[0m\n",
        "\u001b[0;31mOSError\u001b[0m: [Errno 17] File exists: 'pictures'"
       ]
      }
     ],
     "prompt_number": 29
    },
    {
     "cell_type": "code",
     "collapsed": false,
     "input": [
      "for i in range(len(picture_url_list)):\n",
      "    picture_name = str(i) + '.jpg'\n",
      "    try:\n",
      "        urllib.urlretrieve(picture_url_list[i], picture_name)\n",
      "        print(\"Success to download \" + picture_url_list[i])\n",
      "    except:\n",
      "        print(\"Fail to download \" + picture_url_list[i])"
     ],
     "language": "python",
     "metadata": {},
     "outputs": [
      {
       "output_type": "stream",
       "stream": "stdout",
       "text": [
        "Success to download http://imgsrc.baidu.com/forum/w%3D580/sign=eb261c7877f082022d9291377bfafb8a/6361c4fc1e178a82ff6c87fbf203738da877e8e5.jpg\n",
        "Success to download http://imgsrc.baidu.com/forum/w%3D580/sign=96da1aa17fcb0a4685228b315b62f63e/c9733f9b033b5bb553c3d8a532d3d539b600bc19.jpg"
       ]
      },
      {
       "output_type": "stream",
       "stream": "stdout",
       "text": [
        "\n",
        "Success to download http://imgsrc.baidu.com/forum/w%3D580/sign=aba15f33d509b3deebbfe460fcbe6cd3/d1092e1f95cad1c85a69047c7b3e6709c83d5167.jpg"
       ]
      },
      {
       "output_type": "stream",
       "stream": "stdout",
       "text": [
        "\n",
        "Success to download http://imgsrc.baidu.com/forum/w%3D580/sign=93d2646b7b3e6709be0045f70bc69fb8/7302dd88d43f87949096d062d61b0ef41ad53adc.jpg"
       ]
      },
      {
       "output_type": "stream",
       "stream": "stdout",
       "text": [
        "\n"
       ]
      }
     ],
     "prompt_number": 22
    },
    {
     "cell_type": "code",
     "collapsed": false,
     "input": [
      "os.getcwd()"
     ],
     "language": "python",
     "metadata": {},
     "outputs": [
      {
       "metadata": {},
       "output_type": "pyout",
       "prompt_number": 23,
       "text": [
        "'/Users/linzifan/.Trash/pictures 4.55.16 PM/pictures'"
       ]
      }
     ],
     "prompt_number": 23
    },
    {
     "cell_type": "code",
     "collapsed": false,
     "input": [],
     "language": "python",
     "metadata": {},
     "outputs": []
    }
   ],
   "metadata": {}
  }
 ]
}