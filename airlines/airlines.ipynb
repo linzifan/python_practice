{
 "metadata": {
  "name": "",
  "signature": "sha256:565b85f959ea93f71624be9d3a86324288c129edd121928b66451ebda596c327"
 },
 "nbformat": 3,
 "nbformat_minor": 0,
 "worksheets": [
  {
   "cells": [
    {
     "cell_type": "code",
     "collapsed": false,
     "input": [
      "%load chnairdes.py"
     ],
     "language": "python",
     "metadata": {},
     "outputs": [],
     "prompt_number": 1
    },
    {
     "cell_type": "code",
     "collapsed": false,
     "input": [
      "import requests\n",
      "from bs4 import BeautifulSoup\n",
      "import csv\n",
      "\n",
      "\n",
      "url_dic = {\"CA.csv\":\"http://en.wikipedia.org/wiki/Air_China_destinations\",\n",
      "           \"MU.csv\":\"http://en.wikipedia.org/wiki/China_Eastern_Airlines_destinations\",\n",
      "           \"CZ.csv\":\"http://en.wikipedia.org/wiki/China_Southern_Airlines_destinations\",\n",
      "           \"HU.csv\":\"http://en.wikipedia.org/wiki/Hainan_Airlines_destinations\"}\n",
      "\n",
      "for item in url_dic.items():\n",
      "    # get url\n",
      "    url = item[1]\n",
      "    page = requests.get(url)\n",
      "    soup = BeautifulSoup(page.text)\n",
      "    alltables = soup.findAll('table')\n",
      "    # Identify the table of destinations\n",
      "    # table has the structure: City | Province | Country | IATA | ICAO | Airport\n",
      "    for i in range(len(alltables)):\n",
      "        try:\n",
      "            if alltables[i].findAll('th')[0].get_text() == \"City\":\n",
      "                break\n",
      "        except:\n",
      "            continue\n",
      "    # write csv\n",
      "    with open(item[0],'wb') as f:\n",
      "        filewriter = csv.writer(f, delimiter = ',')\n",
      "        filewriter.writerow([\"City\", \"Country\", \"IATA\", \"ICAO\", \"Airport\"])\n",
      "        for row in alltables[i].findAll('tr'):\n",
      "            try:\n",
      "                city = row.findAll('td')[0].get_text().splitlines()[0]\n",
      "                country = row.findAll('td')[2].get_text()\n",
      "                iata = row.findAll('td')[3].get_text()\n",
      "                icao = row.findAll('td')[4].get_text()\n",
      "                airport = row.findAll('td')[5].get_text()\n",
      "                filewriter.writerow([city, country, iata, icao, airport])\n",
      "            except:\n",
      "                continue\n",
      "    f.close()\n",
      "    print item[0] + \" has been created.\"\n"
     ],
     "language": "python",
     "metadata": {},
     "outputs": [
      {
       "output_type": "stream",
       "stream": "stdout",
       "text": [
        "CA.csv has been created.\n",
        "HU.csv has been created."
       ]
      },
      {
       "output_type": "stream",
       "stream": "stdout",
       "text": [
        "\n",
        "CZ.csv has been created."
       ]
      },
      {
       "output_type": "stream",
       "stream": "stdout",
       "text": [
        "\n",
        "MU.csv has been created."
       ]
      },
      {
       "output_type": "stream",
       "stream": "stdout",
       "text": [
        "\n"
       ]
      }
     ],
     "prompt_number": 1
    },
    {
     "cell_type": "code",
     "collapsed": false,
     "input": [],
     "language": "python",
     "metadata": {},
     "outputs": []
    }
   ],
   "metadata": {}
  }
 ]
}