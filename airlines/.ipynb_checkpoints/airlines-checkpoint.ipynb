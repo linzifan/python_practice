{
 "metadata": {
  "name": "",
  "signature": "sha256:79720a448984a0362e769b3da3f6ca2951f017c6f13b1d83b0cec02ba113a596"
 },
 "nbformat": 3,
 "nbformat_minor": 0,
 "worksheets": []
}